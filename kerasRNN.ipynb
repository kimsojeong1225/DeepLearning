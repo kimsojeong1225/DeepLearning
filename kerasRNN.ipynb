{
  "nbformat": 4,
  "nbformat_minor": 0,
  "metadata": {
    "colab": {
      "name": "kerasRNN.ipynb",
      "provenance": [],
      "authorship_tag": "ABX9TyNYrpvupfG4L4a2i5HULLLz",
      "include_colab_link": true
    },
    "kernelspec": {
      "name": "python3",
      "display_name": "Python 3"
    }
  },
  "cells": [
    {
      "cell_type": "markdown",
      "metadata": {
        "id": "view-in-github",
        "colab_type": "text"
      },
      "source": [
        "<a href=\"https://colab.research.google.com/github/kimsojeong1225/DeepLearning/blob/master/kerasRNN.ipynb\" target=\"_parent\"><img src=\"https://colab.research.google.com/assets/colab-badge.svg\" alt=\"Open In Colab\"/></a>"
      ]
    },
    {
      "cell_type": "markdown",
      "metadata": {
        "id": "gXylxNynbBvE",
        "colab_type": "text"
      },
      "source": [
        "# 6.1 텍스트 데이터 다루기"
      ]
    },
    {
      "cell_type": "markdown",
      "metadata": {
        "id": "xmwUsiJvBURn",
        "colab_type": "text"
      },
      "source": [
        "## 6.1.1 단어와 문자의 원-핫 인코딩"
      ]
    },
    {
      "cell_type": "markdown",
      "metadata": {
        "id": "232fom47fUtH",
        "colab_type": "text"
      },
      "source": [
        "### 코드 6-1 : 단어 수준의 원-핫 인코딩하기"
      ]
    },
    {
      "cell_type": "code",
      "metadata": {
        "id": "4YteNodaYWK8",
        "colab_type": "code",
        "colab": {}
      },
      "source": [
        "import numpy as np\n",
        "samples=['the cat sat on the mat','the dog ate my homework']"
      ],
      "execution_count": 0,
      "outputs": []
    },
    {
      "cell_type": "code",
      "metadata": {
        "id": "ZPMKowOvf1I8",
        "colab_type": "code",
        "colab": {}
      },
      "source": [
        "token_index={}\n",
        "\n",
        "for sample in samples:\n",
        "  for word in sample.split():\n",
        "    if word not in token_index:\n",
        "      token_index[word]=len(token_index)+1"
      ],
      "execution_count": 0,
      "outputs": []
    },
    {
      "cell_type": "code",
      "metadata": {
        "id": "LP5YjEk0gIDY",
        "colab_type": "code",
        "outputId": "074ec517-406c-42dd-aedf-f11da321a6bc",
        "colab": {
          "base_uri": "https://localhost:8080/",
          "height": 175
        }
      },
      "source": [
        "token_index  #알파벳 순으로 자동정렬되는군"
      ],
      "execution_count": 0,
      "outputs": [
        {
          "output_type": "execute_result",
          "data": {
            "text/plain": [
              "{'ate': 7,\n",
              " 'cat': 2,\n",
              " 'dog': 6,\n",
              " 'homework': 9,\n",
              " 'mat': 5,\n",
              " 'my': 8,\n",
              " 'on': 4,\n",
              " 'sat': 3,\n",
              " 'the': 1}"
            ]
          },
          "metadata": {
            "tags": []
          },
          "execution_count": 3
        }
      ]
    },
    {
      "cell_type": "code",
      "metadata": {
        "id": "1wJRVmixgJW2",
        "colab_type": "code",
        "colab": {}
      },
      "source": [
        "max_length=10\n",
        "\n",
        "results=np.zeros(shape=(len(samples),\n",
        "                        max_length,\n",
        "                        max(token_index.values())+1))"
      ],
      "execution_count": 0,
      "outputs": []
    },
    {
      "cell_type": "code",
      "metadata": {
        "id": "sifWwUGpgkA3",
        "colab_type": "code",
        "outputId": "70139267-2fee-4146-e7f9-72a9fc652651",
        "colab": {
          "base_uri": "https://localhost:8080/",
          "height": 34
        }
      },
      "source": [
        "results.shape"
      ],
      "execution_count": 0,
      "outputs": [
        {
          "output_type": "execute_result",
          "data": {
            "text/plain": [
              "(2, 10, 10)"
            ]
          },
          "metadata": {
            "tags": []
          },
          "execution_count": 9
        }
      ]
    },
    {
      "cell_type": "code",
      "metadata": {
        "id": "T3MNd1M-gjOq",
        "colab_type": "code",
        "outputId": "e0b1b73c-6251-405b-b23d-50927c4116e6",
        "colab": {
          "base_uri": "https://localhost:8080/",
          "height": 386
        }
      },
      "source": [
        "results"
      ],
      "execution_count": 0,
      "outputs": [
        {
          "output_type": "execute_result",
          "data": {
            "text/plain": [
              "array([[[0., 0., 0., 0., 0., 0., 0., 0., 0., 0.],\n",
              "        [0., 0., 0., 0., 0., 0., 0., 0., 0., 0.],\n",
              "        [0., 0., 0., 0., 0., 0., 0., 0., 0., 0.],\n",
              "        [0., 0., 0., 0., 0., 0., 0., 0., 0., 0.],\n",
              "        [0., 0., 0., 0., 0., 0., 0., 0., 0., 0.],\n",
              "        [0., 0., 0., 0., 0., 0., 0., 0., 0., 0.],\n",
              "        [0., 0., 0., 0., 0., 0., 0., 0., 0., 0.],\n",
              "        [0., 0., 0., 0., 0., 0., 0., 0., 0., 0.],\n",
              "        [0., 0., 0., 0., 0., 0., 0., 0., 0., 0.],\n",
              "        [0., 0., 0., 0., 0., 0., 0., 0., 0., 0.]],\n",
              "\n",
              "       [[0., 0., 0., 0., 0., 0., 0., 0., 0., 0.],\n",
              "        [0., 0., 0., 0., 0., 0., 0., 0., 0., 0.],\n",
              "        [0., 0., 0., 0., 0., 0., 0., 0., 0., 0.],\n",
              "        [0., 0., 0., 0., 0., 0., 0., 0., 0., 0.],\n",
              "        [0., 0., 0., 0., 0., 0., 0., 0., 0., 0.],\n",
              "        [0., 0., 0., 0., 0., 0., 0., 0., 0., 0.],\n",
              "        [0., 0., 0., 0., 0., 0., 0., 0., 0., 0.],\n",
              "        [0., 0., 0., 0., 0., 0., 0., 0., 0., 0.],\n",
              "        [0., 0., 0., 0., 0., 0., 0., 0., 0., 0.],\n",
              "        [0., 0., 0., 0., 0., 0., 0., 0., 0., 0.]]])"
            ]
          },
          "metadata": {
            "tags": []
          },
          "execution_count": 10
        }
      ]
    },
    {
      "cell_type": "code",
      "metadata": {
        "id": "sxftefbKgmkX",
        "colab_type": "code",
        "colab": {}
      },
      "source": [
        "for i,sample in enumerate(samples):\n",
        "  for j,word in list(enumerate(sample.split()))[:max_length]:\n",
        "    index=token_index.get(word)\n",
        "    results[i,j,index]=1."
      ],
      "execution_count": 0,
      "outputs": []
    },
    {
      "cell_type": "code",
      "metadata": {
        "id": "CUMe7ueWrnvr",
        "colab_type": "code",
        "outputId": "389cac3f-dcc6-47d2-8772-c79ab21a66c7",
        "colab": {
          "base_uri": "https://localhost:8080/",
          "height": 34
        }
      },
      "source": [
        "results.shape"
      ],
      "execution_count": 0,
      "outputs": [
        {
          "output_type": "execute_result",
          "data": {
            "text/plain": [
              "(2, 10, 10)"
            ]
          },
          "metadata": {
            "tags": []
          },
          "execution_count": 8
        }
      ]
    },
    {
      "cell_type": "code",
      "metadata": {
        "id": "6sXPU-7XsfHk",
        "colab_type": "code",
        "outputId": "c4d85ff5-79dd-4b96-a9c0-05a0ad42e1c1",
        "colab": {
          "base_uri": "https://localhost:8080/",
          "height": 386
        }
      },
      "source": [
        "results"
      ],
      "execution_count": 0,
      "outputs": [
        {
          "output_type": "execute_result",
          "data": {
            "text/plain": [
              "array([[[0., 1., 0., 0., 0., 0., 0., 0., 0., 0.],\n",
              "        [0., 0., 1., 0., 0., 0., 0., 0., 0., 0.],\n",
              "        [0., 0., 0., 1., 0., 0., 0., 0., 0., 0.],\n",
              "        [0., 0., 0., 0., 1., 0., 0., 0., 0., 0.],\n",
              "        [0., 1., 0., 0., 0., 0., 0., 0., 0., 0.],\n",
              "        [0., 0., 0., 0., 0., 1., 0., 0., 0., 0.],\n",
              "        [0., 0., 0., 0., 0., 0., 0., 0., 0., 0.],\n",
              "        [0., 0., 0., 0., 0., 0., 0., 0., 0., 0.],\n",
              "        [0., 0., 0., 0., 0., 0., 0., 0., 0., 0.],\n",
              "        [0., 0., 0., 0., 0., 0., 0., 0., 0., 0.]],\n",
              "\n",
              "       [[0., 1., 0., 0., 0., 0., 0., 0., 0., 0.],\n",
              "        [0., 0., 0., 0., 0., 0., 1., 0., 0., 0.],\n",
              "        [0., 0., 0., 0., 0., 0., 0., 1., 0., 0.],\n",
              "        [0., 0., 0., 0., 0., 0., 0., 0., 1., 0.],\n",
              "        [0., 0., 0., 0., 0., 0., 0., 0., 0., 1.],\n",
              "        [0., 0., 0., 0., 0., 0., 0., 0., 0., 0.],\n",
              "        [0., 0., 0., 0., 0., 0., 0., 0., 0., 0.],\n",
              "        [0., 0., 0., 0., 0., 0., 0., 0., 0., 0.],\n",
              "        [0., 0., 0., 0., 0., 0., 0., 0., 0., 0.],\n",
              "        [0., 0., 0., 0., 0., 0., 0., 0., 0., 0.]]])"
            ]
          },
          "metadata": {
            "tags": []
          },
          "execution_count": 9
        }
      ]
    },
    {
      "cell_type": "markdown",
      "metadata": {
        "id": "pxOBSmaEs7Xr",
        "colab_type": "text"
      },
      "source": [
        "### 코드 6-2 : 문자 수준의 원-핫 인코딩하기"
      ]
    },
    {
      "cell_type": "code",
      "metadata": {
        "id": "pso3bndKsk5l",
        "colab_type": "code",
        "colab": {}
      },
      "source": [
        "import string\n",
        "\n",
        "samples=['The cat sat on the mat.','The dog ate my homework.']\n",
        "characters=string.printable\n",
        "token_index=dict(zip(characters,range(1,len(characters)+1)))"
      ],
      "execution_count": 0,
      "outputs": []
    },
    {
      "cell_type": "code",
      "metadata": {
        "id": "1oqZnRCmdXgE",
        "colab_type": "code",
        "outputId": "d9c7c367-fe88-416b-ce6d-d809967abf7f",
        "colab": {
          "base_uri": "https://localhost:8080/",
          "height": 34
        }
      },
      "source": [
        "characters"
      ],
      "execution_count": 0,
      "outputs": [
        {
          "output_type": "execute_result",
          "data": {
            "text/plain": [
              "'0123456789abcdefghijklmnopqrstuvwxyzABCDEFGHIJKLMNOPQRSTUVWXYZ!\"#$%&\\'()*+,-./:;<=>?@[\\\\]^_`{|}~ \\t\\n\\r\\x0b\\x0c'"
            ]
          },
          "metadata": {
            "tags": []
          },
          "execution_count": 16
        }
      ]
    },
    {
      "cell_type": "code",
      "metadata": {
        "id": "4PcZRaSxtUEq",
        "colab_type": "code",
        "outputId": "ef309b84-b25b-4070-e8ae-833d197d56eb",
        "colab": {
          "base_uri": "https://localhost:8080/",
          "height": 1000
        }
      },
      "source": [
        "token_index"
      ],
      "execution_count": 0,
      "outputs": [
        {
          "output_type": "execute_result",
          "data": {
            "text/plain": [
              "{'\\t': 96,\n",
              " '\\n': 97,\n",
              " '\\x0b': 99,\n",
              " '\\x0c': 100,\n",
              " '\\r': 98,\n",
              " ' ': 95,\n",
              " '!': 63,\n",
              " '\"': 64,\n",
              " '#': 65,\n",
              " '$': 66,\n",
              " '%': 67,\n",
              " '&': 68,\n",
              " \"'\": 69,\n",
              " '(': 70,\n",
              " ')': 71,\n",
              " '*': 72,\n",
              " '+': 73,\n",
              " ',': 74,\n",
              " '-': 75,\n",
              " '.': 76,\n",
              " '/': 77,\n",
              " '0': 1,\n",
              " '1': 2,\n",
              " '2': 3,\n",
              " '3': 4,\n",
              " '4': 5,\n",
              " '5': 6,\n",
              " '6': 7,\n",
              " '7': 8,\n",
              " '8': 9,\n",
              " '9': 10,\n",
              " ':': 78,\n",
              " ';': 79,\n",
              " '<': 80,\n",
              " '=': 81,\n",
              " '>': 82,\n",
              " '?': 83,\n",
              " '@': 84,\n",
              " 'A': 37,\n",
              " 'B': 38,\n",
              " 'C': 39,\n",
              " 'D': 40,\n",
              " 'E': 41,\n",
              " 'F': 42,\n",
              " 'G': 43,\n",
              " 'H': 44,\n",
              " 'I': 45,\n",
              " 'J': 46,\n",
              " 'K': 47,\n",
              " 'L': 48,\n",
              " 'M': 49,\n",
              " 'N': 50,\n",
              " 'O': 51,\n",
              " 'P': 52,\n",
              " 'Q': 53,\n",
              " 'R': 54,\n",
              " 'S': 55,\n",
              " 'T': 56,\n",
              " 'U': 57,\n",
              " 'V': 58,\n",
              " 'W': 59,\n",
              " 'X': 60,\n",
              " 'Y': 61,\n",
              " 'Z': 62,\n",
              " '[': 85,\n",
              " '\\\\': 86,\n",
              " ']': 87,\n",
              " '^': 88,\n",
              " '_': 89,\n",
              " '`': 90,\n",
              " 'a': 11,\n",
              " 'b': 12,\n",
              " 'c': 13,\n",
              " 'd': 14,\n",
              " 'e': 15,\n",
              " 'f': 16,\n",
              " 'g': 17,\n",
              " 'h': 18,\n",
              " 'i': 19,\n",
              " 'j': 20,\n",
              " 'k': 21,\n",
              " 'l': 22,\n",
              " 'm': 23,\n",
              " 'n': 24,\n",
              " 'o': 25,\n",
              " 'p': 26,\n",
              " 'q': 27,\n",
              " 'r': 28,\n",
              " 's': 29,\n",
              " 't': 30,\n",
              " 'u': 31,\n",
              " 'v': 32,\n",
              " 'w': 33,\n",
              " 'x': 34,\n",
              " 'y': 35,\n",
              " 'z': 36,\n",
              " '{': 91,\n",
              " '|': 92,\n",
              " '}': 93,\n",
              " '~': 94}"
            ]
          },
          "metadata": {
            "tags": []
          },
          "execution_count": 17
        }
      ]
    },
    {
      "cell_type": "code",
      "metadata": {
        "id": "8CT7SSc9tVao",
        "colab_type": "code",
        "outputId": "a234d8cb-1e0c-4a80-ac24-a90efe0623dd",
        "colab": {
          "base_uri": "https://localhost:8080/",
          "height": 34
        }
      },
      "source": [
        "max_length=50\n",
        "results=np.zeros((len(samples),max_length,max(token_index.values())+1))\n",
        "results.shape"
      ],
      "execution_count": 0,
      "outputs": [
        {
          "output_type": "execute_result",
          "data": {
            "text/plain": [
              "(2, 50, 101)"
            ]
          },
          "metadata": {
            "tags": []
          },
          "execution_count": 18
        }
      ]
    },
    {
      "cell_type": "code",
      "metadata": {
        "id": "1NUPWV_7tvA1",
        "colab_type": "code",
        "outputId": "34d00650-4406-4f48-8e02-f99ebee72f57",
        "colab": {
          "base_uri": "https://localhost:8080/",
          "height": 843
        }
      },
      "source": [
        "for i,sample in enumerate(samples):\n",
        "  for j,character in enumerate(sample):\n",
        "    print('j',j,'character',character)\n",
        "    index=token_index.get(character)\n",
        "    results[i,j,index]=1."
      ],
      "execution_count": 0,
      "outputs": [
        {
          "output_type": "stream",
          "text": [
            "j 0 character T\n",
            "j 1 character h\n",
            "j 2 character e\n",
            "j 3 character  \n",
            "j 4 character c\n",
            "j 5 character a\n",
            "j 6 character t\n",
            "j 7 character  \n",
            "j 8 character s\n",
            "j 9 character a\n",
            "j 10 character t\n",
            "j 11 character  \n",
            "j 12 character o\n",
            "j 13 character n\n",
            "j 14 character  \n",
            "j 15 character t\n",
            "j 16 character h\n",
            "j 17 character e\n",
            "j 18 character  \n",
            "j 19 character m\n",
            "j 20 character a\n",
            "j 21 character t\n",
            "j 22 character .\n",
            "j 0 character T\n",
            "j 1 character h\n",
            "j 2 character e\n",
            "j 3 character  \n",
            "j 4 character d\n",
            "j 5 character o\n",
            "j 6 character g\n",
            "j 7 character  \n",
            "j 8 character a\n",
            "j 9 character t\n",
            "j 10 character e\n",
            "j 11 character  \n",
            "j 12 character m\n",
            "j 13 character y\n",
            "j 14 character  \n",
            "j 15 character h\n",
            "j 16 character o\n",
            "j 17 character m\n",
            "j 18 character e\n",
            "j 19 character w\n",
            "j 20 character o\n",
            "j 21 character r\n",
            "j 22 character k\n",
            "j 23 character .\n"
          ],
          "name": "stdout"
        }
      ]
    },
    {
      "cell_type": "code",
      "metadata": {
        "id": "289w5ApzuV24",
        "colab_type": "code",
        "outputId": "21e11b69-f705-433d-ab66-abcd1b2d1961",
        "colab": {
          "base_uri": "https://localhost:8080/",
          "height": 122
        }
      },
      "source": [
        "(results[0])[1]"
      ],
      "execution_count": 0,
      "outputs": [
        {
          "output_type": "execute_result",
          "data": {
            "text/plain": [
              "array([0., 0., 0., 0., 0., 0., 0., 0., 0., 0., 0., 0., 0., 0., 0., 0., 0.,\n",
              "       0., 1., 0., 0., 0., 0., 0., 0., 0., 0., 0., 0., 0., 0., 0., 0., 0.,\n",
              "       0., 0., 0., 0., 0., 0., 0., 0., 0., 0., 0., 0., 0., 0., 0., 0., 0.,\n",
              "       0., 0., 0., 0., 0., 0., 0., 0., 0., 0., 0., 0., 0., 0., 0., 0., 0.,\n",
              "       0., 0., 0., 0., 0., 0., 0., 0., 0., 0., 0., 0., 0., 0., 0., 0., 0.,\n",
              "       0., 0., 0., 0., 0., 0., 0., 0., 0., 0., 0., 0., 0., 0., 0., 0.])"
            ]
          },
          "metadata": {
            "tags": []
          },
          "execution_count": 21
        }
      ]
    },
    {
      "cell_type": "markdown",
      "metadata": {
        "id": "juWj_mP7vFkc",
        "colab_type": "text"
      },
      "source": [
        "### 코드 6-3 : 케라스를 사용한 단어 수준의 원-핫 인코딩하기"
      ]
    },
    {
      "cell_type": "code",
      "metadata": {
        "id": "XLIzTHv5uXEE",
        "colab_type": "code",
        "outputId": "0dc2c31a-60a5-4aee-aef2-bd7aa93caf5b",
        "colab": {
          "base_uri": "https://localhost:8080/",
          "height": 34
        }
      },
      "source": [
        "from keras_preprocessing.text import Tokenizer\n",
        "\n",
        "samples=['The cat sat on the mat.','The dog ate my homework']\n",
        "tokenizer=Tokenizer(num_words=1000)  #빈도 높은 1000개 단어 선택하는 토크나이저 객체 만들기\n",
        "tokenizer.fit_on_texts(samples) #단어 인덱스 구축\n",
        "\n",
        "sequences=tokenizer.texts_to_sequences(samples) # 문자열을 정수형 인덱스의 리스트로 반환\n",
        "\n",
        "one_hot_results=tokenizer.texts_to_matrix(samples,mode='binary') #원핫 이진 벡터 표현을 얻음\n",
        "\n",
        "word_index=tokenizer.word_index #계산된 단어 인덱스를 구함\n",
        "print('%s개의고유한 토큰을 찾았습니다.'%len(word_index))"
      ],
      "execution_count": 0,
      "outputs": [
        {
          "output_type": "stream",
          "text": [
            "9개의고유한 토큰을 찾았습니다.\n"
          ],
          "name": "stdout"
        }
      ]
    },
    {
      "cell_type": "code",
      "metadata": {
        "id": "K4lsMpk0xaUd",
        "colab_type": "code",
        "outputId": "93427c1d-836b-43ee-fe5d-c3b3cb67ef28",
        "colab": {
          "base_uri": "https://localhost:8080/",
          "height": 52
        }
      },
      "source": [
        "one_hot_results"
      ],
      "execution_count": 0,
      "outputs": [
        {
          "output_type": "execute_result",
          "data": {
            "text/plain": [
              "array([[0., 1., 1., ..., 0., 0., 0.],\n",
              "       [0., 1., 0., ..., 0., 0., 0.]])"
            ]
          },
          "metadata": {
            "tags": []
          },
          "execution_count": 27
        }
      ]
    },
    {
      "cell_type": "code",
      "metadata": {
        "id": "vc75X1l7xuTD",
        "colab_type": "code",
        "outputId": "8a01f1b1-fc5d-45ae-e8ce-e31bba72d350",
        "colab": {
          "base_uri": "https://localhost:8080/",
          "height": 175
        }
      },
      "source": [
        "word_index"
      ],
      "execution_count": 0,
      "outputs": [
        {
          "output_type": "execute_result",
          "data": {
            "text/plain": [
              "{'ate': 7,\n",
              " 'cat': 2,\n",
              " 'dog': 6,\n",
              " 'homework': 9,\n",
              " 'mat': 5,\n",
              " 'my': 8,\n",
              " 'on': 4,\n",
              " 'sat': 3,\n",
              " 'the': 1}"
            ]
          },
          "metadata": {
            "tags": []
          },
          "execution_count": 17
        }
      ]
    },
    {
      "cell_type": "markdown",
      "metadata": {
        "id": "lDQ_3PqNx1kA",
        "colab_type": "text"
      },
      "source": [
        "### 코드 6-4 : 해싱 기법을 사용한 단어 수준의 원-핫 인코딩하기"
      ]
    },
    {
      "cell_type": "code",
      "metadata": {
        "id": "CWCHgr78xxIq",
        "colab_type": "code",
        "outputId": "61fee123-99c8-42f7-946d-8a987550b94a",
        "colab": {
          "base_uri": "https://localhost:8080/",
          "height": 210
        }
      },
      "source": [
        "samples=['The cat sat on the mat.','The dog ate my homework.']\n",
        "\n",
        "dimensionality=1000\n",
        "max_length=10\n",
        "\n",
        "results=np.zeros((len(samples),max_length,dimensionality))\n",
        "\n",
        "for i,sample in enumerate(samples):\n",
        "  for j,word in list(enumerate(sample.split()))[:max_length]:\n",
        "    index=abs(hash(word))%dimensionality\n",
        "    print(index)\n",
        "    results[i,j,index]=1."
      ],
      "execution_count": 0,
      "outputs": [
        {
          "output_type": "stream",
          "text": [
            "42\n",
            "544\n",
            "827\n",
            "504\n",
            "913\n",
            "37\n",
            "42\n",
            "499\n",
            "346\n",
            "363\n",
            "206\n"
          ],
          "name": "stdout"
        }
      ]
    },
    {
      "cell_type": "code",
      "metadata": {
        "id": "1ZtPkSrugEH2",
        "colab_type": "code",
        "outputId": "189af311-bf05-42a4-a5ae-e692649041e9",
        "colab": {
          "base_uri": "https://localhost:8080/",
          "height": 280
        }
      },
      "source": [
        "results"
      ],
      "execution_count": 0,
      "outputs": [
        {
          "output_type": "execute_result",
          "data": {
            "text/plain": [
              "array([[[0., 0., 0., ..., 0., 0., 0.],\n",
              "        [0., 0., 0., ..., 0., 0., 0.],\n",
              "        [0., 0., 0., ..., 0., 0., 0.],\n",
              "        ...,\n",
              "        [0., 0., 0., ..., 0., 0., 0.],\n",
              "        [0., 0., 0., ..., 0., 0., 0.],\n",
              "        [0., 0., 0., ..., 0., 0., 0.]],\n",
              "\n",
              "       [[0., 0., 0., ..., 0., 0., 0.],\n",
              "        [0., 0., 0., ..., 0., 0., 0.],\n",
              "        [0., 0., 0., ..., 0., 0., 0.],\n",
              "        ...,\n",
              "        [0., 0., 0., ..., 0., 0., 0.],\n",
              "        [0., 0., 0., ..., 0., 0., 0.],\n",
              "        [0., 0., 0., ..., 0., 0., 0.]]])"
            ]
          },
          "metadata": {
            "tags": []
          },
          "execution_count": 28
        }
      ]
    },
    {
      "cell_type": "markdown",
      "metadata": {
        "id": "zVgFeaELBZrt",
        "colab_type": "text"
      },
      "source": [
        "## 6.1.2 단어 임베딩 사용하기"
      ]
    },
    {
      "cell_type": "markdown",
      "metadata": {
        "id": "vNVxWzEsBgMG",
        "colab_type": "text"
      },
      "source": [
        "#### 코드 6-5: Embedding 층의 객체 생성하기"
      ]
    },
    {
      "cell_type": "code",
      "metadata": {
        "id": "eE3Dq4-LBeQ1",
        "colab_type": "code",
        "outputId": "3ac2119f-c1f1-4f2d-9366-1ff524e80257",
        "colab": {
          "base_uri": "https://localhost:8080/",
          "height": 90
        }
      },
      "source": [
        "from tensorflow.keras.layers import Embedding\n",
        "\n",
        "embedding_layer=Embedding(1000,64)"
      ],
      "execution_count": 0,
      "outputs": [
        {
          "output_type": "stream",
          "text": [
            "WARNING:tensorflow:From /tensorflow-1.15.0/python3.6/tensorflow_core/python/keras/initializers.py:119: calling RandomUniform.__init__ (from tensorflow.python.ops.init_ops) with dtype is deprecated and will be removed in a future version.\n",
            "Instructions for updating:\n",
            "Call initializer instance with the dtype argument instead of passing it to the constructor\n"
          ],
          "name": "stdout"
        }
      ]
    },
    {
      "cell_type": "markdown",
      "metadata": {
        "id": "VQ22iH-MBzr3",
        "colab_type": "text"
      },
      "source": [
        "#### 코드6-6: Embedding 층에 사용할 IMDB 데이터 로드하기"
      ]
    },
    {
      "cell_type": "code",
      "metadata": {
        "id": "69qPElIcBwhh",
        "colab_type": "code",
        "outputId": "688edf31-48c9-4d26-8b4a-d1a05a8fa9ea",
        "colab": {
          "base_uri": "https://localhost:8080/",
          "height": 52
        }
      },
      "source": [
        "from keras.datasets import imdb\n",
        "from keras import preprocessing\n",
        "\n",
        "max_features=10000\n",
        "maxlen=20\n",
        "\n",
        "(x_train,y_train),(x_test,y_test)=imdb.load_data(\n",
        "    num_words=max_features\n",
        ")\n"
      ],
      "execution_count": 0,
      "outputs": [
        {
          "output_type": "stream",
          "text": [
            "Downloading data from https://s3.amazonaws.com/text-datasets/imdb.npz\n",
            "17465344/17464789 [==============================] - 1s 0us/step\n"
          ],
          "name": "stdout"
        }
      ]
    },
    {
      "cell_type": "code",
      "metadata": {
        "id": "TRItB9ThD9A8",
        "colab_type": "code",
        "outputId": "60476c09-2eed-40a4-b999-a5d732ef205d",
        "colab": {
          "base_uri": "https://localhost:8080/",
          "height": 177
        }
      },
      "source": [
        "x_train"
      ],
      "execution_count": 0,
      "outputs": [
        {
          "output_type": "execute_result",
          "data": {
            "text/plain": [
              "array([list([1, 14, 22, 16, 43, 530, 973, 1622, 1385, 65, 458, 4468, 66, 3941, 4, 173, 36, 256, 5, 25, 100, 43, 838, 112, 50, 670, 2, 9, 35, 480, 284, 5, 150, 4, 172, 112, 167, 2, 336, 385, 39, 4, 172, 4536, 1111, 17, 546, 38, 13, 447, 4, 192, 50, 16, 6, 147, 2025, 19, 14, 22, 4, 1920, 4613, 469, 4, 22, 71, 87, 12, 16, 43, 530, 38, 76, 15, 13, 1247, 4, 22, 17, 515, 17, 12, 16, 626, 18, 2, 5, 62, 386, 12, 8, 316, 8, 106, 5, 4, 2223, 5244, 16, 480, 66, 3785, 33, 4, 130, 12, 16, 38, 619, 5, 25, 124, 51, 36, 135, 48, 25, 1415, 33, 6, 22, 12, 215, 28, 77, 52, 5, 14, 407, 16, 82, 2, 8, 4, 107, 117, 5952, 15, 256, 4, 2, 7, 3766, 5, 723, 36, 71, 43, 530, 476, 26, 400, 317, 46, 7, 4, 2, 1029, 13, 104, 88, 4, 381, 15, 297, 98, 32, 2071, 56, 26, 141, 6, 194, 7486, 18, 4, 226, 22, 21, 134, 476, 26, 480, 5, 144, 30, 5535, 18, 51, 36, 28, 224, 92, 25, 104, 4, 226, 65, 16, 38, 1334, 88, 12, 16, 283, 5, 16, 4472, 113, 103, 32, 15, 16, 5345, 19, 178, 32]),\n",
              "       list([1, 194, 1153, 194, 8255, 78, 228, 5, 6, 1463, 4369, 5012, 134, 26, 4, 715, 8, 118, 1634, 14, 394, 20, 13, 119, 954, 189, 102, 5, 207, 110, 3103, 21, 14, 69, 188, 8, 30, 23, 7, 4, 249, 126, 93, 4, 114, 9, 2300, 1523, 5, 647, 4, 116, 9, 35, 8163, 4, 229, 9, 340, 1322, 4, 118, 9, 4, 130, 4901, 19, 4, 1002, 5, 89, 29, 952, 46, 37, 4, 455, 9, 45, 43, 38, 1543, 1905, 398, 4, 1649, 26, 6853, 5, 163, 11, 3215, 2, 4, 1153, 9, 194, 775, 7, 8255, 2, 349, 2637, 148, 605, 2, 8003, 15, 123, 125, 68, 2, 6853, 15, 349, 165, 4362, 98, 5, 4, 228, 9, 43, 2, 1157, 15, 299, 120, 5, 120, 174, 11, 220, 175, 136, 50, 9, 4373, 228, 8255, 5, 2, 656, 245, 2350, 5, 4, 9837, 131, 152, 491, 18, 2, 32, 7464, 1212, 14, 9, 6, 371, 78, 22, 625, 64, 1382, 9, 8, 168, 145, 23, 4, 1690, 15, 16, 4, 1355, 5, 28, 6, 52, 154, 462, 33, 89, 78, 285, 16, 145, 95]),\n",
              "       list([1, 14, 47, 8, 30, 31, 7, 4, 249, 108, 7, 4, 5974, 54, 61, 369, 13, 71, 149, 14, 22, 112, 4, 2401, 311, 12, 16, 3711, 33, 75, 43, 1829, 296, 4, 86, 320, 35, 534, 19, 263, 4821, 1301, 4, 1873, 33, 89, 78, 12, 66, 16, 4, 360, 7, 4, 58, 316, 334, 11, 4, 1716, 43, 645, 662, 8, 257, 85, 1200, 42, 1228, 2578, 83, 68, 3912, 15, 36, 165, 1539, 278, 36, 69, 2, 780, 8, 106, 14, 6905, 1338, 18, 6, 22, 12, 215, 28, 610, 40, 6, 87, 326, 23, 2300, 21, 23, 22, 12, 272, 40, 57, 31, 11, 4, 22, 47, 6, 2307, 51, 9, 170, 23, 595, 116, 595, 1352, 13, 191, 79, 638, 89, 2, 14, 9, 8, 106, 607, 624, 35, 534, 6, 227, 7, 129, 113]),\n",
              "       ...,\n",
              "       list([1, 11, 6, 230, 245, 6401, 9, 6, 1225, 446, 2, 45, 2174, 84, 8322, 4007, 21, 4, 912, 84, 2, 325, 725, 134, 2, 1715, 84, 5, 36, 28, 57, 1099, 21, 8, 140, 8, 703, 5, 2, 84, 56, 18, 1644, 14, 9, 31, 7, 4, 9406, 1209, 2295, 2, 1008, 18, 6, 20, 207, 110, 563, 12, 8, 2901, 2, 8, 97, 6, 20, 53, 4767, 74, 4, 460, 364, 1273, 29, 270, 11, 960, 108, 45, 40, 29, 2961, 395, 11, 6, 4065, 500, 7, 2, 89, 364, 70, 29, 140, 4, 64, 4780, 11, 4, 2678, 26, 178, 4, 529, 443, 2, 5, 27, 710, 117, 2, 8123, 165, 47, 84, 37, 131, 818, 14, 595, 10, 10, 61, 1242, 1209, 10, 10, 288, 2260, 1702, 34, 2901, 2, 4, 65, 496, 4, 231, 7, 790, 5, 6, 320, 234, 2766, 234, 1119, 1574, 7, 496, 4, 139, 929, 2901, 2, 7750, 5, 4241, 18, 4, 8497, 2, 250, 11, 1818, 7561, 4, 4217, 5408, 747, 1115, 372, 1890, 1006, 541, 9303, 7, 4, 59, 2, 4, 3586, 2]),\n",
              "       list([1, 1446, 7079, 69, 72, 3305, 13, 610, 930, 8, 12, 582, 23, 5, 16, 484, 685, 54, 349, 11, 4120, 2959, 45, 58, 1466, 13, 197, 12, 16, 43, 23, 2, 5, 62, 30, 145, 402, 11, 4131, 51, 575, 32, 61, 369, 71, 66, 770, 12, 1054, 75, 100, 2198, 8, 4, 105, 37, 69, 147, 712, 75, 3543, 44, 257, 390, 5, 69, 263, 514, 105, 50, 286, 1814, 23, 4, 123, 13, 161, 40, 5, 421, 4, 116, 16, 897, 13, 2, 40, 319, 5872, 112, 6700, 11, 4803, 121, 25, 70, 3468, 4, 719, 3798, 13, 18, 31, 62, 40, 8, 7200, 4, 2, 7, 14, 123, 5, 942, 25, 8, 721, 12, 145, 5, 202, 12, 160, 580, 202, 12, 6, 52, 58, 2, 92, 401, 728, 12, 39, 14, 251, 8, 15, 251, 5, 2, 12, 38, 84, 80, 124, 12, 9, 23]),\n",
              "       list([1, 17, 6, 194, 337, 7, 4, 204, 22, 45, 254, 8, 106, 14, 123, 4, 2, 270, 2, 5, 2, 2, 732, 2098, 101, 405, 39, 14, 1034, 4, 1310, 9, 115, 50, 305, 12, 47, 4, 168, 5, 235, 7, 38, 111, 699, 102, 7, 4, 4039, 9245, 9, 24, 6, 78, 1099, 17, 2345, 2, 21, 27, 9685, 6139, 5, 2, 1603, 92, 1183, 4, 1310, 7, 4, 204, 42, 97, 90, 35, 221, 109, 29, 127, 27, 118, 8, 97, 12, 157, 21, 6789, 2, 9, 6, 66, 78, 1099, 4, 631, 1191, 5, 2642, 272, 191, 1070, 6, 7585, 8, 2197, 2, 2, 544, 5, 383, 1271, 848, 1468, 2, 497, 2, 8, 1597, 8778, 2, 21, 60, 27, 239, 9, 43, 8368, 209, 405, 10, 10, 12, 764, 40, 4, 248, 20, 12, 16, 5, 174, 1791, 72, 7, 51, 6, 1739, 22, 4, 204, 131, 9])],\n",
              "      dtype=object)"
            ]
          },
          "metadata": {
            "tags": []
          },
          "execution_count": 32
        }
      ]
    },
    {
      "cell_type": "code",
      "metadata": {
        "id": "6QbgbbcND--x",
        "colab_type": "code",
        "outputId": "64d60639-cd1e-40b0-bcfc-06faf0bd7a60",
        "colab": {
          "base_uri": "https://localhost:8080/",
          "height": 34
        }
      },
      "source": [
        "x_train.shape"
      ],
      "execution_count": 0,
      "outputs": [
        {
          "output_type": "execute_result",
          "data": {
            "text/plain": [
              "(25000,)"
            ]
          },
          "metadata": {
            "tags": []
          },
          "execution_count": 29
        }
      ]
    },
    {
      "cell_type": "code",
      "metadata": {
        "id": "YP2TpIlgD7_e",
        "colab_type": "code",
        "colab": {}
      },
      "source": [
        "# 리스트를 (samples,maxlen)크기의 2D정수 텐서로 변환\n",
        "x_train=preprocessing.sequence.pad_sequences(x_train,maxlen=maxlen)\n",
        "x_test=preprocessing.sequence.pad_sequences(x_test,maxlen=maxlen)"
      ],
      "execution_count": 0,
      "outputs": []
    },
    {
      "cell_type": "code",
      "metadata": {
        "id": "ubVavd0wDz1A",
        "colab_type": "code",
        "outputId": "420abdb4-a15e-434c-c80e-798282e7586b",
        "colab": {
          "base_uri": "https://localhost:8080/",
          "height": 34
        }
      },
      "source": [
        "x_train.shape"
      ],
      "execution_count": 0,
      "outputs": [
        {
          "output_type": "execute_result",
          "data": {
            "text/plain": [
              "(25000, 20)"
            ]
          },
          "metadata": {
            "tags": []
          },
          "execution_count": 32
        }
      ]
    },
    {
      "cell_type": "code",
      "metadata": {
        "id": "BEX6RONzDg4j",
        "colab_type": "code",
        "outputId": "9d1bb0fe-9517-4469-8662-b53241b04540",
        "colab": {
          "base_uri": "https://localhost:8080/",
          "height": 140
        }
      },
      "source": [
        "x_train"
      ],
      "execution_count": 0,
      "outputs": [
        {
          "output_type": "execute_result",
          "data": {
            "text/plain": [
              "array([[  65,   16,   38, ...,   19,  178,   32],\n",
              "       [  23,    4, 1690, ...,   16,  145,   95],\n",
              "       [1352,   13,  191, ...,    7,  129,  113],\n",
              "       ...,\n",
              "       [  11, 1818, 7561, ...,    4, 3586,    2],\n",
              "       [  92,  401,  728, ...,   12,    9,   23],\n",
              "       [ 764,   40,    4, ...,  204,  131,    9]], dtype=int32)"
            ]
          },
          "metadata": {
            "tags": []
          },
          "execution_count": 31
        }
      ]
    },
    {
      "cell_type": "markdown",
      "metadata": {
        "id": "BcNFvX5eEIqJ",
        "colab_type": "text"
      },
      "source": [
        "#### 코드6-7: IMDB 데이터에 Embedding 층과 분류기 사용"
      ]
    },
    {
      "cell_type": "code",
      "metadata": {
        "id": "b20NWkt-ChTP",
        "colab_type": "code",
        "outputId": "00a2e336-d3f8-48cc-99de-e3987d50f341",
        "colab": {
          "base_uri": "https://localhost:8080/",
          "height": 406
        }
      },
      "source": [
        "from keras.models import Sequential\n",
        "from keras.layers import Flatten,Dense,Embedding\n",
        "\n",
        "model=Sequential()\n",
        "model.add(Embedding(10000,8,input_length=maxlen))\n",
        "model.add(Flatten()) # 3D텐서를 2D텐서로 펼침\n",
        "model.add(Dense(1,activation='sigmoid'))\n",
        "\n",
        "model.compile(optimizer='rmsprop',loss='binary_crossentropy',metrics=['acc'])\n",
        "\n",
        "model.summary()"
      ],
      "execution_count": 0,
      "outputs": [
        {
          "output_type": "stream",
          "text": [
            "WARNING:tensorflow:From /usr/local/lib/python3.6/dist-packages/keras/optimizers.py:793: The name tf.train.Optimizer is deprecated. Please use tf.compat.v1.train.Optimizer instead.\n",
            "\n",
            "WARNING:tensorflow:From /usr/local/lib/python3.6/dist-packages/keras/backend/tensorflow_backend.py:3657: The name tf.log is deprecated. Please use tf.math.log instead.\n",
            "\n",
            "WARNING:tensorflow:From /tensorflow-1.15.0/python3.6/tensorflow_core/python/ops/nn_impl.py:183: where (from tensorflow.python.ops.array_ops) is deprecated and will be removed in a future version.\n",
            "Instructions for updating:\n",
            "Use tf.where in 2.0, which has the same broadcast rule as np.where\n",
            "Model: \"sequential_2\"\n",
            "_________________________________________________________________\n",
            "Layer (type)                 Output Shape              Param #   \n",
            "=================================================================\n",
            "embedding_3 (Embedding)      (None, 20, 8)             80000     \n",
            "_________________________________________________________________\n",
            "flatten_3 (Flatten)          (None, 160)               0         \n",
            "_________________________________________________________________\n",
            "dense_1 (Dense)              (None, 1)                 161       \n",
            "=================================================================\n",
            "Total params: 80,161\n",
            "Trainable params: 80,161\n",
            "Non-trainable params: 0\n",
            "_________________________________________________________________\n"
          ],
          "name": "stdout"
        }
      ]
    },
    {
      "cell_type": "code",
      "metadata": {
        "id": "DGTZT7DvDS73",
        "colab_type": "code",
        "outputId": "edd205dd-5290-4909-ee57-95d3554364f7",
        "colab": {
          "base_uri": "https://localhost:8080/",
          "height": 687
        }
      },
      "source": [
        "history=model.fit(x_train,y_train,\n",
        "                  epochs=10,\n",
        "                  batch_size=32,\n",
        "                  validation_split=0.2)"
      ],
      "execution_count": 0,
      "outputs": [
        {
          "output_type": "stream",
          "text": [
            "WARNING:tensorflow:From /usr/local/lib/python3.6/dist-packages/keras/backend/tensorflow_backend.py:1033: The name tf.assign_add is deprecated. Please use tf.compat.v1.assign_add instead.\n",
            "\n",
            "WARNING:tensorflow:From /usr/local/lib/python3.6/dist-packages/keras/backend/tensorflow_backend.py:1020: The name tf.assign is deprecated. Please use tf.compat.v1.assign instead.\n",
            "\n",
            "WARNING:tensorflow:From /usr/local/lib/python3.6/dist-packages/keras/backend/tensorflow_backend.py:3005: The name tf.Session is deprecated. Please use tf.compat.v1.Session instead.\n",
            "\n",
            "Train on 20000 samples, validate on 5000 samples\n",
            "Epoch 1/10\n",
            "WARNING:tensorflow:From /usr/local/lib/python3.6/dist-packages/keras/backend/tensorflow_backend.py:190: The name tf.get_default_session is deprecated. Please use tf.compat.v1.get_default_session instead.\n",
            "\n",
            "WARNING:tensorflow:From /usr/local/lib/python3.6/dist-packages/keras/backend/tensorflow_backend.py:197: The name tf.ConfigProto is deprecated. Please use tf.compat.v1.ConfigProto instead.\n",
            "\n",
            "WARNING:tensorflow:From /usr/local/lib/python3.6/dist-packages/keras/backend/tensorflow_backend.py:207: The name tf.global_variables is deprecated. Please use tf.compat.v1.global_variables instead.\n",
            "\n",
            "WARNING:tensorflow:From /usr/local/lib/python3.6/dist-packages/keras/backend/tensorflow_backend.py:216: The name tf.is_variable_initialized is deprecated. Please use tf.compat.v1.is_variable_initialized instead.\n",
            "\n",
            "WARNING:tensorflow:From /usr/local/lib/python3.6/dist-packages/keras/backend/tensorflow_backend.py:223: The name tf.variables_initializer is deprecated. Please use tf.compat.v1.variables_initializer instead.\n",
            "\n",
            "20000/20000 [==============================] - 2s 89us/step - loss: 0.6694 - acc: 0.6264 - val_loss: 0.6196 - val_acc: 0.7052\n",
            "Epoch 2/10\n",
            "20000/20000 [==============================] - 1s 61us/step - loss: 0.5440 - acc: 0.7509 - val_loss: 0.5285 - val_acc: 0.7276\n",
            "Epoch 3/10\n",
            "20000/20000 [==============================] - 1s 63us/step - loss: 0.4621 - acc: 0.7870 - val_loss: 0.5020 - val_acc: 0.7430\n",
            "Epoch 4/10\n",
            "20000/20000 [==============================] - 1s 62us/step - loss: 0.4210 - acc: 0.8080 - val_loss: 0.4964 - val_acc: 0.7476\n",
            "Epoch 5/10\n",
            "20000/20000 [==============================] - 1s 62us/step - loss: 0.3924 - acc: 0.8239 - val_loss: 0.4969 - val_acc: 0.7508\n",
            "Epoch 6/10\n",
            "20000/20000 [==============================] - 1s 61us/step - loss: 0.3692 - acc: 0.8363 - val_loss: 0.4999 - val_acc: 0.7490\n",
            "Epoch 7/10\n",
            "20000/20000 [==============================] - 1s 62us/step - loss: 0.3478 - acc: 0.8492 - val_loss: 0.5057 - val_acc: 0.7522\n",
            "Epoch 8/10\n",
            "20000/20000 [==============================] - 1s 63us/step - loss: 0.3288 - acc: 0.8596 - val_loss: 0.5128 - val_acc: 0.7542\n",
            "Epoch 9/10\n",
            "20000/20000 [==============================] - 1s 63us/step - loss: 0.3111 - acc: 0.8684 - val_loss: 0.5217 - val_acc: 0.7498\n",
            "Epoch 10/10\n",
            "20000/20000 [==============================] - 1s 64us/step - loss: 0.2940 - acc: 0.8799 - val_loss: 0.5318 - val_acc: 0.7492\n"
          ],
          "name": "stdout"
        }
      ]
    },
    {
      "cell_type": "code",
      "metadata": {
        "id": "RKOOU_knDeLW",
        "colab_type": "code",
        "colab": {}
      },
      "source": [
        ""
      ],
      "execution_count": 0,
      "outputs": []
    },
    {
      "cell_type": "markdown",
      "metadata": {
        "id": "PXsJl7hcEwuV",
        "colab_type": "text"
      },
      "source": [
        "### 6.1.3 모든 내용을 적용하기 : 원본 텍스트에서 단어 임베딩까지"
      ]
    },
    {
      "cell_type": "code",
      "metadata": {
        "id": "vqR3wMGBE2og",
        "colab_type": "code",
        "outputId": "e572ef83-5fa3-4e94-9aa8-49588c8f4528",
        "colab": {
          "base_uri": "https://localhost:8080/",
          "height": 34
        }
      },
      "source": [
        "print('a')"
      ],
      "execution_count": 0,
      "outputs": [
        {
          "output_type": "stream",
          "text": [
            "a\n"
          ],
          "name": "stdout"
        }
      ]
    },
    {
      "cell_type": "markdown",
      "metadata": {
        "id": "2QGo8vOWKU8U",
        "colab_type": "text"
      },
      "source": [
        "#### 코드6-8: IMDB 원본 데이터 전처리하기"
      ]
    },
    {
      "cell_type": "code",
      "metadata": {
        "id": "No0ha40HKLop",
        "colab_type": "code",
        "colab": {}
      },
      "source": [
        "import os\n",
        "\n",
        "imdb_dir='./aclImdb'\n",
        "train_dir=os.path.join(imdb_dir,'train')\n",
        "\n",
        "labels=[]\n",
        "texts=[]\n",
        "\n",
        "for label_type in ['neg','pos']:\n",
        "  dir_name=os.path.join(train_dir,label_type)\n",
        "  for fname in os.listdir(dir_name):\n",
        "    if[-4:]=='.txt':\n",
        "      f=open(os.path.join(dir_name,fname),encoding='utf-8')\n",
        "      texts.append(f.read())\n",
        "      f.close()\n",
        "      if label_type=='neg':\n",
        "        labels.append(0)\n",
        "      else:\n",
        "        labels.append(1)"
      ],
      "execution_count": 0,
      "outputs": []
    },
    {
      "cell_type": "markdown",
      "metadata": {
        "id": "kgd-CyMtLPjy",
        "colab_type": "text"
      },
      "source": [
        "#### 코드6-9:IMDB 원본 데이터의 텍스트를 토큰화하기"
      ]
    },
    {
      "cell_type": "code",
      "metadata": {
        "id": "VZrat1SeLWUt",
        "colab_type": "code",
        "colab": {}
      },
      "source": [
        "from keras.preprocessing.text import Tokenizer\n",
        "from keras.preprocessing.sequence import pad_sequences\n",
        "import numpy as np\n",
        "\n",
        "maxlen=100\n",
        "training_samples=200\n",
        "validation_samples=10000\n",
        "max_words=10000\n",
        "\n",
        "tokenizer=Tokenizer(num_words=max_words)\n",
        "tokenizer.fit_on_texts(texts) #단어 인덱스 구축\n",
        "sequences=tokenizer.texts_to_sequences(texts)\n",
        "\n",
        "word_index=tokenizer.word_index #계산된 단어 인덱스를 구함\n",
        "print(\"%s개의 고유한 토큰을 찾았습니다.\",%len(word_index))\n",
        "\n",
        "data=pad_sequences(sequences,maxlen=maxlen) #리스트 -> 2d 정수텐서\n",
        "labels=np.asarray(labels)\n",
        "print('데이터 텐서의 크기:',data.shape)\n",
        "print('레이블 텐서의 크기:',labels.shape)\n",
        "\n",
        "indices=np.arange(data.shape[0])\n",
        "np.random.shuffle(indices)\n",
        "data=data[indices]\n",
        "labels=labels[indices]\n",
        "\n",
        "x_train=data[:training_samples]\n",
        "y_train=labels[:training_samples]\n",
        "x_val=data[training_samples:training_samples+validation_samples]\n",
        "y_val=labels[training_samples:training_samples+validation_samples]"
      ],
      "execution_count": 0,
      "outputs": []
    },
    {
      "cell_type": "markdown",
      "metadata": {
        "id": "Rky3u5yLNqtK",
        "colab_type": "text"
      },
      "source": [
        "#### 코드6-10:GloVe단어 임베딩 파일 파싱하기"
      ]
    },
    {
      "cell_type": "code",
      "metadata": {
        "id": "yyR4DRJHN7CU",
        "colab_type": "code",
        "colab": {}
      },
      "source": [
        "glove='./datasets/'\n",
        "\n",
        "embeddings_index={}\n",
        "f=open(os.path.join(glove_dir,'glove.6B.100d.txt'),encoding='utf-8')\n",
        "for line in f:\n",
        "  values=line.split()\n",
        "  word=values[0]\n",
        "  coefs=np.asarray(values[1:],dtype='float32')\n",
        "  embeddings_index[word]=coefs\n",
        "f.close()\n",
        "print('%s개의 벡터를 찾았습니다.',%len(embeddings_index))"
      ],
      "execution_count": 0,
      "outputs": []
    },
    {
      "cell_type": "markdown",
      "metadata": {
        "id": "mDBXbSafQqJn",
        "colab_type": "text"
      },
      "source": [
        "#### 코드6-11:Glove 단어 임베딩 행렬 준비하기"
      ]
    },
    {
      "cell_type": "code",
      "metadata": {
        "id": "OWh8f4bLQvhv",
        "colab_type": "code",
        "colab": {}
      },
      "source": [
        "embedding_dim=100\n",
        "\n",
        "embedding_matrix=np.zeros((max_words,embedding_dim))\n",
        "for word,i in word_index.items():\n",
        "  if i<max_words:\n",
        "    embedding_vector=embeddings_index.get(word)\n",
        "    if embedding_vector is not None:\n",
        "      embedding_matrix[i]=embedding_vector"
      ],
      "execution_count": 0,
      "outputs": []
    },
    {
      "cell_type": "markdown",
      "metadata": {
        "id": "OLlcURB4U6Q5",
        "colab_type": "text"
      },
      "source": [
        "#### 코드6-12: 모델 정의하기"
      ]
    },
    {
      "cell_type": "code",
      "metadata": {
        "id": "28770v9oU9-M",
        "colab_type": "code",
        "colab": {}
      },
      "source": [
        "from keras.models import Sequential\n",
        "from keras.layers import embeddings,Dense,Flatten\n",
        "\n",
        "model=Sequential()\n",
        "model.add(Embedding(max_words,embedding_dim,input_length=maxlen))\n",
        "model.add(Flatten())\n",
        "model.add(Dense(32,activation='relu'))\n",
        "model.add(Dense(1,activation='sigmoid'))\n",
        "model.summary()"
      ],
      "execution_count": 0,
      "outputs": []
    },
    {
      "cell_type": "markdown",
      "metadata": {
        "id": "EwKoCFu6V4zR",
        "colab_type": "text"
      },
      "source": [
        "#### 코드6-13:사전 훈련된 단어 임베딩을 Embedding층에 로드하기"
      ]
    },
    {
      "cell_type": "code",
      "metadata": {
        "id": "PxfbEO4HV9ND",
        "colab_type": "code",
        "colab": {}
      },
      "source": [
        "model.layers[0].set_weights([embedding_matrix])\n",
        "model.layers[0].trainable=False"
      ],
      "execution_count": 0,
      "outputs": []
    },
    {
      "cell_type": "markdown",
      "metadata": {
        "id": "T_E8phYIXK29",
        "colab_type": "text"
      },
      "source": [
        "#### 코드6-14:훈련과 평가"
      ]
    },
    {
      "cell_type": "code",
      "metadata": {
        "id": "AQ01XTP0XOvp",
        "colab_type": "code",
        "colab": {}
      },
      "source": [
        "model.compile(optimizer='rmsprop',\n",
        "              loss='binary_crossentropy',\n",
        "              metrics=['acc'])\n",
        "history=model.fit(x_train,y_train,\n",
        "                  epochs=10,\n",
        "                  batch_size=32,\n",
        "                  validation_data=(x_val,y_val))\n",
        "model.save_weights('pre_trained_glove_model.h5')"
      ],
      "execution_count": 0,
      "outputs": []
    },
    {
      "cell_type": "markdown",
      "metadata": {
        "id": "NC2hw_tNXqDT",
        "colab_type": "text"
      },
      "source": [
        "#### 코드6-15:결과 그래프 그리기"
      ]
    },
    {
      "cell_type": "code",
      "metadata": {
        "id": "pjfWJX2XXtU-",
        "colab_type": "code",
        "colab": {}
      },
      "source": [
        "import matplotlib.pyplot as plt\n",
        "\n",
        "acc=history.history['acc']\n",
        "val_acc=history.history['val_acc']\n",
        "loss=history.history['loss']\n",
        "val_loss=history.history['val_loss']\n",
        "\n",
        "epochs=range(1,len(acc)+1)\n",
        "\n",
        "plt.plot(epochs,acc,'bo',label='Training acc')\n",
        "plt.plot(epochs,val_acc,'b',label='Validation acc')\n",
        "plt.title('Training and validation accuracy')\n",
        "plt.legend()\n",
        "\n",
        "plt.figure()\n",
        "\n",
        "plt.plot(epochs,loss,'bo',label='Training loss')\n",
        "plt.plot(epochs,loss,'b',label='Validation loss')\n",
        "plt.title('Training and Validation loss')\n",
        "plt.legend()\n",
        "\n",
        "plt.show()"
      ],
      "execution_count": 0,
      "outputs": []
    },
    {
      "cell_type": "markdown",
      "metadata": {
        "id": "NT9P9tgdYwTT",
        "colab_type": "text"
      },
      "source": [
        "#### 코드6-16:사전 훈련된 단어 임베딩을 사용하지않고 같은 모델 훈련하기\n",
        "##### (해당 작업에 특화된 입력 토큰의 임베딩 학습)"
      ]
    },
    {
      "cell_type": "code",
      "metadata": {
        "id": "YskFT3sCY3Gc",
        "colab_type": "code",
        "colab": {}
      },
      "source": [
        "from keras.models import Sequential\n",
        "from keras.layers import Dense,Embedding,Flatten\n",
        "\n",
        "model=Sequential()\n",
        "model.add(Embedding(max_words,embedding_dim,input_length=maxlen))\n",
        "model.add(Flatten())\n",
        "model.add(Dense(32,activation='relu'))\n",
        "model.add(Dense(1,activation='sigmoid'))\n",
        "model.summary()"
      ],
      "execution_count": 0,
      "outputs": []
    },
    {
      "cell_type": "code",
      "metadata": {
        "id": "9JWcNeIzZSgK",
        "colab_type": "code",
        "colab": {}
      },
      "source": [
        "model.compile(optimizer='rmsprop',\n",
        "              loss='binary_crossentropy',\n",
        "              metrics=['acc'])\n",
        "history=model.fit(x_train,y_train,\n",
        "                  epochs=10,\n",
        "                  batch_size=32,\n",
        "                  validation_data=(x_val,y_val))"
      ],
      "execution_count": 0,
      "outputs": []
    },
    {
      "cell_type": "code",
      "metadata": {
        "id": "JJbQ76OGZTSo",
        "colab_type": "code",
        "colab": {}
      },
      "source": [
        "acc=history.history['acc']\n",
        "val_acc=history.history['val_acc']\n",
        "loss=history.history['loss']\n",
        "val_loss=history.history['val_loss']\n",
        "\n",
        "epochs=range(1,len(acc)+1)\n",
        "\n",
        "plt.plot(epochs,acc,'bo',label='Training acc')\n",
        "plt.plot(epochs,val_acc,'b',label='Validation acc')\n",
        "plt.title('Training and validation accuracy')\n",
        "plt.legend()\n",
        "\n",
        "plt.figure()\n",
        "\n",
        "plt.plot(epochs,loss,'bo',label='Training loss')\n",
        "plt.plot(epochs,loss,'b',label='Validation loss')\n",
        "plt.title('Training and Validation loss')\n",
        "plt.legend()\n",
        "\n",
        "plt.show()"
      ],
      "execution_count": 0,
      "outputs": []
    },
    {
      "cell_type": "markdown",
      "metadata": {
        "id": "omkRqvZdZeCl",
        "colab_type": "text"
      },
      "source": [
        "#### 연습문제 ? : 훈련 샘플의 수를 늘려서 훈련시켜보기 (2000개)"
      ]
    },
    {
      "cell_type": "markdown",
      "metadata": {
        "id": "5WkKKxyBZm8X",
        "colab_type": "text"
      },
      "source": [
        "#### 코드6-17:테스트 데이터 토큰화하기"
      ]
    },
    {
      "cell_type": "code",
      "metadata": {
        "id": "NhRva399ZsTa",
        "colab_type": "code",
        "colab": {}
      },
      "source": [
        "test_dir=os.path.join(imdb_dir,'test')\n",
        "\n",
        "labels=[]\n",
        "texts=[]\n",
        "\n",
        "for label_type in ['neg','pos']:\n",
        "  dir_name=os.path.join(test_dir,label_type)\n",
        "  for fname in sorted(os.listdir(dir_name)):\n",
        "    if fname[-4:]=='.txt':\n",
        "      f=open(os.path.join(dir_name,fname),encoding='utf-8')\n",
        "      texts.append(f.read())\n",
        "      f.close()\n",
        "      if label_type=='neg':\n",
        "        labels.append(0)\n",
        "      else:\n",
        "        labels.appen(1)\n",
        "  \n",
        "sequneces = tokenizer.texts_to_sequences(texts)\n",
        "x_test=pad_sequences(sequences,maxlen=maxlen)\n",
        "y_test=np.asarray(labels)"
      ],
      "execution_count": 0,
      "outputs": []
    },
    {
      "cell_type": "markdown",
      "metadata": {
        "id": "p3eiCzWZamPq",
        "colab_type": "text"
      },
      "source": [
        "#### 코드6-18:테스트 세트에서 모델 평가하기"
      ]
    },
    {
      "cell_type": "code",
      "metadata": {
        "id": "pL7X8RzUaq57",
        "colab_type": "code",
        "colab": {}
      },
      "source": [
        "model.load_weights('pre_trained_glove_model.h5')\n",
        "model.evaluate(x_test,y_test)"
      ],
      "execution_count": 0,
      "outputs": []
    },
    {
      "cell_type": "markdown",
      "metadata": {
        "id": "FLw08O82bI8n",
        "colab_type": "text"
      },
      "source": [
        "# 6.2 순환 신경망 이해하기"
      ]
    },
    {
      "cell_type": "markdown",
      "metadata": {
        "id": "OhzyDVfghsKN",
        "colab_type": "text"
      },
      "source": [
        "#### 코드6-21:넘파이로 구현한 간단한 RNN"
      ]
    },
    {
      "cell_type": "code",
      "metadata": {
        "id": "_q5w1aZabPo4",
        "colab_type": "code",
        "colab": {}
      },
      "source": [
        "import numpy as np\n",
        "\n",
        "timesteps=100\n",
        "input_features=32\n",
        "output_features=64\n",
        "\n",
        "inputs=np.random.random((timesteps,input_features))\n",
        "\n",
        "state_t=np.zeros((output_features,)) \n",
        "\n",
        "W=np.random.random((output_features,input_features))\n",
        "U=np.random.random((output_features,output_features))\n",
        "b=np.random.random((output_features,))\n",
        "\n",
        "successive_outputs=[]\n",
        "for input_t in inputs:\n",
        "  output_t=np.tanh(np.dot(W,input_t)+np.dot(U,state_t)+b)\n",
        "  successive_outputs.append(output_t)\n",
        "  state_t=output_t\n",
        "\n",
        "final_output_sequence=np.stack(successive_outputs,axis=0)"
      ],
      "execution_count": 0,
      "outputs": []
    },
    {
      "cell_type": "code",
      "metadata": {
        "id": "oM4chaGBjZH9",
        "colab_type": "code",
        "outputId": "96bf371e-3f4d-4736-fee0-84736764ae26",
        "colab": {
          "base_uri": "https://localhost:8080/",
          "height": 245
        }
      },
      "source": [
        "inputs"
      ],
      "execution_count": 0,
      "outputs": [
        {
          "output_type": "execute_result",
          "data": {
            "text/plain": [
              "array([[0.10747344, 0.99544624, 0.98155241, ..., 0.51367351, 0.44328592,\n",
              "        0.77606557],\n",
              "       [0.5171035 , 0.75309003, 0.41442087, ..., 0.85468372, 0.65122853,\n",
              "        0.03970984],\n",
              "       [0.47383324, 0.53799443, 0.19626778, ..., 0.65353619, 0.20118399,\n",
              "        0.6443465 ],\n",
              "       ...,\n",
              "       [0.20675618, 0.31823422, 0.49045251, ..., 0.27684682, 0.84478434,\n",
              "        0.28146963],\n",
              "       [0.79814297, 0.72382519, 0.32345297, ..., 0.89714206, 0.9495489 ,\n",
              "        0.70170617],\n",
              "       [0.23477901, 0.55790577, 0.2022032 , ..., 0.04060959, 0.01561085,\n",
              "        0.01995359]])"
            ]
          },
          "metadata": {
            "tags": []
          },
          "execution_count": 34
        }
      ]
    },
    {
      "cell_type": "markdown",
      "metadata": {
        "id": "0uW2V3SRlLsx",
        "colab_type": "text"
      },
      "source": [
        "### 6.2.1 케라스의 순환 층"
      ]
    },
    {
      "cell_type": "markdown",
      "metadata": {
        "id": "VT_DUGhrmJ4W",
        "colab_type": "text"
      },
      "source": [
        "#### Keras SimpleRNN 두 가지 모드\n",
        "#### 1. 각 타임스텝의 출력을 모은 전체 시퀀스 반환\n",
        "#### 2. 입력 시퀀스에 대한 마지막 출력만 반환"
      ]
    },
    {
      "cell_type": "code",
      "metadata": {
        "id": "KXt3KkdDlRQQ",
        "colab_type": "code",
        "colab": {}
      },
      "source": [
        "from keras.models import Sequential\n",
        "from keras.layers import SimpleRNN,Embedding"
      ],
      "execution_count": 0,
      "outputs": []
    },
    {
      "cell_type": "code",
      "metadata": {
        "id": "8eBjK7spkUL8",
        "colab_type": "code",
        "outputId": "9856deb0-f163-48c5-fd26-5794d66b1e99",
        "colab": {
          "base_uri": "https://localhost:8080/",
          "height": 228
        }
      },
      "source": [
        "# 1. 전체 상태 시퀀스 반환\n",
        "model = Sequential()\n",
        "model.add(Embedding(10000,32))\n",
        "model.add(SimpleRNN(32,return_sequences=True)) # return_sequences옵션 True로!\n",
        "model.summary()"
      ],
      "execution_count": 0,
      "outputs": [
        {
          "output_type": "stream",
          "text": [
            "Model: \"sequential_3\"\n",
            "_________________________________________________________________\n",
            "Layer (type)                 Output Shape              Param #   \n",
            "=================================================================\n",
            "embedding_4 (Embedding)      (None, None, 32)          320000    \n",
            "_________________________________________________________________\n",
            "simple_rnn_1 (SimpleRNN)     (None, None, 32)          2080      \n",
            "=================================================================\n",
            "Total params: 322,080\n",
            "Trainable params: 322,080\n",
            "Non-trainable params: 0\n",
            "_________________________________________________________________\n"
          ],
          "name": "stdout"
        }
      ]
    },
    {
      "cell_type": "code",
      "metadata": {
        "id": "I8SKsnFjmzVX",
        "colab_type": "code",
        "outputId": "cb0a2fb9-76b7-446c-da87-577a0a34f660",
        "colab": {
          "base_uri": "https://localhost:8080/",
          "height": 228
        }
      },
      "source": [
        "# 2. 마지막 타임스텝의 출력만 얻음\n",
        "model=Sequential()\n",
        "model.add(Embedding(10000,32))\n",
        "model.add(SimpleRNN(32))\n",
        "model.summary()"
      ],
      "execution_count": 0,
      "outputs": [
        {
          "output_type": "stream",
          "text": [
            "Model: \"sequential_4\"\n",
            "_________________________________________________________________\n",
            "Layer (type)                 Output Shape              Param #   \n",
            "=================================================================\n",
            "embedding_5 (Embedding)      (None, None, 32)          320000    \n",
            "_________________________________________________________________\n",
            "simple_rnn_2 (SimpleRNN)     (None, 32)                2080      \n",
            "=================================================================\n",
            "Total params: 322,080\n",
            "Trainable params: 322,080\n",
            "Non-trainable params: 0\n",
            "_________________________________________________________________\n"
          ],
          "name": "stdout"
        }
      ]
    },
    {
      "cell_type": "code",
      "metadata": {
        "id": "OSl5_W69nHRy",
        "colab_type": "code",
        "outputId": "f5b92aa9-16d6-4664-e583-1169d46400f8",
        "colab": {
          "base_uri": "https://localhost:8080/",
          "height": 333
        }
      },
      "source": [
        "# 여러 개의 순환층을 차례대로 쌓는 경우\n",
        "model=Sequential()\n",
        "model.add(Embedding(10000,32))\n",
        "model.add(SimpleRNN(32,return_sequences=True))\n",
        "model.add(SimpleRNN(32,return_sequences=True))\n",
        "model.add(SimpleRNN(32,return_sequences=True))\n",
        "model.add(SimpleRNN(32))\n",
        "model.summary()"
      ],
      "execution_count": 0,
      "outputs": [
        {
          "output_type": "stream",
          "text": [
            "Model: \"sequential_5\"\n",
            "_________________________________________________________________\n",
            "Layer (type)                 Output Shape              Param #   \n",
            "=================================================================\n",
            "embedding_6 (Embedding)      (None, None, 32)          320000    \n",
            "_________________________________________________________________\n",
            "simple_rnn_3 (SimpleRNN)     (None, None, 32)          2080      \n",
            "_________________________________________________________________\n",
            "simple_rnn_4 (SimpleRNN)     (None, None, 32)          2080      \n",
            "_________________________________________________________________\n",
            "simple_rnn_5 (SimpleRNN)     (None, None, 32)          2080      \n",
            "_________________________________________________________________\n",
            "simple_rnn_6 (SimpleRNN)     (None, 32)                2080      \n",
            "=================================================================\n",
            "Total params: 328,320\n",
            "Trainable params: 328,320\n",
            "Non-trainable params: 0\n",
            "_________________________________________________________________\n"
          ],
          "name": "stdout"
        }
      ]
    },
    {
      "cell_type": "markdown",
      "metadata": {
        "id": "mzt01bQ_nmBT",
        "colab_type": "text"
      },
      "source": [
        "#### 코드 6-22: IMDB 데이터 전처리하기"
      ]
    },
    {
      "cell_type": "code",
      "metadata": {
        "id": "OaREzwtenhlo",
        "colab_type": "code",
        "outputId": "e0356e3e-1165-45f7-c7a3-04e74db07f7e",
        "colab": {
          "base_uri": "https://localhost:8080/",
          "height": 122
        }
      },
      "source": [
        "from keras.datasets import imdb\n",
        "from keras.preprocessing import sequence\n",
        "\n",
        "max_features=10000\n",
        "maxlen=500\n",
        "batch_size=32\n",
        "\n",
        "print('데이터 로딩...')\n",
        "(input_train,y_train),(input_test,y_test)=imdb.load_data(\n",
        "    num_words=max_features\n",
        ")\n",
        "print(len(input_train),'훈련 시퀀스')\n",
        "print(len(input_test),'테스트 시퀀스')\n",
        "\n",
        "print('시퀀스 패딩(samples x time')\n",
        "\n",
        "input_train=sequence.pad_sequences(input_train,maxlen=maxlen)\n",
        "input_test=sequence.pad_sequences(input_test,maxlen=maxlen)\n",
        "print('input_train크기: ',input_train.shape)\n",
        "print('input_test크기: ',input_test.shape)"
      ],
      "execution_count": 0,
      "outputs": [
        {
          "output_type": "stream",
          "text": [
            "데이터 로딩...\n",
            "25000 훈련 시퀀스\n",
            "25000 테스트 시퀀스\n",
            "시퀀스 패딩(samples x time\n",
            "input_train크기:  (25000, 500)\n",
            "input_test크기:  (25000, 500)\n"
          ],
          "name": "stdout"
        }
      ]
    },
    {
      "cell_type": "markdown",
      "metadata": {
        "id": "bWmSHsz708q-",
        "colab_type": "text"
      },
      "source": [
        "#### 코드 6-23: Embedding층과 SimpleRNN층을 사용한 모델 훈련하기"
      ]
    },
    {
      "cell_type": "code",
      "metadata": {
        "id": "mHlsaB2polEP",
        "colab_type": "code",
        "outputId": "bada480d-2fba-4cc2-85e1-e11261eb08e1",
        "colab": {
          "base_uri": "https://localhost:8080/",
          "height": 810
        }
      },
      "source": [
        "from keras.layers import Dense,Embedding,SimpleRNN\n",
        "from keras.models import Sequential\n",
        "\n",
        "model=Sequential()\n",
        "model.add(Embedding(max_features,32))\n",
        "model.add(SimpleRNN(32))\n",
        "model.add(Dense(1,activation='sigmoid'))\n",
        "\n",
        "model.compile(optimizer='rmsprop',loss='binary_crossentropy',metrics=['acc'])\n",
        "history=model.fit(input_train,y_train,\n",
        "                  epochs=10,\n",
        "                  batch_size=128,\n",
        "                  validation_split=0.2)"
      ],
      "execution_count": 0,
      "outputs": [
        {
          "output_type": "stream",
          "text": [
            "WARNING:tensorflow:From /usr/local/lib/python3.6/dist-packages/keras/optimizers.py:793: The name tf.train.Optimizer is deprecated. Please use tf.compat.v1.train.Optimizer instead.\n",
            "\n",
            "WARNING:tensorflow:From /usr/local/lib/python3.6/dist-packages/keras/backend/tensorflow_backend.py:3657: The name tf.log is deprecated. Please use tf.math.log instead.\n",
            "\n",
            "WARNING:tensorflow:From /tensorflow-1.15.0/python3.6/tensorflow_core/python/ops/nn_impl.py:183: where (from tensorflow.python.ops.array_ops) is deprecated and will be removed in a future version.\n",
            "Instructions for updating:\n",
            "Use tf.where in 2.0, which has the same broadcast rule as np.where\n",
            "WARNING:tensorflow:From /usr/local/lib/python3.6/dist-packages/keras/backend/tensorflow_backend.py:1033: The name tf.assign_add is deprecated. Please use tf.compat.v1.assign_add instead.\n",
            "\n",
            "WARNING:tensorflow:From /usr/local/lib/python3.6/dist-packages/keras/backend/tensorflow_backend.py:1020: The name tf.assign is deprecated. Please use tf.compat.v1.assign instead.\n",
            "\n",
            "WARNING:tensorflow:From /usr/local/lib/python3.6/dist-packages/keras/backend/tensorflow_backend.py:3005: The name tf.Session is deprecated. Please use tf.compat.v1.Session instead.\n",
            "\n",
            "Train on 20000 samples, validate on 5000 samples\n",
            "Epoch 1/10\n",
            "WARNING:tensorflow:From /usr/local/lib/python3.6/dist-packages/keras/backend/tensorflow_backend.py:190: The name tf.get_default_session is deprecated. Please use tf.compat.v1.get_default_session instead.\n",
            "\n",
            "WARNING:tensorflow:From /usr/local/lib/python3.6/dist-packages/keras/backend/tensorflow_backend.py:197: The name tf.ConfigProto is deprecated. Please use tf.compat.v1.ConfigProto instead.\n",
            "\n",
            "WARNING:tensorflow:From /usr/local/lib/python3.6/dist-packages/keras/backend/tensorflow_backend.py:207: The name tf.global_variables is deprecated. Please use tf.compat.v1.global_variables instead.\n",
            "\n",
            "WARNING:tensorflow:From /usr/local/lib/python3.6/dist-packages/keras/backend/tensorflow_backend.py:216: The name tf.is_variable_initialized is deprecated. Please use tf.compat.v1.is_variable_initialized instead.\n",
            "\n",
            "WARNING:tensorflow:From /usr/local/lib/python3.6/dist-packages/keras/backend/tensorflow_backend.py:223: The name tf.variables_initializer is deprecated. Please use tf.compat.v1.variables_initializer instead.\n",
            "\n",
            "20000/20000 [==============================] - 16s 792us/step - loss: 0.5824 - acc: 0.6825 - val_loss: 0.5507 - val_acc: 0.7194\n",
            "Epoch 2/10\n",
            "20000/20000 [==============================] - 15s 750us/step - loss: 0.3695 - acc: 0.8457 - val_loss: 0.4101 - val_acc: 0.8196\n",
            "Epoch 3/10\n",
            "20000/20000 [==============================] - 15s 767us/step - loss: 0.2868 - acc: 0.8884 - val_loss: 0.4715 - val_acc: 0.7768\n",
            "Epoch 4/10\n",
            "20000/20000 [==============================] - 15s 750us/step - loss: 0.2250 - acc: 0.9149 - val_loss: 0.3865 - val_acc: 0.8382\n",
            "Epoch 5/10\n",
            "20000/20000 [==============================] - 15s 754us/step - loss: 0.1800 - acc: 0.9343 - val_loss: 0.4107 - val_acc: 0.8374\n",
            "Epoch 6/10\n",
            "20000/20000 [==============================] - 15s 739us/step - loss: 0.1301 - acc: 0.9539 - val_loss: 0.5588 - val_acc: 0.8138\n",
            "Epoch 7/10\n",
            "20000/20000 [==============================] - 15s 746us/step - loss: 0.0877 - acc: 0.9719 - val_loss: 0.5103 - val_acc: 0.8082\n",
            "Epoch 8/10\n",
            "20000/20000 [==============================] - 15s 751us/step - loss: 0.0788 - acc: 0.9754 - val_loss: 0.5065 - val_acc: 0.8354\n",
            "Epoch 9/10\n",
            "20000/20000 [==============================] - 15s 747us/step - loss: 0.0394 - acc: 0.9883 - val_loss: 0.6901 - val_acc: 0.7646\n",
            "Epoch 10/10\n",
            "20000/20000 [==============================] - 15s 733us/step - loss: 0.0254 - acc: 0.9931 - val_loss: 0.7200 - val_acc: 0.7818\n"
          ],
          "name": "stdout"
        }
      ]
    },
    {
      "cell_type": "code",
      "metadata": {
        "id": "o-ITYvPDo5qy",
        "colab_type": "code",
        "outputId": "4f89e527-1d5c-4e3a-ea93-0471cf6775cb",
        "colab": {
          "base_uri": "https://localhost:8080/",
          "height": 545
        }
      },
      "source": [
        "import matplotlib.pyplot as plt\n",
        "\n",
        "acc=history.history['acc']\n",
        "val_acc=history.history['val_acc']\n",
        "loss=history.history['loss']\n",
        "val_loss=history.history['val_loss']\n",
        "\n",
        "epochs=range(1,len(acc)+1)\n",
        "\n",
        "plt.plot(epochs,acc,'bo',label='Training acc')\n",
        "plt.plot(epochs,val_acc,'b',label='Validation acc')\n",
        "plt.title('Training and validation accuracy')\n",
        "plt.legend()\n",
        "\n",
        "plt.figure()\n",
        "\n",
        "plt.plot(epochs,loss,'bo',label='Training loss')\n",
        "plt.plot(epochs,val_loss,'b',label='Validation loss')\n",
        "plt.title('Training and Validation loss')\n",
        "plt.legend()\n",
        "\n",
        "plt.show()"
      ],
      "execution_count": 0,
      "outputs": [
        {
          "output_type": "display_data",
          "data": {
            "image/png": "[encoded data removed]",
            "text/plain": [
              "<Figure size 432x288 with 1 Axes>"
            ]
          },
          "metadata": {
            "tags": []
          }
        },
        {
          "output_type": "display_data",
          "data": {
            "image/png": "[encoded data removed]",
            "text/plain": [
              "<Figure size 432x288 with 1 Axes>"
            ]
          },
          "metadata": {
            "tags": []
          }
        }
      ]
    },
    {
      "cell_type": "markdown",
      "metadata": {
        "id": "9rW51Bb-5iKq",
        "colab_type": "text"
      },
      "source": [
        "### 6.2.3 케라스를 사용한 LSTM 예제"
      ]
    },
    {
      "cell_type": "markdown",
      "metadata": {
        "id": "E4qGMw4Hr151",
        "colab_type": "text"
      },
      "source": [
        "#### 코드 6-27 : 케라스에서 LSTM층 사용하기"
      ]
    },
    {
      "cell_type": "code",
      "metadata": {
        "id": "PFDfz9qy1-vz",
        "colab_type": "code",
        "outputId": "d795bf6b-c2e2-4f6b-9f62-db3c19ef1daf",
        "colab": {
          "base_uri": "https://localhost:8080/",
          "height": 386
        }
      },
      "source": [
        "from keras.layers import LSTM\n",
        "model=Sequential()\n",
        "model.add(Embedding(max_features,32))\n",
        "model.add(LSTM(32))\n",
        "model.add(Dense(1,activation='sigmoid'))\n",
        "\n",
        "model.compile(optimizer='rmsprop',\n",
        "              loss='binary_crossentropy',\n",
        "              metrics=['acc'])\n",
        "history=model.fit(input_train,y_train,\n",
        "                  epochs=10,\n",
        "                  batch_size=128,\n",
        "                  validation_split=0.2)"
      ],
      "execution_count": 0,
      "outputs": [
        {
          "output_type": "stream",
          "text": [
            "Train on 20000 samples, validate on 5000 samples\n",
            "Epoch 1/10\n",
            "20000/20000 [==============================] - 78s 4ms/step - loss: 0.5059 - acc: 0.7570 - val_loss: 0.3463 - val_acc: 0.8550\n",
            "Epoch 2/10\n",
            "20000/20000 [==============================] - 78s 4ms/step - loss: 0.2928 - acc: 0.8836 - val_loss: 0.2920 - val_acc: 0.8850\n",
            "Epoch 3/10\n",
            "20000/20000 [==============================] - 79s 4ms/step - loss: 0.2336 - acc: 0.9117 - val_loss: 0.2870 - val_acc: 0.8820\n",
            "Epoch 4/10\n",
            "20000/20000 [==============================] - 81s 4ms/step - loss: 0.1987 - acc: 0.9263 - val_loss: 0.2967 - val_acc: 0.8846\n",
            "Epoch 5/10\n",
            "20000/20000 [==============================] - 84s 4ms/step - loss: 0.1773 - acc: 0.9356 - val_loss: 0.2968 - val_acc: 0.8844\n",
            "Epoch 6/10\n",
            "20000/20000 [==============================] - 83s 4ms/step - loss: 0.1599 - acc: 0.9429 - val_loss: 0.4033 - val_acc: 0.8458\n",
            "Epoch 7/10\n",
            "20000/20000 [==============================] - 82s 4ms/step - loss: 0.1478 - acc: 0.9492 - val_loss: 0.6862 - val_acc: 0.8256\n",
            "Epoch 8/10\n",
            "20000/20000 [==============================] - 82s 4ms/step - loss: 0.1337 - acc: 0.9529 - val_loss: 0.4159 - val_acc: 0.8758\n",
            "Epoch 9/10\n",
            "20000/20000 [==============================] - 81s 4ms/step - loss: 0.1272 - acc: 0.9545 - val_loss: 0.3625 - val_acc: 0.8800\n",
            "Epoch 10/10\n",
            "20000/20000 [==============================] - 81s 4ms/step - loss: 0.1167 - acc: 0.9603 - val_loss: 0.4135 - val_acc: 0.8448\n"
          ],
          "name": "stdout"
        }
      ]
    },
    {
      "cell_type": "code",
      "metadata": {
        "id": "BQkYmEwI6NW_",
        "colab_type": "code",
        "outputId": "60b00ede-9f16-42ea-d7c9-9c07429e8b10",
        "colab": {
          "base_uri": "https://localhost:8080/",
          "height": 545
        }
      },
      "source": [
        "import matplotlib.pyplot as plt\n",
        "\n",
        "acc=history.history['acc']\n",
        "val_acc=history.history['val_acc']\n",
        "loss=history.history['loss']\n",
        "val_loss=history.history['val_loss']\n",
        "\n",
        "epochs=range(1,len(acc)+1)\n",
        "\n",
        "plt.plot(epochs,acc,'bo',label='Training acc')\n",
        "plt.plot(epochs,val_acc,'b',label='Validation acc')\n",
        "plt.title('Training and validation accuracy')\n",
        "plt.legend()\n",
        "\n",
        "plt.figure()\n",
        "\n",
        "plt.plot(epochs,loss,'bo',label='Training loss')\n",
        "plt.plot(epochs,loss,'b',label='Validation loss')\n",
        "plt.title('Training and Validation loss')\n",
        "plt.legend()\n",
        "\n",
        "plt.show()"
      ],
      "execution_count": 0,
      "outputs": [
        {
          "output_type": "display_data",
          "data": {
            "image/png": "[encoded data removed]",
            "text/plain": [
              "<Figure size 432x288 with 1 Axes>"
            ]
          },
          "metadata": {
            "tags": []
          }
        },
        {
          "output_type": "display_data",
          "data": {
            "image/png": "[encoded data removed]",
            "text/plain": [
              "<Figure size 432x288 with 1 Axes>"
            ]
          },
          "metadata": {
            "tags": []
          }
        }
      ]
    },
    {
      "cell_type": "markdown",
      "metadata": {
        "id": "wmL2zfh3625-",
        "colab_type": "text"
      },
      "source": [
        "## 6.3 순환 신경망의 고급 사용법\n",
        "\n",
        "*   순환 드롭아웃\n",
        "*   스태킹 순환 층\n",
        "*   양방향 순환 층\n",
        "\n"
      ]
    },
    {
      "cell_type": "markdown",
      "metadata": {
        "id": "bi4Fj_sG88RV",
        "colab_type": "text"
      },
      "source": [
        "### 6.3.1 기온 예측 문제"
      ]
    },
    {
      "cell_type": "markdown",
      "metadata": {
        "id": "_k-Qcd2A8_Tt",
        "colab_type": "text"
      },
      "source": [
        "#### 코드 6-28 : 예나의 날씨 데이터셋 조사하기"
      ]
    },
    {
      "cell_type": "code",
      "metadata": {
        "id": "RyzRdvuq6RdD",
        "colab_type": "code",
        "outputId": "af055691-1358-4e87-9a7e-f22c6ecf0ffe",
        "colab": {
          "base_uri": "https://localhost:8080/",
          "height": 72
        }
      },
      "source": [
        "import os\n",
        "\n",
        "data_dir='./jena_climate'\n",
        "fname=os.path.join(data_dir,'jena_climate_2009_2016.csv')\n",
        "\n",
        "f=open(fname)\n",
        "data=f.read()\n",
        "f.close()\n",
        "\n",
        "lines=data.split('\\n')\n",
        "header=lines[0].split(',')\n",
        "lines=lines[1:]\n",
        "\n",
        "print('header :',header)\n",
        "print(len(lines))"
      ],
      "execution_count": 0,
      "outputs": [
        {
          "output_type": "stream",
          "text": [
            "header : ['\"Date Time\"', '\"p (mbar)\"', '\"T (degC)\"', '\"Tpot (K)\"', '\"Tdew (degC)\"', '\"rh (%)\"', '\"VPmax (mbar)\"', '\"VPact (mbar)\"', '\"VPdef (mbar)\"', '\"sh (g/kg)\"', '\"H2OC (mmol/mol)\"', '\"rho (g/m**3)\"', '\"wv (m/s)\"', '\"max. wv (m/s)\"', '\"wd (deg)\"']\n",
            "420551\n"
          ],
          "name": "stdout"
        }
      ]
    },
    {
      "cell_type": "markdown",
      "metadata": {
        "id": "SeBc3GJy9vBW",
        "colab_type": "text"
      },
      "source": [
        "#### 코드 6-29 : 데이터 파싱하기"
      ]
    },
    {
      "cell_type": "code",
      "metadata": {
        "id": "9IvAghoT9zox",
        "colab_type": "code",
        "colab": {}
      },
      "source": [
        "import numpy as np\n",
        "\n",
        "float_data=np.zeros((len(lines),len(header)-1))\n",
        "for i,line in enumerate(lines):\n",
        "  values=[float(x) for x in line.split(',')[1:]]\n",
        "  float_data[i,:]=values"
      ],
      "execution_count": 0,
      "outputs": []
    },
    {
      "cell_type": "markdown",
      "metadata": {
        "id": "eSr0bI_J-IaP",
        "colab_type": "text"
      },
      "source": [
        "#### 코드 6-30 : 시계열 온도 그래프 그리기"
      ]
    },
    {
      "cell_type": "code",
      "metadata": {
        "id": "0xmKPIas-G9q",
        "colab_type": "code",
        "outputId": "63f0cc74-582d-4c43-ab0a-a31973816bdd",
        "colab": {
          "base_uri": "https://localhost:8080/",
          "height": 285
        }
      },
      "source": [
        "from matplotlib import pyplot as plt\n",
        "\n",
        "temp=float_data[:,1]\n",
        "plt.plot(range(len(temp)),temp)"
      ],
      "execution_count": 0,
      "outputs": [
        {
          "output_type": "execute_result",
          "data": {
            "text/plain": [
              "[<matplotlib.lines.Line2D at 0x7f53a2b872b0>]"
            ]
          },
          "metadata": {
            "tags": []
          },
          "execution_count": 3
        },
        {
          "output_type": "display_data",
          "data": {
            "image/png": "[encoded data removed]",
            "text/plain": [
              "<Figure size 432x288 with 1 Axes>"
            ]
          },
          "metadata": {
            "tags": []
          }
        }
      ]
    },
    {
      "cell_type": "markdown",
      "metadata": {
        "id": "zmNHaUIr-ZBf",
        "colab_type": "text"
      },
      "source": [
        "#### 코드 6-31 : 처음 10일간 온도 그래프 그리기"
      ]
    },
    {
      "cell_type": "code",
      "metadata": {
        "id": "8QNaIw3r-Wr_",
        "colab_type": "code",
        "outputId": "2defcc6d-d423-46df-c935-a392aa87c9b1",
        "colab": {
          "base_uri": "https://localhost:8080/",
          "height": 282
        }
      },
      "source": [
        "plt.plot(range(1440),temp[:1440])"
      ],
      "execution_count": 0,
      "outputs": [
        {
          "output_type": "execute_result",
          "data": {
            "text/plain": [
              "[<matplotlib.lines.Line2D at 0x7f53a268e1d0>]"
            ]
          },
          "metadata": {
            "tags": []
          },
          "execution_count": 4
        },
        {
          "output_type": "display_data",
          "data": {
            "image/png": "[encoded data removed]",
            "text/plain": [
              "<Figure size 432x288 with 1 Axes>"
            ]
          },
          "metadata": {
            "tags": []
          }
        }
      ]
    },
    {
      "cell_type": "markdown",
      "metadata": {
        "id": "1zxIxl1rRS6s",
        "colab_type": "text"
      },
      "source": [
        "#### 코드 6-32 : 데이터 정규화하기"
      ]
    },
    {
      "cell_type": "code",
      "metadata": {
        "id": "2rc9NvfoRQfY",
        "colab_type": "code",
        "colab": {}
      },
      "source": [
        "mean = float_data[:200000].mean(axis=0)\n",
        "float_data -= mean\n",
        "std = float_data[:200000].std(axis=0)\n",
        "float_data /= std"
      ],
      "execution_count": 0,
      "outputs": []
    },
    {
      "cell_type": "code",
      "metadata": {
        "id": "wk2ZhXIaJwSv",
        "colab_type": "code",
        "outputId": "e71bbf41-0117-42e9-84c5-e8c039eb89e6",
        "colab": {
          "base_uri": "https://localhost:8080/",
          "height": 70
        }
      },
      "source": [
        "std"
      ],
      "execution_count": 0,
      "outputs": [
        {
          "output_type": "execute_result",
          "data": {
            "text/plain": [
              "array([ 8.48043388,  8.85249908,  8.95324185,  7.16584991, 16.72731652,\n",
              "        7.68914559,  4.19808168,  4.84034436,  2.66564926,  4.25206364,\n",
              "       42.48884277,  1.53666449,  2.33067298, 86.61322998])"
            ]
          },
          "metadata": {
            "tags": []
          },
          "execution_count": 6
        }
      ]
    },
    {
      "cell_type": "markdown",
      "metadata": {
        "id": "zsz_sEuERoYI",
        "colab_type": "text"
      },
      "source": [
        "#### 코드 6-33 : 시계열 데이터와 타깃을 반환하는 제너레이터 함수"
      ]
    },
    {
      "cell_type": "code",
      "metadata": {
        "id": "rS_L7dIhIvLg",
        "colab_type": "code",
        "colab": {}
      },
      "source": [
        "\n",
        "def generator(data, lookback, delay, min_index, max_index,\n",
        "              shuffle=False, batch_size=128, step=6):\n",
        "    if max_index is None:\n",
        "        max_index = len(data) - delay - 1\n",
        "    i = min_index + lookback\n",
        "    while 1:\n",
        "        if shuffle:\n",
        "            rows = np.random.randint(\n",
        "                min_index + lookback, max_index, size=batch_size)\n",
        "        else:\n",
        "            if i + batch_size >= max_index:\n",
        "                i = min_index + lookback\n",
        "            rows = np.arange(i, min(i + batch_size, max_index))\n",
        "            i += len(rows)\n",
        "\n",
        "        samples = np.zeros((len(rows),\n",
        "                           lookback // step,\n",
        "                           data.shape[-1]))\n",
        "        targets = np.zeros((len(rows),))\n",
        "        for j, row in enumerate(rows):\n",
        "            indices = range(rows[j] - lookback, rows[j], step)\n",
        "            samples[j] = data[indices]\n",
        "            targets[j] = data[rows[j] + delay][1]\n",
        "        yield samples, targets"
      ],
      "execution_count": 0,
      "outputs": []
    },
    {
      "cell_type": "markdown",
      "metadata": {
        "id": "8frcDB4Vq9TK",
        "colab_type": "text"
      },
      "source": [
        "#### 코드 6-34 : 훈련,검증,테스트 제너레이터 준비하기"
      ]
    },
    {
      "cell_type": "code",
      "metadata": {
        "id": "6RFn9ov2rAhL",
        "colab_type": "code",
        "colab": {}
      },
      "source": [
        "lookback=1440 #10일 전\n",
        "step=6 #1시간마다 데이터 포인트 하나를 샘플링\n",
        "delay=144 #24시간이 지난 데이터가 타깃\n",
        "batch_size=128\n",
        "\n",
        "train_gen=generator(float_data,\n",
        "                    lookback=lookback,\n",
        "                    delay=delay,\n",
        "                    min_index=0,\n",
        "                    max_index=200000,\n",
        "                    shuffle=True,\n",
        "                    step=step,\n",
        "                    batch_size=batch_size)\n",
        "val_gen=generator(float_data,\n",
        "                    lookback=lookback,\n",
        "                    delay=delay,\n",
        "                    min_index=200001,\n",
        "                    max_index=300000,\n",
        "                    step=step,\n",
        "                    batch_size=batch_size)\n",
        "test_gen=generator(float_data,\n",
        "                    lookback=lookback,\n",
        "                    delay=delay,\n",
        "                    min_index=300001,\n",
        "                    max_index=None,\n",
        "                    step=step,\n",
        "                    batch_size=batch_size)\n",
        "\n",
        "# generator()함수는 while문을 사용하여 무한반복되기 때문에 검증 세트와 테스트 세트를\n",
        "# 한 번 순회하는 횟수를 알려주어야함\n",
        "val_steps=(300000-200001-lookback)//batch_size #전체 검증 세트를 순회하기 위해 val_gen에서 추출할 횟수\n",
        "test_steps=(len(float_data)-300001-lookback)//batch_size "
      ],
      "execution_count": 0,
      "outputs": []
    },
    {
      "cell_type": "code",
      "metadata": {
        "id": "xvCsxwrlI38C",
        "colab_type": "code",
        "colab": {}
      },
      "source": [
        "lookback = 1440\n",
        "step = 6\n",
        "delay = 144\n",
        "batch_size = 128\n",
        "\n",
        "train_gen = generator(float_data,\n",
        "                      lookback=lookback,\n",
        "                      delay=delay,\n",
        "                      min_index=0,\n",
        "                      max_index=200000,\n",
        "                      shuffle=True,\n",
        "                      step=step, \n",
        "                      batch_size=batch_size)\n",
        "val_gen = generator(float_data,\n",
        "                    lookback=lookback,\n",
        "                    delay=delay,\n",
        "                    min_index=200001,\n",
        "                    max_index=300000,\n",
        "                    step=step,\n",
        "                    batch_size=batch_size)\n",
        "test_gen = generator(float_data,\n",
        "                     lookback=lookback,\n",
        "                     delay=delay,\n",
        "                     min_index=300001,\n",
        "                     max_index=None,\n",
        "                     step=step,\n",
        "                     batch_size=batch_size)\n",
        "\n",
        "# 전체 검증 세트를 순회하기 위해 val_gen에서 추출할 횟수\n",
        "val_steps = (300000 - 200001 - lookback) // batch_size\n",
        "\n",
        "# 전체 테스트 세트를 순회하기 위해 test_gen에서 추출할 횟수\n",
        "test_steps = (len(float_data) - 300001 - lookback) // batch_size"
      ],
      "execution_count": 0,
      "outputs": []
    },
    {
      "cell_type": "markdown",
      "metadata": {
        "id": "z0WCQYtgsUYm",
        "colab_type": "text"
      },
      "source": [
        "### 상식 수준의 기준점"
      ]
    },
    {
      "cell_type": "markdown",
      "metadata": {
        "id": "UAvvsCQQsvsz",
        "colab_type": "text"
      },
      "source": [
        "#### 코드 6-35 : 상식적인 기준 모델의 MAE 계산하기"
      ]
    },
    {
      "cell_type": "code",
      "metadata": {
        "id": "kDv2Bda4px3P",
        "colab_type": "code",
        "outputId": "d230e414-8433-4822-f9cf-89d58d0b6b7f",
        "colab": {
          "base_uri": "https://localhost:8080/",
          "height": 34
        }
      },
      "source": [
        "def evaluate_naive_method():\n",
        "  batch_maes=[]\n",
        "  for step in range(val_steps):\n",
        "    samples,targets=next(val_gen)\n",
        "    preds=samples[:,-1,1]\n",
        "    mae=np.mean(np.abs(preds-targets))\n",
        "    batch_maes.append(mae)\n",
        "  print(np.mean(batch_maes))\n",
        "\n",
        "evaluate_naive_method()"
      ],
      "execution_count": 0,
      "outputs": [
        {
          "output_type": "stream",
          "text": [
            "0.2897359729905486\n"
          ],
          "name": "stdout"
        }
      ]
    },
    {
      "cell_type": "markdown",
      "metadata": {
        "id": "m2cYIaWFtrJI",
        "colab_type": "text"
      },
      "source": [
        "#### 코드 6-36: MAE를 섭씨 단위로 변환하기"
      ]
    },
    {
      "cell_type": "code",
      "metadata": {
        "id": "WwkDAtB9tPcH",
        "colab_type": "code",
        "outputId": "9d2e29aa-c556-4b9d-e66e-bb0d44eec55b",
        "colab": {
          "base_uri": "https://localhost:8080/",
          "height": 34
        }
      },
      "source": [
        "0.29*std[1]"
      ],
      "execution_count": 0,
      "outputs": [
        {
          "output_type": "execute_result",
          "data": {
            "text/plain": [
              "2.5672247338393395"
            ]
          },
          "metadata": {
            "tags": []
          },
          "execution_count": 10
        }
      ]
    },
    {
      "cell_type": "markdown",
      "metadata": {
        "id": "1-yQSIOVuGca",
        "colab_type": "text"
      },
      "source": [
        "### 6.3.4 기본적인 머신 러닝 방법"
      ]
    },
    {
      "cell_type": "markdown",
      "metadata": {
        "id": "aN9XBXJA_iVy",
        "colab_type": "text"
      },
      "source": [
        "#### 코드 6-37: 완전 연결 모델을 훈련하고 평가하기"
      ]
    },
    {
      "cell_type": "code",
      "metadata": {
        "id": "FIN4uT1Lt1T6",
        "colab_type": "code",
        "outputId": "2ef8a5c9-192c-430c-ac4e-2806763d9523",
        "colab": {
          "base_uri": "https://localhost:8080/",
          "height": 962
        }
      },
      "source": [
        "from keras.models import Sequential\n",
        "from keras import layers\n",
        "from keras.optimizers import RMSprop\n",
        "\n",
        "model=Sequential()\n",
        "model.add(layers.Flatten(input_shape=(lookback//step,float_data.shape[-1])))\n",
        "model.add(layers.Dense(32,activation='relu'))\n",
        "model.add(layers.Dense(1))\n",
        "\n",
        "model.compile(optimizer=RMSprop(),loss='mae')\n",
        "history=model.fit_generator(train_gen,\n",
        "                            steps_per_epoch=500,\n",
        "                            epochs=20,\n",
        "                            validation_data=val_gen,\n",
        "                            validation_steps=val_steps)"
      ],
      "execution_count": 0,
      "outputs": [
        {
          "output_type": "stream",
          "text": [
            "Using TensorFlow backend.\n"
          ],
          "name": "stderr"
        },
        {
          "output_type": "display_data",
          "data": {
            "text/html": [
              "<p style=\"color: red;\">\n",
              "The default version of TensorFlow in Colab will soon switch to TensorFlow 2.x.<br>\n",
              "We recommend you <a href=\"https://www.tensorflow.org/guide/migrate\" target=\"_blank\">upgrade</a> now \n",
              "or ensure your notebook will continue to use TensorFlow 1.x via the <code>%tensorflow_version 1.x</code> magic:\n",
              "<a href=\"https://colab.research.google.com/notebooks/tensorflow_version.ipynb\" target=\"_blank\">more info</a>.</p>\n"
            ],
            "text/plain": [
              "<IPython.core.display.HTML object>"
            ]
          },
          "metadata": {
            "tags": []
          }
        },
        {
          "output_type": "stream",
          "text": [
            "WARNING:tensorflow:From /usr/local/lib/python3.6/dist-packages/keras/backend/tensorflow_backend.py:66: The name tf.get_default_graph is deprecated. Please use tf.compat.v1.get_default_graph instead.\n",
            "\n",
            "WARNING:tensorflow:From /usr/local/lib/python3.6/dist-packages/keras/backend/tensorflow_backend.py:541: The name tf.placeholder is deprecated. Please use tf.compat.v1.placeholder instead.\n",
            "\n",
            "WARNING:tensorflow:From /usr/local/lib/python3.6/dist-packages/keras/backend/tensorflow_backend.py:4432: The name tf.random_uniform is deprecated. Please use tf.random.uniform instead.\n",
            "\n",
            "WARNING:tensorflow:From /usr/local/lib/python3.6/dist-packages/keras/optimizers.py:793: The name tf.train.Optimizer is deprecated. Please use tf.compat.v1.train.Optimizer instead.\n",
            "\n",
            "WARNING:tensorflow:From /usr/local/lib/python3.6/dist-packages/keras/backend/tensorflow_backend.py:1033: The name tf.assign_add is deprecated. Please use tf.compat.v1.assign_add instead.\n",
            "\n",
            "WARNING:tensorflow:From /usr/local/lib/python3.6/dist-packages/keras/backend/tensorflow_backend.py:1020: The name tf.assign is deprecated. Please use tf.compat.v1.assign instead.\n",
            "\n",
            "WARNING:tensorflow:From /usr/local/lib/python3.6/dist-packages/keras/backend/tensorflow_backend.py:3005: The name tf.Session is deprecated. Please use tf.compat.v1.Session instead.\n",
            "\n",
            "Epoch 1/20\n",
            "WARNING:tensorflow:From /usr/local/lib/python3.6/dist-packages/keras/backend/tensorflow_backend.py:190: The name tf.get_default_session is deprecated. Please use tf.compat.v1.get_default_session instead.\n",
            "\n",
            "WARNING:tensorflow:From /usr/local/lib/python3.6/dist-packages/keras/backend/tensorflow_backend.py:197: The name tf.ConfigProto is deprecated. Please use tf.compat.v1.ConfigProto instead.\n",
            "\n",
            "WARNING:tensorflow:From /usr/local/lib/python3.6/dist-packages/keras/backend/tensorflow_backend.py:207: The name tf.global_variables is deprecated. Please use tf.compat.v1.global_variables instead.\n",
            "\n",
            "WARNING:tensorflow:From /usr/local/lib/python3.6/dist-packages/keras/backend/tensorflow_backend.py:216: The name tf.is_variable_initialized is deprecated. Please use tf.compat.v1.is_variable_initialized instead.\n",
            "\n",
            "WARNING:tensorflow:From /usr/local/lib/python3.6/dist-packages/keras/backend/tensorflow_backend.py:223: The name tf.variables_initializer is deprecated. Please use tf.compat.v1.variables_initializer instead.\n",
            "\n",
            "500/500 [==============================] - 15s 30ms/step - loss: 1.5681 - val_loss: 1.8922\n",
            "Epoch 2/20\n",
            "500/500 [==============================] - 14s 28ms/step - loss: 3.2660 - val_loss: 6.9811\n",
            "Epoch 3/20\n",
            "497/500 [============================>.] - ETA: 0s - loss: 6.6774"
          ],
          "name": "stdout"
        },
        {
          "output_type": "error",
          "ename": "KeyboardInterrupt",
          "evalue": "ignored",
          "traceback": [
            "\u001b[0;31m---------------------------------------------------------------------------\u001b[0m",
            "\u001b[0;31mKeyboardInterrupt\u001b[0m                         Traceback (most recent call last)",
            "\u001b[0;32m<ipython-input-11-9090ac393750>\u001b[0m in \u001b[0;36m<module>\u001b[0;34m()\u001b[0m\n\u001b[1;32m     13\u001b[0m                             \u001b[0mepochs\u001b[0m\u001b[0;34m=\u001b[0m\u001b[0;36m20\u001b[0m\u001b[0;34m,\u001b[0m\u001b[0;34m\u001b[0m\u001b[0;34m\u001b[0m\u001b[0m\n\u001b[1;32m     14\u001b[0m                             \u001b[0mvalidation_data\u001b[0m\u001b[0;34m=\u001b[0m\u001b[0mval_gen\u001b[0m\u001b[0;34m,\u001b[0m\u001b[0;34m\u001b[0m\u001b[0;34m\u001b[0m\u001b[0m\n\u001b[0;32m---> 15\u001b[0;31m                             validation_steps=val_steps)\n\u001b[0m",
            "\u001b[0;32m/usr/local/lib/python3.6/dist-packages/keras/legacy/interfaces.py\u001b[0m in \u001b[0;36mwrapper\u001b[0;34m(*args, **kwargs)\u001b[0m\n\u001b[1;32m     89\u001b[0m                 warnings.warn('Update your `' + object_name + '` call to the ' +\n\u001b[1;32m     90\u001b[0m                               'Keras 2 API: ' + signature, stacklevel=2)\n\u001b[0;32m---> 91\u001b[0;31m             \u001b[0;32mreturn\u001b[0m \u001b[0mfunc\u001b[0m\u001b[0;34m(\u001b[0m\u001b[0;34m*\u001b[0m\u001b[0margs\u001b[0m\u001b[0;34m,\u001b[0m \u001b[0;34m**\u001b[0m\u001b[0mkwargs\u001b[0m\u001b[0;34m)\u001b[0m\u001b[0;34m\u001b[0m\u001b[0;34m\u001b[0m\u001b[0m\n\u001b[0m\u001b[1;32m     92\u001b[0m         \u001b[0mwrapper\u001b[0m\u001b[0;34m.\u001b[0m\u001b[0m_original_function\u001b[0m \u001b[0;34m=\u001b[0m \u001b[0mfunc\u001b[0m\u001b[0;34m\u001b[0m\u001b[0;34m\u001b[0m\u001b[0m\n\u001b[1;32m     93\u001b[0m         \u001b[0;32mreturn\u001b[0m \u001b[0mwrapper\u001b[0m\u001b[0;34m\u001b[0m\u001b[0;34m\u001b[0m\u001b[0m\n",
            "\u001b[0;32m/usr/local/lib/python3.6/dist-packages/keras/engine/training.py\u001b[0m in \u001b[0;36mfit_generator\u001b[0;34m(self, generator, steps_per_epoch, epochs, verbose, callbacks, validation_data, validation_steps, validation_freq, class_weight, max_queue_size, workers, use_multiprocessing, shuffle, initial_epoch)\u001b[0m\n\u001b[1;32m   1656\u001b[0m             \u001b[0muse_multiprocessing\u001b[0m\u001b[0;34m=\u001b[0m\u001b[0muse_multiprocessing\u001b[0m\u001b[0;34m,\u001b[0m\u001b[0;34m\u001b[0m\u001b[0;34m\u001b[0m\u001b[0m\n\u001b[1;32m   1657\u001b[0m             \u001b[0mshuffle\u001b[0m\u001b[0;34m=\u001b[0m\u001b[0mshuffle\u001b[0m\u001b[0;34m,\u001b[0m\u001b[0;34m\u001b[0m\u001b[0;34m\u001b[0m\u001b[0m\n\u001b[0;32m-> 1658\u001b[0;31m             initial_epoch=initial_epoch)\n\u001b[0m\u001b[1;32m   1659\u001b[0m \u001b[0;34m\u001b[0m\u001b[0m\n\u001b[1;32m   1660\u001b[0m     \u001b[0;34m@\u001b[0m\u001b[0minterfaces\u001b[0m\u001b[0;34m.\u001b[0m\u001b[0mlegacy_generator_methods_support\u001b[0m\u001b[0;34m\u001b[0m\u001b[0;34m\u001b[0m\u001b[0m\n",
            "\u001b[0;32m/usr/local/lib/python3.6/dist-packages/keras/engine/training_generator.py\u001b[0m in \u001b[0;36mfit_generator\u001b[0;34m(model, generator, steps_per_epoch, epochs, verbose, callbacks, validation_data, validation_steps, validation_freq, class_weight, max_queue_size, workers, use_multiprocessing, shuffle, initial_epoch)\u001b[0m\n\u001b[1;32m    235\u001b[0m                             \u001b[0mvalidation_steps\u001b[0m\u001b[0;34m,\u001b[0m\u001b[0;34m\u001b[0m\u001b[0;34m\u001b[0m\u001b[0m\n\u001b[1;32m    236\u001b[0m                             \u001b[0mcallbacks\u001b[0m\u001b[0;34m=\u001b[0m\u001b[0mcallbacks\u001b[0m\u001b[0;34m,\u001b[0m\u001b[0;34m\u001b[0m\u001b[0;34m\u001b[0m\u001b[0m\n\u001b[0;32m--> 237\u001b[0;31m                             workers=0)\n\u001b[0m\u001b[1;32m    238\u001b[0m                     \u001b[0;32melse\u001b[0m\u001b[0;34m:\u001b[0m\u001b[0;34m\u001b[0m\u001b[0;34m\u001b[0m\u001b[0m\n\u001b[1;32m    239\u001b[0m                         \u001b[0;31m# No need for try/except because\u001b[0m\u001b[0;34m\u001b[0m\u001b[0;34m\u001b[0m\u001b[0;34m\u001b[0m\u001b[0m\n",
            "\u001b[0;32m/usr/local/lib/python3.6/dist-packages/keras/legacy/interfaces.py\u001b[0m in \u001b[0;36mwrapper\u001b[0;34m(*args, **kwargs)\u001b[0m\n\u001b[1;32m     89\u001b[0m                 warnings.warn('Update your `' + object_name + '` call to the ' +\n\u001b[1;32m     90\u001b[0m                               'Keras 2 API: ' + signature, stacklevel=2)\n\u001b[0;32m---> 91\u001b[0;31m             \u001b[0;32mreturn\u001b[0m \u001b[0mfunc\u001b[0m\u001b[0;34m(\u001b[0m\u001b[0;34m*\u001b[0m\u001b[0margs\u001b[0m\u001b[0;34m,\u001b[0m \u001b[0;34m**\u001b[0m\u001b[0mkwargs\u001b[0m\u001b[0;34m)\u001b[0m\u001b[0;34m\u001b[0m\u001b[0;34m\u001b[0m\u001b[0m\n\u001b[0m\u001b[1;32m     92\u001b[0m         \u001b[0mwrapper\u001b[0m\u001b[0;34m.\u001b[0m\u001b[0m_original_function\u001b[0m \u001b[0;34m=\u001b[0m \u001b[0mfunc\u001b[0m\u001b[0;34m\u001b[0m\u001b[0;34m\u001b[0m\u001b[0m\n\u001b[1;32m     93\u001b[0m         \u001b[0;32mreturn\u001b[0m \u001b[0mwrapper\u001b[0m\u001b[0;34m\u001b[0m\u001b[0;34m\u001b[0m\u001b[0m\n",
            "\u001b[0;32m/usr/local/lib/python3.6/dist-packages/keras/engine/training.py\u001b[0m in \u001b[0;36mevaluate_generator\u001b[0;34m(self, generator, steps, callbacks, max_queue_size, workers, use_multiprocessing, verbose)\u001b[0m\n\u001b[1;32m   1715\u001b[0m             \u001b[0mworkers\u001b[0m\u001b[0;34m=\u001b[0m\u001b[0mworkers\u001b[0m\u001b[0;34m,\u001b[0m\u001b[0;34m\u001b[0m\u001b[0;34m\u001b[0m\u001b[0m\n\u001b[1;32m   1716\u001b[0m             \u001b[0muse_multiprocessing\u001b[0m\u001b[0;34m=\u001b[0m\u001b[0muse_multiprocessing\u001b[0m\u001b[0;34m,\u001b[0m\u001b[0;34m\u001b[0m\u001b[0;34m\u001b[0m\u001b[0m\n\u001b[0;32m-> 1717\u001b[0;31m             verbose=verbose)\n\u001b[0m\u001b[1;32m   1718\u001b[0m \u001b[0;34m\u001b[0m\u001b[0m\n\u001b[1;32m   1719\u001b[0m     \u001b[0;34m@\u001b[0m\u001b[0minterfaces\u001b[0m\u001b[0;34m.\u001b[0m\u001b[0mlegacy_generator_methods_support\u001b[0m\u001b[0;34m\u001b[0m\u001b[0;34m\u001b[0m\u001b[0m\n",
            "\u001b[0;32m/usr/local/lib/python3.6/dist-packages/keras/engine/training_generator.py\u001b[0m in \u001b[0;36mevaluate_generator\u001b[0;34m(model, generator, steps, callbacks, max_queue_size, workers, use_multiprocessing, verbose)\u001b[0m\n\u001b[1;32m    349\u001b[0m \u001b[0;34m\u001b[0m\u001b[0m\n\u001b[1;32m    350\u001b[0m         \u001b[0;32mwhile\u001b[0m \u001b[0msteps_done\u001b[0m \u001b[0;34m<\u001b[0m \u001b[0msteps\u001b[0m\u001b[0;34m:\u001b[0m\u001b[0;34m\u001b[0m\u001b[0;34m\u001b[0m\u001b[0m\n\u001b[0;32m--> 351\u001b[0;31m             \u001b[0mgenerator_output\u001b[0m \u001b[0;34m=\u001b[0m \u001b[0mnext\u001b[0m\u001b[0;34m(\u001b[0m\u001b[0moutput_generator\u001b[0m\u001b[0;34m)\u001b[0m\u001b[0;34m\u001b[0m\u001b[0;34m\u001b[0m\u001b[0m\n\u001b[0m\u001b[1;32m    352\u001b[0m             \u001b[0;32mif\u001b[0m \u001b[0;32mnot\u001b[0m \u001b[0mhasattr\u001b[0m\u001b[0;34m(\u001b[0m\u001b[0mgenerator_output\u001b[0m\u001b[0;34m,\u001b[0m \u001b[0;34m'__len__'\u001b[0m\u001b[0;34m)\u001b[0m\u001b[0;34m:\u001b[0m\u001b[0;34m\u001b[0m\u001b[0;34m\u001b[0m\u001b[0m\n\u001b[1;32m    353\u001b[0m                 raise ValueError('Output of generator should be a tuple '\n",
            "\u001b[0;32m/usr/local/lib/python3.6/dist-packages/keras/utils/data_utils.py\u001b[0m in \u001b[0;36mget\u001b[0;34m(self)\u001b[0m\n\u001b[1;32m    700\u001b[0m                 \u001b[0;32mtry\u001b[0m\u001b[0;34m:\u001b[0m\u001b[0;34m\u001b[0m\u001b[0;34m\u001b[0m\u001b[0m\n\u001b[1;32m    701\u001b[0m                     \u001b[0mfuture\u001b[0m \u001b[0;34m=\u001b[0m \u001b[0mself\u001b[0m\u001b[0;34m.\u001b[0m\u001b[0mqueue\u001b[0m\u001b[0;34m.\u001b[0m\u001b[0mget\u001b[0m\u001b[0;34m(\u001b[0m\u001b[0mblock\u001b[0m\u001b[0;34m=\u001b[0m\u001b[0;32mTrue\u001b[0m\u001b[0;34m)\u001b[0m\u001b[0;34m\u001b[0m\u001b[0;34m\u001b[0m\u001b[0m\n\u001b[0;32m--> 702\u001b[0;31m                     \u001b[0minputs\u001b[0m \u001b[0;34m=\u001b[0m \u001b[0mfuture\u001b[0m\u001b[0;34m.\u001b[0m\u001b[0mget\u001b[0m\u001b[0;34m(\u001b[0m\u001b[0mtimeout\u001b[0m\u001b[0;34m=\u001b[0m\u001b[0;36m30\u001b[0m\u001b[0;34m)\u001b[0m\u001b[0;34m\u001b[0m\u001b[0;34m\u001b[0m\u001b[0m\n\u001b[0m\u001b[1;32m    703\u001b[0m                     \u001b[0mself\u001b[0m\u001b[0;34m.\u001b[0m\u001b[0mqueue\u001b[0m\u001b[0;34m.\u001b[0m\u001b[0mtask_done\u001b[0m\u001b[0;34m(\u001b[0m\u001b[0;34m)\u001b[0m\u001b[0;34m\u001b[0m\u001b[0;34m\u001b[0m\u001b[0m\n\u001b[1;32m    704\u001b[0m                 \u001b[0;32mexcept\u001b[0m \u001b[0mmp\u001b[0m\u001b[0;34m.\u001b[0m\u001b[0mTimeoutError\u001b[0m\u001b[0;34m:\u001b[0m\u001b[0;34m\u001b[0m\u001b[0;34m\u001b[0m\u001b[0m\n",
            "\u001b[0;32m/usr/lib/python3.6/multiprocessing/pool.py\u001b[0m in \u001b[0;36mget\u001b[0;34m(self, timeout)\u001b[0m\n\u001b[1;32m    636\u001b[0m \u001b[0;34m\u001b[0m\u001b[0m\n\u001b[1;32m    637\u001b[0m     \u001b[0;32mdef\u001b[0m \u001b[0mget\u001b[0m\u001b[0;34m(\u001b[0m\u001b[0mself\u001b[0m\u001b[0;34m,\u001b[0m \u001b[0mtimeout\u001b[0m\u001b[0;34m=\u001b[0m\u001b[0;32mNone\u001b[0m\u001b[0;34m)\u001b[0m\u001b[0;34m:\u001b[0m\u001b[0;34m\u001b[0m\u001b[0;34m\u001b[0m\u001b[0m\n\u001b[0;32m--> 638\u001b[0;31m         \u001b[0mself\u001b[0m\u001b[0;34m.\u001b[0m\u001b[0mwait\u001b[0m\u001b[0;34m(\u001b[0m\u001b[0mtimeout\u001b[0m\u001b[0;34m)\u001b[0m\u001b[0;34m\u001b[0m\u001b[0;34m\u001b[0m\u001b[0m\n\u001b[0m\u001b[1;32m    639\u001b[0m         \u001b[0;32mif\u001b[0m \u001b[0;32mnot\u001b[0m \u001b[0mself\u001b[0m\u001b[0;34m.\u001b[0m\u001b[0mready\u001b[0m\u001b[0;34m(\u001b[0m\u001b[0;34m)\u001b[0m\u001b[0;34m:\u001b[0m\u001b[0;34m\u001b[0m\u001b[0;34m\u001b[0m\u001b[0m\n\u001b[1;32m    640\u001b[0m             \u001b[0;32mraise\u001b[0m \u001b[0mTimeoutError\u001b[0m\u001b[0;34m\u001b[0m\u001b[0;34m\u001b[0m\u001b[0m\n",
            "\u001b[0;32m/usr/lib/python3.6/multiprocessing/pool.py\u001b[0m in \u001b[0;36mwait\u001b[0;34m(self, timeout)\u001b[0m\n\u001b[1;32m    633\u001b[0m \u001b[0;34m\u001b[0m\u001b[0m\n\u001b[1;32m    634\u001b[0m     \u001b[0;32mdef\u001b[0m \u001b[0mwait\u001b[0m\u001b[0;34m(\u001b[0m\u001b[0mself\u001b[0m\u001b[0;34m,\u001b[0m \u001b[0mtimeout\u001b[0m\u001b[0;34m=\u001b[0m\u001b[0;32mNone\u001b[0m\u001b[0;34m)\u001b[0m\u001b[0;34m:\u001b[0m\u001b[0;34m\u001b[0m\u001b[0;34m\u001b[0m\u001b[0m\n\u001b[0;32m--> 635\u001b[0;31m         \u001b[0mself\u001b[0m\u001b[0;34m.\u001b[0m\u001b[0m_event\u001b[0m\u001b[0;34m.\u001b[0m\u001b[0mwait\u001b[0m\u001b[0;34m(\u001b[0m\u001b[0mtimeout\u001b[0m\u001b[0;34m)\u001b[0m\u001b[0;34m\u001b[0m\u001b[0;34m\u001b[0m\u001b[0m\n\u001b[0m\u001b[1;32m    636\u001b[0m \u001b[0;34m\u001b[0m\u001b[0m\n\u001b[1;32m    637\u001b[0m     \u001b[0;32mdef\u001b[0m \u001b[0mget\u001b[0m\u001b[0;34m(\u001b[0m\u001b[0mself\u001b[0m\u001b[0;34m,\u001b[0m \u001b[0mtimeout\u001b[0m\u001b[0;34m=\u001b[0m\u001b[0;32mNone\u001b[0m\u001b[0;34m)\u001b[0m\u001b[0;34m:\u001b[0m\u001b[0;34m\u001b[0m\u001b[0;34m\u001b[0m\u001b[0m\n",
            "\u001b[0;32m/usr/lib/python3.6/threading.py\u001b[0m in \u001b[0;36mwait\u001b[0;34m(self, timeout)\u001b[0m\n\u001b[1;32m    549\u001b[0m             \u001b[0msignaled\u001b[0m \u001b[0;34m=\u001b[0m \u001b[0mself\u001b[0m\u001b[0;34m.\u001b[0m\u001b[0m_flag\u001b[0m\u001b[0;34m\u001b[0m\u001b[0;34m\u001b[0m\u001b[0m\n\u001b[1;32m    550\u001b[0m             \u001b[0;32mif\u001b[0m \u001b[0;32mnot\u001b[0m \u001b[0msignaled\u001b[0m\u001b[0;34m:\u001b[0m\u001b[0;34m\u001b[0m\u001b[0;34m\u001b[0m\u001b[0m\n\u001b[0;32m--> 551\u001b[0;31m                 \u001b[0msignaled\u001b[0m \u001b[0;34m=\u001b[0m \u001b[0mself\u001b[0m\u001b[0;34m.\u001b[0m\u001b[0m_cond\u001b[0m\u001b[0;34m.\u001b[0m\u001b[0mwait\u001b[0m\u001b[0;34m(\u001b[0m\u001b[0mtimeout\u001b[0m\u001b[0;34m)\u001b[0m\u001b[0;34m\u001b[0m\u001b[0;34m\u001b[0m\u001b[0m\n\u001b[0m\u001b[1;32m    552\u001b[0m             \u001b[0;32mreturn\u001b[0m \u001b[0msignaled\u001b[0m\u001b[0;34m\u001b[0m\u001b[0;34m\u001b[0m\u001b[0m\n\u001b[1;32m    553\u001b[0m \u001b[0;34m\u001b[0m\u001b[0m\n",
            "\u001b[0;32m/usr/lib/python3.6/threading.py\u001b[0m in \u001b[0;36mwait\u001b[0;34m(self, timeout)\u001b[0m\n\u001b[1;32m    297\u001b[0m             \u001b[0;32melse\u001b[0m\u001b[0;34m:\u001b[0m\u001b[0;34m\u001b[0m\u001b[0;34m\u001b[0m\u001b[0m\n\u001b[1;32m    298\u001b[0m                 \u001b[0;32mif\u001b[0m \u001b[0mtimeout\u001b[0m \u001b[0;34m>\u001b[0m \u001b[0;36m0\u001b[0m\u001b[0;34m:\u001b[0m\u001b[0;34m\u001b[0m\u001b[0;34m\u001b[0m\u001b[0m\n\u001b[0;32m--> 299\u001b[0;31m                     \u001b[0mgotit\u001b[0m \u001b[0;34m=\u001b[0m \u001b[0mwaiter\u001b[0m\u001b[0;34m.\u001b[0m\u001b[0macquire\u001b[0m\u001b[0;34m(\u001b[0m\u001b[0;32mTrue\u001b[0m\u001b[0;34m,\u001b[0m \u001b[0mtimeout\u001b[0m\u001b[0;34m)\u001b[0m\u001b[0;34m\u001b[0m\u001b[0;34m\u001b[0m\u001b[0m\n\u001b[0m\u001b[1;32m    300\u001b[0m                 \u001b[0;32melse\u001b[0m\u001b[0;34m:\u001b[0m\u001b[0;34m\u001b[0m\u001b[0;34m\u001b[0m\u001b[0m\n\u001b[1;32m    301\u001b[0m                     \u001b[0mgotit\u001b[0m \u001b[0;34m=\u001b[0m \u001b[0mwaiter\u001b[0m\u001b[0;34m.\u001b[0m\u001b[0macquire\u001b[0m\u001b[0;34m(\u001b[0m\u001b[0;32mFalse\u001b[0m\u001b[0;34m)\u001b[0m\u001b[0;34m\u001b[0m\u001b[0;34m\u001b[0m\u001b[0m\n",
            "\u001b[0;31mKeyboardInterrupt\u001b[0m: "
          ]
        }
      ]
    },
    {
      "cell_type": "code",
      "metadata": {
        "id": "f257Odp-AqsS",
        "colab_type": "code",
        "outputId": "1849be41-0e0f-4a16-a872-109db3337001",
        "colab": {
          "base_uri": "https://localhost:8080/",
          "height": 34
        }
      },
      "source": [
        "lookback//step"
      ],
      "execution_count": 0,
      "outputs": [
        {
          "output_type": "execute_result",
          "data": {
            "text/plain": [
              "240"
            ]
          },
          "metadata": {
            "tags": []
          },
          "execution_count": 136
        }
      ]
    },
    {
      "cell_type": "code",
      "metadata": {
        "id": "dZ9i6NQgBmRs",
        "colab_type": "code",
        "outputId": "fbc84cdf-b555-4d70-99ab-0e2103283d7c",
        "colab": {
          "base_uri": "https://localhost:8080/",
          "height": 34
        }
      },
      "source": [
        "float_data.shape[-1]"
      ],
      "execution_count": 0,
      "outputs": [
        {
          "output_type": "execute_result",
          "data": {
            "text/plain": [
              "14"
            ]
          },
          "metadata": {
            "tags": []
          },
          "execution_count": 137
        }
      ]
    },
    {
      "cell_type": "markdown",
      "metadata": {
        "id": "o8RvsuTQBrZP",
        "colab_type": "text"
      },
      "source": [
        "#### 코드6-38 : 결과 그래프 그리기"
      ]
    },
    {
      "cell_type": "code",
      "metadata": {
        "id": "tUq0oq9CBpO1",
        "colab_type": "code",
        "outputId": "00bc0b63-00aa-47dd-ee0e-5e8ef251edfd",
        "colab": {
          "base_uri": "https://localhost:8080/",
          "height": 281
        }
      },
      "source": [
        "import matplotlib.pyplot as plt\n",
        "\n",
        "\n",
        "loss=history.history['loss']\n",
        "val_loss=history.history['val_loss']\n",
        "\n",
        "epochs=range(1,len(loss)+1)\n",
        "plt.figure()\n",
        "\n",
        "plt.plot(epochs,loss,'bo',label='Training loss')\n",
        "plt.plot(epochs,val_loss,'b',label='Validation loss')\n",
        "plt.title('Training and Validation loss')\n",
        "plt.legend()\n",
        "\n",
        "plt.show()"
      ],
      "execution_count": 0,
      "outputs": [
        {
          "output_type": "display_data",
          "data": {
            "image/png": "[encoded data removed]",
            "text/plain": [
              "<Figure size 432x288 with 1 Axes>"
            ]
          },
          "metadata": {
            "tags": []
          }
        }
      ]
    },
    {
      "cell_type": "markdown",
      "metadata": {
        "id": "YYJqxe9GFKdI",
        "colab_type": "text"
      },
      "source": [
        "### 6.3.5 첫 번째 순환 신경망"
      ]
    },
    {
      "cell_type": "markdown",
      "metadata": {
        "id": "4unAfoj_FNBH",
        "colab_type": "text"
      },
      "source": [
        "#### 코드 6-39 : GRU를 사용한 모델을 훈련하고 평가하기"
      ]
    },
    {
      "cell_type": "code",
      "metadata": {
        "id": "hXiAP1tZB4vP",
        "colab_type": "code",
        "colab": {}
      },
      "source": [
        "from keras.models import Sequential\n",
        "from keras import layers\n",
        "from keras.optimizers import RMSprop\n",
        "\n",
        "model=Sequential()\n",
        "model.add(layers.GRU(32,input_shape=(None,float_data.shape[-1])))\n",
        "model.add(layers.Dense(1))\n",
        "\n",
        "model.compile(optimizer=RMSprop(),loss='mae')\n",
        "history=model.fit_generator(train_gen,\n",
        "                            steps_per_epoch=500,\n",
        "                            epochs=20,\n",
        "                            validation_data=val_gen,\n",
        "                            validation_steps=val_steps)"
      ],
      "execution_count": 0,
      "outputs": []
    },
    {
      "cell_type": "code",
      "metadata": {
        "id": "GD0X3LuWFmR3",
        "colab_type": "code",
        "colab": {}
      },
      "source": [
        "import matplotlib.pyplot as plt\n",
        "\n",
        "\n",
        "loss=history.history['loss']\n",
        "val_loss=history.history['val_loss']\n",
        "\n",
        "epochs=range(1,len(loss)+1)\n",
        "plt.figure()\n",
        "\n",
        "plt.plot(epochs,loss,'bo',label='Training loss')\n",
        "plt.plot(epochs,val_loss,'b',label='Validation loss')\n",
        "plt.title('Training and Validation loss')\n",
        "plt.legend()\n",
        "\n",
        "plt.show()"
      ],
      "execution_count": 0,
      "outputs": []
    },
    {
      "cell_type": "markdown",
      "metadata": {
        "id": "NxI-7TFROn4h",
        "colab_type": "text"
      },
      "source": [
        "### 6.3.6 과대적합을 감소하기 위해 순환 드롭아웃 사용하기"
      ]
    },
    {
      "cell_type": "code",
      "metadata": {
        "id": "GlVS3OUXOslJ",
        "colab_type": "code",
        "colab": {}
      },
      "source": [
        "from keras.models import Sequential\n",
        "from keras import layers\n",
        "from keras.optimizers import RMSprop\n",
        "\n",
        "model=Sequential()\n",
        "model.add(layers.GRU(32,\n",
        "                     dropout=0.2,\n",
        "                     recurrent_dropout=0.2,\n",
        "                     input_shape=(None,float_data.shape[-1]))\n",
        "model.add(layers.Dense(1))\n",
        "\n",
        "model.compile(optimizer=RMSprop(),loss='mae')\n",
        "history=model.fit_generator(train_gen,\n",
        "                            steps_per_epoch=500,\n",
        "                            epochs=40,\n",
        "                            validation_data=val_gen,\n",
        "                            validation_steps=val_steps)"
      ],
      "execution_count": 0,
      "outputs": []
    },
    {
      "cell_type": "markdown",
      "metadata": {
        "id": "sZ4ke2ndNcwb",
        "colab_type": "text"
      },
      "source": [
        "### 6.3.7 스태킹 순환 층"
      ]
    },
    {
      "cell_type": "markdown",
      "metadata": {
        "id": "609aZyt3Nd5s",
        "colab_type": "text"
      },
      "source": [
        "#### 코드 6-41 : 드롭아웃으로 규제하고 스태킹한 GRU 모델을 훈련하고 평가하기"
      ]
    },
    {
      "cell_type": "code",
      "metadata": {
        "id": "CR_NW5DDFqRx",
        "colab_type": "code",
        "colab": {}
      },
      "source": [
        "from keras.models import Sequential\n",
        "from keras import layers\n",
        "from keras.optimizers import RMSprop\n",
        "\n",
        "model=Sequential()\n",
        "model.add(layers.GRU(32,\n",
        "                     dropout=0.1,\n",
        "                     recurrent_dropout=0.5,\n",
        "                     return_sequences=True,\n",
        "                     input_shape=(None,float_data.shape[-1]))\n",
        "model.add(layers.GRU(64,activation='relu',\n",
        "                     dropout=0.1,\n",
        "                     recurrent_dropout=0.5))\n",
        "model.add(layers.Dense(1))\n",
        "\n",
        "model.compile(optimizer=RMSprop(),loss='mae')\n",
        "history=model.fit_generator(train_gen,\n",
        "                            steps_per_epoch=500,\n",
        "                            epochs=40,\n",
        "                            validation_data=val_gen,\n",
        "                            validation_steps=val_steps)"
      ],
      "execution_count": 0,
      "outputs": []
    },
    {
      "cell_type": "markdown",
      "metadata": {
        "id": "FxWbP1iQP9mS",
        "colab_type": "text"
      },
      "source": [
        "### 6.3.8 양방향 RNN 사용하기"
      ]
    },
    {
      "cell_type": "markdown",
      "metadata": {
        "id": "bwaBqhcdQA6K",
        "colab_type": "text"
      },
      "source": [
        "#### 코드 6-42 :거꾸로 된 시퀀스를 사용한 LSTM을 훈련하고 평가하기"
      ]
    },
    {
      "cell_type": "code",
      "metadata": {
        "id": "O1qEo8VpRHNn",
        "colab_type": "code",
        "outputId": "5d20e1b1-91f9-4ff8-d3b4-5cdb87dc3800",
        "colab": {
          "base_uri": "https://localhost:8080/",
          "height": 386
        }
      },
      "source": [
        "from tensorflow.keras.datasets import imdb\n",
        "from tensorflow.keras.preprocessing import sequence\n",
        "from tensorflow.keras import layers\n",
        "from tensorflow.keras.models import Sequential\n",
        "\n",
        "max_features=10000\n",
        "maxlen=50\n",
        "\n",
        "(x_train,y_train),(x_test,y_test)=imdb.load_data(\n",
        "    num_words=max_features\n",
        ")\n",
        "\n",
        "#시퀀스 뒤집음\n",
        "x_train=[x[::-1]for x in x_train]\n",
        "x_test=[x[::-1]for x in x_test]\n",
        "\n",
        "x_train = sequence.pad_sequences(x_train, maxlen=maxlen)\n",
        "x_test = sequence.pad_sequences(x_test, maxlen=maxlen)\n",
        "\n",
        "model=Sequential()\n",
        "model.add(layers.Embedding(max_features,128))\n",
        "model.add(layers.LSTM(32))\n",
        "model.add(layers.Dense(1,activation='sigmoid'))\n",
        "\n",
        "model.compile(optimizer='rmsprop',\n",
        "              loss='binary_crossentropy',\n",
        "              metrics=['acc'])\n",
        "history=model.fit(x_train,y_train,\n",
        "                  epochs=10,\n",
        "                  batch_size=128,\n",
        "                  validation_split=0.2)"
      ],
      "execution_count": 0,
      "outputs": [
        {
          "output_type": "stream",
          "text": [
            "Train on 20000 samples, validate on 5000 samples\n",
            "Epoch 1/10\n",
            "20000/20000 [==============================] - 13s 647us/sample - loss: 0.5451 - acc: 0.7163 - val_loss: 0.4849 - val_acc: 0.7678\n",
            "Epoch 2/10\n",
            "20000/20000 [==============================] - 12s 607us/sample - loss: 0.3936 - acc: 0.8263 - val_loss: 0.4839 - val_acc: 0.7640\n",
            "Epoch 3/10\n",
            "20000/20000 [==============================] - 12s 614us/sample - loss: 0.3431 - acc: 0.8545 - val_loss: 0.4724 - val_acc: 0.7722\n",
            "Epoch 4/10\n",
            "20000/20000 [==============================] - 12s 608us/sample - loss: 0.3065 - acc: 0.8688 - val_loss: 0.5195 - val_acc: 0.7612\n",
            "Epoch 5/10\n",
            "20000/20000 [==============================] - 12s 609us/sample - loss: 0.2752 - acc: 0.8857 - val_loss: 0.5809 - val_acc: 0.7618\n",
            "Epoch 6/10\n",
            "20000/20000 [==============================] - 12s 609us/sample - loss: 0.2468 - acc: 0.8981 - val_loss: 0.5269 - val_acc: 0.7590\n",
            "Epoch 7/10\n",
            "20000/20000 [==============================] - 12s 606us/sample - loss: 0.2197 - acc: 0.9117 - val_loss: 0.8539 - val_acc: 0.7424\n",
            "Epoch 8/10\n",
            "20000/20000 [==============================] - 12s 610us/sample - loss: 0.1937 - acc: 0.9222 - val_loss: 0.6298 - val_acc: 0.7582\n",
            "Epoch 9/10\n",
            "20000/20000 [==============================] - 12s 606us/sample - loss: 0.1719 - acc: 0.9315 - val_loss: 0.6713 - val_acc: 0.7476\n",
            "Epoch 10/10\n",
            "20000/20000 [==============================] - 12s 607us/sample - loss: 0.1495 - acc: 0.9413 - val_loss: 0.9449 - val_acc: 0.7330\n"
          ],
          "name": "stdout"
        }
      ]
    },
    {
      "cell_type": "markdown",
      "metadata": {
        "id": "OOM-_8DxTL9G",
        "colab_type": "text"
      },
      "source": [
        "#### 코드 6-43 : 양방향 LSTM을 훈련하고 평가하기"
      ]
    },
    {
      "cell_type": "code",
      "metadata": {
        "id": "b4DXXgTTSLgE",
        "colab_type": "code",
        "outputId": "f6499541-75ef-44d0-c1ca-ee8b687956ba",
        "colab": {
          "base_uri": "https://localhost:8080/",
          "height": 564
        }
      },
      "source": [
        "model=Sequential()\n",
        "model.add(layers.Embedding(max_features,32))\n",
        "model.add(layers.Bidirectional(layers.LSTM(32)))\n",
        "model.add(layers.Dense(1,activation='sigmoid'))\n",
        "\n",
        "model.compile(optimizer='rmsprop',\n",
        "              loss='binary_crossentropy',\n",
        "              metrics=['acc'])\n",
        "history=model.fit(x_train,y_train,\n",
        "                  epochs=10,\n",
        "                  batch_size=128,\n",
        "                  validation_split=0.2)"
      ],
      "execution_count": 0,
      "outputs": [
        {
          "output_type": "stream",
          "text": [
            "WARNING:tensorflow:From /tensorflow-1.15.0/python3.6/tensorflow_core/python/ops/init_ops.py:97: calling GlorotUniform.__init__ (from tensorflow.python.ops.init_ops) with dtype is deprecated and will be removed in a future version.\n",
            "Instructions for updating:\n",
            "Call initializer instance with the dtype argument instead of passing it to the constructor\n",
            "WARNING:tensorflow:From /tensorflow-1.15.0/python3.6/tensorflow_core/python/ops/init_ops.py:97: calling Orthogonal.__init__ (from tensorflow.python.ops.init_ops) with dtype is deprecated and will be removed in a future version.\n",
            "Instructions for updating:\n",
            "Call initializer instance with the dtype argument instead of passing it to the constructor\n",
            "WARNING:tensorflow:From /tensorflow-1.15.0/python3.6/tensorflow_core/python/ops/init_ops.py:97: calling Zeros.__init__ (from tensorflow.python.ops.init_ops) with dtype is deprecated and will be removed in a future version.\n",
            "Instructions for updating:\n",
            "Call initializer instance with the dtype argument instead of passing it to the constructor\n",
            "Train on 20000 samples, validate on 5000 samples\n",
            "Epoch 1/10\n",
            "20000/20000 [==============================] - 16s 802us/sample - loss: 0.5684 - acc: 0.6865 - val_loss: 0.5032 - val_acc: 0.7606\n",
            "Epoch 2/10\n",
            "20000/20000 [==============================] - 15s 749us/sample - loss: 0.4119 - acc: 0.8153 - val_loss: 0.4833 - val_acc: 0.7754\n",
            "Epoch 3/10\n",
            "20000/20000 [==============================] - 15s 738us/sample - loss: 0.3525 - acc: 0.8480 - val_loss: 0.6354 - val_acc: 0.7160\n",
            "Epoch 4/10\n",
            "20000/20000 [==============================] - 15s 740us/sample - loss: 0.3168 - acc: 0.8655 - val_loss: 0.4946 - val_acc: 0.7652\n",
            "Epoch 5/10\n",
            "20000/20000 [==============================] - 15s 733us/sample - loss: 0.2861 - acc: 0.8824 - val_loss: 0.5149 - val_acc: 0.7504\n",
            "Epoch 6/10\n",
            "20000/20000 [==============================] - 15s 744us/sample - loss: 0.2578 - acc: 0.8948 - val_loss: 0.5392 - val_acc: 0.7538\n",
            "Epoch 7/10\n",
            "20000/20000 [==============================] - 15s 737us/sample - loss: 0.2365 - acc: 0.9050 - val_loss: 0.5926 - val_acc: 0.7566\n",
            "Epoch 8/10\n",
            "20000/20000 [==============================] - 15s 748us/sample - loss: 0.2146 - acc: 0.9151 - val_loss: 0.6460 - val_acc: 0.7494\n",
            "Epoch 9/10\n",
            "20000/20000 [==============================] - 15s 735us/sample - loss: 0.1962 - acc: 0.9242 - val_loss: 0.6559 - val_acc: 0.7538\n",
            "Epoch 10/10\n",
            "20000/20000 [==============================] - 15s 746us/sample - loss: 0.1819 - acc: 0.9291 - val_loss: 0.7066 - val_acc: 0.7478\n"
          ],
          "name": "stdout"
        }
      ]
    },
    {
      "cell_type": "markdown",
      "metadata": {
        "id": "shrVneGBTTxC",
        "colab_type": "text"
      },
      "source": [
        "#### 코드 6-44 : 양방향 GRU을 훈련하고 평가하기"
      ]
    },
    {
      "cell_type": "code",
      "metadata": {
        "id": "SGr5LbGCTwdN",
        "colab_type": "code",
        "outputId": "99f0c6e6-b477-47ed-ee7e-ad18e8fc592f",
        "colab": {
          "base_uri": "https://localhost:8080/",
          "height": 403
        }
      },
      "source": [
        "from tensorflow.keras.optimizers import RMSprop\n",
        "\n",
        "model=Sequential()\n",
        "model.add(layers.Bidirectional(layers.GRU(32),input_shape=(None,float_data.shape[-1])))\n",
        "model.add(layers.Dense(1))\n",
        "\n",
        "model.compile(optimizer=RMSprop(),\n",
        "              loss='mae')\n",
        "history=model.fit_generator(train_gen,\n",
        "                  steps_per_epoch=500,\n",
        "                  epochs=40,\n",
        "                  validation_data=val_gen,\n",
        "                  validation_steps=val_steps)"
      ],
      "execution_count": 0,
      "outputs": [
        {
          "output_type": "stream",
          "text": [
            "Epoch 1/40\n",
            "499/500 [============================>.] - ETA: 0s - loss: 0.2938Epoch 1/40\n",
            "499/500 [============================>.] - ETA: 0s - loss: 0.2900"
          ],
          "name": "stdout"
        },
        {
          "output_type": "error",
          "ename": "KeyboardInterrupt",
          "evalue": "ignored",
          "traceback": [
            "\u001b[0;31m---------------------------------------------------------------------------\u001b[0m",
            "\u001b[0;31mKeyboardInterrupt\u001b[0m                         Traceback (most recent call last)",
            "\u001b[0;32m<ipython-input-22-784970944409>\u001b[0m in \u001b[0;36m<module>\u001b[0;34m()\u001b[0m\n\u001b[1;32m     11\u001b[0m                   \u001b[0mepochs\u001b[0m\u001b[0;34m=\u001b[0m\u001b[0;36m40\u001b[0m\u001b[0;34m,\u001b[0m\u001b[0;34m\u001b[0m\u001b[0;34m\u001b[0m\u001b[0m\n\u001b[1;32m     12\u001b[0m                   \u001b[0mvalidation_data\u001b[0m\u001b[0;34m=\u001b[0m\u001b[0mval_gen\u001b[0m\u001b[0;34m,\u001b[0m\u001b[0;34m\u001b[0m\u001b[0;34m\u001b[0m\u001b[0m\n\u001b[0;32m---> 13\u001b[0;31m                   validation_steps=val_steps)\n\u001b[0m",
            "\u001b[0;32m/tensorflow-1.15.0/python3.6/tensorflow_core/python/keras/engine/training.py\u001b[0m in \u001b[0;36mfit_generator\u001b[0;34m(self, generator, steps_per_epoch, epochs, verbose, callbacks, validation_data, validation_steps, validation_freq, class_weight, max_queue_size, workers, use_multiprocessing, shuffle, initial_epoch)\u001b[0m\n\u001b[1;32m   1294\u001b[0m         \u001b[0mshuffle\u001b[0m\u001b[0;34m=\u001b[0m\u001b[0mshuffle\u001b[0m\u001b[0;34m,\u001b[0m\u001b[0;34m\u001b[0m\u001b[0;34m\u001b[0m\u001b[0m\n\u001b[1;32m   1295\u001b[0m         \u001b[0minitial_epoch\u001b[0m\u001b[0;34m=\u001b[0m\u001b[0minitial_epoch\u001b[0m\u001b[0;34m,\u001b[0m\u001b[0;34m\u001b[0m\u001b[0;34m\u001b[0m\u001b[0m\n\u001b[0;32m-> 1296\u001b[0;31m         steps_name='steps_per_epoch')\n\u001b[0m\u001b[1;32m   1297\u001b[0m \u001b[0;34m\u001b[0m\u001b[0m\n\u001b[1;32m   1298\u001b[0m   def evaluate_generator(self,\n",
            "\u001b[0;32m/tensorflow-1.15.0/python3.6/tensorflow_core/python/keras/engine/training_generator.py\u001b[0m in \u001b[0;36mmodel_iteration\u001b[0;34m(model, data, steps_per_epoch, epochs, verbose, callbacks, validation_data, validation_steps, validation_freq, class_weight, max_queue_size, workers, use_multiprocessing, shuffle, initial_epoch, mode, batch_size, steps_name, **kwargs)\u001b[0m\n\u001b[1;32m    321\u001b[0m           \u001b[0mverbose\u001b[0m\u001b[0;34m=\u001b[0m\u001b[0mverbose\u001b[0m\u001b[0;34m,\u001b[0m\u001b[0;34m\u001b[0m\u001b[0;34m\u001b[0m\u001b[0m\n\u001b[1;32m    322\u001b[0m           \u001b[0mmode\u001b[0m\u001b[0;34m=\u001b[0m\u001b[0mModeKeys\u001b[0m\u001b[0;34m.\u001b[0m\u001b[0mTEST\u001b[0m\u001b[0;34m,\u001b[0m\u001b[0;34m\u001b[0m\u001b[0;34m\u001b[0m\u001b[0m\n\u001b[0;32m--> 323\u001b[0;31m           steps_name='validation_steps')\n\u001b[0m\u001b[1;32m    324\u001b[0m \u001b[0;34m\u001b[0m\u001b[0m\n\u001b[1;32m    325\u001b[0m       \u001b[0;32mif\u001b[0m \u001b[0;32mnot\u001b[0m \u001b[0misinstance\u001b[0m\u001b[0;34m(\u001b[0m\u001b[0mval_results\u001b[0m\u001b[0;34m,\u001b[0m \u001b[0mlist\u001b[0m\u001b[0;34m)\u001b[0m\u001b[0;34m:\u001b[0m\u001b[0;34m\u001b[0m\u001b[0;34m\u001b[0m\u001b[0m\n",
            "\u001b[0;32m/tensorflow-1.15.0/python3.6/tensorflow_core/python/keras/engine/training_generator.py\u001b[0m in \u001b[0;36mmodel_iteration\u001b[0;34m(model, data, steps_per_epoch, epochs, verbose, callbacks, validation_data, validation_steps, validation_freq, class_weight, max_queue_size, workers, use_multiprocessing, shuffle, initial_epoch, mode, batch_size, steps_name, **kwargs)\u001b[0m\n\u001b[1;32m    263\u001b[0m \u001b[0;34m\u001b[0m\u001b[0m\n\u001b[1;32m    264\u001b[0m       \u001b[0mis_deferred\u001b[0m \u001b[0;34m=\u001b[0m \u001b[0;32mnot\u001b[0m \u001b[0mmodel\u001b[0m\u001b[0;34m.\u001b[0m\u001b[0m_is_compiled\u001b[0m\u001b[0;34m\u001b[0m\u001b[0;34m\u001b[0m\u001b[0m\n\u001b[0;32m--> 265\u001b[0;31m       \u001b[0mbatch_outs\u001b[0m \u001b[0;34m=\u001b[0m \u001b[0mbatch_function\u001b[0m\u001b[0;34m(\u001b[0m\u001b[0;34m*\u001b[0m\u001b[0mbatch_data\u001b[0m\u001b[0;34m)\u001b[0m\u001b[0;34m\u001b[0m\u001b[0;34m\u001b[0m\u001b[0m\n\u001b[0m\u001b[1;32m    266\u001b[0m       \u001b[0;32mif\u001b[0m \u001b[0;32mnot\u001b[0m \u001b[0misinstance\u001b[0m\u001b[0;34m(\u001b[0m\u001b[0mbatch_outs\u001b[0m\u001b[0;34m,\u001b[0m \u001b[0mlist\u001b[0m\u001b[0;34m)\u001b[0m\u001b[0;34m:\u001b[0m\u001b[0;34m\u001b[0m\u001b[0;34m\u001b[0m\u001b[0m\n\u001b[1;32m    267\u001b[0m         \u001b[0mbatch_outs\u001b[0m \u001b[0;34m=\u001b[0m \u001b[0;34m[\u001b[0m\u001b[0mbatch_outs\u001b[0m\u001b[0;34m]\u001b[0m\u001b[0;34m\u001b[0m\u001b[0;34m\u001b[0m\u001b[0m\n",
            "\u001b[0;32m/tensorflow-1.15.0/python3.6/tensorflow_core/python/keras/engine/training.py\u001b[0m in \u001b[0;36mtest_on_batch\u001b[0;34m(self, x, y, sample_weight, reset_metrics)\u001b[0m\n\u001b[1;32m   1103\u001b[0m       \u001b[0mself\u001b[0m\u001b[0;34m.\u001b[0m\u001b[0m_update_sample_weight_modes\u001b[0m\u001b[0;34m(\u001b[0m\u001b[0msample_weights\u001b[0m\u001b[0;34m=\u001b[0m\u001b[0msample_weights\u001b[0m\u001b[0;34m)\u001b[0m\u001b[0;34m\u001b[0m\u001b[0;34m\u001b[0m\u001b[0m\n\u001b[1;32m   1104\u001b[0m       \u001b[0mself\u001b[0m\u001b[0;34m.\u001b[0m\u001b[0m_make_test_function\u001b[0m\u001b[0;34m(\u001b[0m\u001b[0;34m)\u001b[0m\u001b[0;34m\u001b[0m\u001b[0;34m\u001b[0m\u001b[0m\n\u001b[0;32m-> 1105\u001b[0;31m       \u001b[0moutputs\u001b[0m \u001b[0;34m=\u001b[0m \u001b[0mself\u001b[0m\u001b[0;34m.\u001b[0m\u001b[0mtest_function\u001b[0m\u001b[0;34m(\u001b[0m\u001b[0minputs\u001b[0m\u001b[0;34m)\u001b[0m  \u001b[0;31m# pylint: disable=not-callable\u001b[0m\u001b[0;34m\u001b[0m\u001b[0;34m\u001b[0m\u001b[0m\n\u001b[0m\u001b[1;32m   1106\u001b[0m \u001b[0;34m\u001b[0m\u001b[0m\n\u001b[1;32m   1107\u001b[0m     \u001b[0;32mif\u001b[0m \u001b[0mreset_metrics\u001b[0m\u001b[0;34m:\u001b[0m\u001b[0;34m\u001b[0m\u001b[0;34m\u001b[0m\u001b[0m\n",
            "\u001b[0;32m/tensorflow-1.15.0/python3.6/tensorflow_core/python/keras/backend.py\u001b[0m in \u001b[0;36m__call__\u001b[0;34m(self, inputs)\u001b[0m\n\u001b[1;32m   3474\u001b[0m \u001b[0;34m\u001b[0m\u001b[0m\n\u001b[1;32m   3475\u001b[0m     fetched = self._callable_fn(*array_vals,\n\u001b[0;32m-> 3476\u001b[0;31m                                 run_metadata=self.run_metadata)\n\u001b[0m\u001b[1;32m   3477\u001b[0m     \u001b[0mself\u001b[0m\u001b[0;34m.\u001b[0m\u001b[0m_call_fetch_callbacks\u001b[0m\u001b[0;34m(\u001b[0m\u001b[0mfetched\u001b[0m\u001b[0;34m[\u001b[0m\u001b[0;34m-\u001b[0m\u001b[0mlen\u001b[0m\u001b[0;34m(\u001b[0m\u001b[0mself\u001b[0m\u001b[0;34m.\u001b[0m\u001b[0m_fetches\u001b[0m\u001b[0;34m)\u001b[0m\u001b[0;34m:\u001b[0m\u001b[0;34m]\u001b[0m\u001b[0;34m)\u001b[0m\u001b[0;34m\u001b[0m\u001b[0;34m\u001b[0m\u001b[0m\n\u001b[1;32m   3478\u001b[0m     output_structure = nest.pack_sequence_as(\n",
            "\u001b[0;32m/tensorflow-1.15.0/python3.6/tensorflow_core/python/client/session.py\u001b[0m in \u001b[0;36m__call__\u001b[0;34m(self, *args, **kwargs)\u001b[0m\n\u001b[1;32m   1470\u001b[0m         ret = tf_session.TF_SessionRunCallable(self._session._session,\n\u001b[1;32m   1471\u001b[0m                                                \u001b[0mself\u001b[0m\u001b[0;34m.\u001b[0m\u001b[0m_handle\u001b[0m\u001b[0;34m,\u001b[0m \u001b[0margs\u001b[0m\u001b[0;34m,\u001b[0m\u001b[0;34m\u001b[0m\u001b[0;34m\u001b[0m\u001b[0m\n\u001b[0;32m-> 1472\u001b[0;31m                                                run_metadata_ptr)\n\u001b[0m\u001b[1;32m   1473\u001b[0m         \u001b[0;32mif\u001b[0m \u001b[0mrun_metadata\u001b[0m\u001b[0;34m:\u001b[0m\u001b[0;34m\u001b[0m\u001b[0;34m\u001b[0m\u001b[0m\n\u001b[1;32m   1474\u001b[0m           \u001b[0mproto_data\u001b[0m \u001b[0;34m=\u001b[0m \u001b[0mtf_session\u001b[0m\u001b[0;34m.\u001b[0m\u001b[0mTF_GetBuffer\u001b[0m\u001b[0;34m(\u001b[0m\u001b[0mrun_metadata_ptr\u001b[0m\u001b[0;34m)\u001b[0m\u001b[0;34m\u001b[0m\u001b[0;34m\u001b[0m\u001b[0m\n",
            "\u001b[0;31mKeyboardInterrupt\u001b[0m: "
          ]
        }
      ]
    },
    {
      "cell_type": "markdown",
      "metadata": {
        "id": "ktTLS05fRFiL",
        "colab_type": "text"
      },
      "source": [
        "# 6.4 컨브넷을 사용한 시퀀스 처리"
      ]
    },
    {
      "cell_type": "code",
      "metadata": {
        "id": "DbrK2UWUUWuh",
        "colab_type": "code",
        "colab": {}
      },
      "source": [
        ""
      ],
      "execution_count": 0,
      "outputs": []
    }
  ]
}