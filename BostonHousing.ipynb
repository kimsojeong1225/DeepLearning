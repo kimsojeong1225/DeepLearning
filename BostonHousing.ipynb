{
  "nbformat": 4,
  "nbformat_minor": 0,
  "metadata": {
    "colab": {
      "name": "BostonHousing.ipynb",
      "provenance": [],
      "collapsed_sections": [],
      "include_colab_link": true
    },
    "kernelspec": {
      "name": "python3",
      "display_name": "Python 3"
    }
  },
  "cells": [
    {
      "cell_type": "markdown",
      "metadata": {
        "id": "view-in-github",
        "colab_type": "text"
      },
      "source": [
        "<a href=\"https://colab.research.google.com/github/kimsojeong1225/DeepLearning/blob/master/BostonHousing.ipynb\" target=\"_parent\"><img src=\"https://colab.research.google.com/assets/colab-badge.svg\" alt=\"Open In Colab\"/></a>"
      ]
    },
    {
      "cell_type": "code",
      "metadata": {
        "id": "w1sOZ0rq17Vl",
        "colab_type": "code",
        "outputId": "1ce39cb7-5e4b-443d-eb9a-a823cf7560ad",
        "colab": {
          "base_uri": "https://localhost:8080/",
          "height": 106
        }
      },
      "source": [
        "!git clone https://github.com/kimsojeong1225/DeepLearning.git"
      ],
      "execution_count": 0,
      "outputs": [
        {
          "output_type": "stream",
          "text": [
            "Cloning into 'DeepLearning'...\n",
            "remote: Enumerating objects: 3, done.\u001b[K\n",
            "remote: Counting objects: 100% (3/3), done.\u001b[K\n",
            "remote: Total 3 (delta 0), reused 0 (delta 0), pack-reused 0\u001b[K\n",
            "Unpacking objects: 100% (3/3), done.\n"
          ],
          "name": "stdout"
        }
      ]
    },
    {
      "cell_type": "markdown",
      "metadata": {
        "id": "KHs3RavD6joj",
        "colab_type": "text"
      },
      "source": [
        "## 텐서보드 설정"
      ]
    },
    {
      "cell_type": "code",
      "metadata": {
        "id": "ekbmHxKLWdH7",
        "colab_type": "code",
        "outputId": "dc9eda74-90e2-4560-9409-2110dce39623",
        "colab": {
          "base_uri": "https://localhost:8080/",
          "height": 35
        }
      },
      "source": [
        "pip install tensorboardcolab"
      ],
      "execution_count": 0,
      "outputs": [
        {
          "output_type": "stream",
          "text": [
            "Requirement already satisfied: tensorboardcolab in /usr/local/lib/python3.6/dist-packages (0.0.22)\n"
          ],
          "name": "stdout"
        }
      ]
    },
    {
      "cell_type": "code",
      "metadata": {
        "id": "_pZW5BMvFDfw",
        "colab_type": "code",
        "outputId": "8eca31eb-22f3-484e-d324-7d1d22ea6d09",
        "colab": {
          "base_uri": "https://localhost:8080/",
          "height": 81
        }
      },
      "source": [
        " ;; 67e\n",
        "from __future__ import print_function\n",
        "from tensorflow import keras\n",
        "from tensorflow.keras.datasets import mnist\n",
        "from tensorflow.keras.models import Sequential\n",
        "from tensorflow.keras.layers import Dense, Dropout, Flatten\n",
        "from tensorflow.keras.layers import Conv2D, MaxPooling2D\n",
        "from tensorflow.keras import backend as K\n",
        "from tensorflow.keras.callbacks import TensorBoard\n",
        "from datetime import datetime\n",
        "from tensorboardcolab import TensorBoardColab, TensorBoardColabCallback"
      ],
      "execution_count": 0,
      "outputs": [
        {
          "output_type": "display_data",
          "data": {
            "text/html": [
              "<p style=\"color: red;\">\n",
              "The default version of TensorFlow in Colab will soon switch to TensorFlow 2.x.<br>\n",
              "We recommend you <a href=\"https://www.tensorflow.org/guide/migrate\" target=\"_blank\">upgrade</a> now \n",
              "or ensure your notebook will continue to use TensorFlow 1.x via the <code>%tensorflow_version 1.x</code> magic:\n",
              "<a href=\"https://colab.research.google.com/notebooks/tensorflow_version.ipynb\" target=\"_blank\">more info</a>.</p>\n"
            ],
            "text/plain": [
              "<IPython.core.display.HTML object>"
            ]
          },
          "metadata": {
            "tags": []
          }
        },
        {
          "output_type": "stream",
          "text": [
            "Using TensorFlow backend.\n"
          ],
          "name": "stderr"
        }
      ]
    },
    {
      "cell_type": "code",
      "metadata": {
        "id": "nJ2vLay8Eskl",
        "colab_type": "code",
        "outputId": "b9a4c4b4-9e36-4644-bcc2-d3a120162bc4",
        "colab": {
          "base_uri": "https://localhost:8080/",
          "height": 248
        }
      },
      "source": [
        "\n",
        "!wget https://bin.equinox.io/c/4VmDzA7iaHb/ngrok-stable-linux-amd64.zip\n",
        "!unzip ngrok-stable-linux-amd64.zip"
      ],
      "execution_count": 0,
      "outputs": [
        {
          "output_type": "stream",
          "text": [
            "--2019-12-31 03:23:52--  https://bin.equinox.io/c/4VmDzA7iaHb/ngrok-stable-linux-amd64.zip\n",
            "Resolving bin.equinox.io (bin.equinox.io)... 34.193.139.214, 3.225.9.174, 52.204.223.154, ...\n",
            "Connecting to bin.equinox.io (bin.equinox.io)|34.193.139.214|:443... connected.\n",
            "HTTP request sent, awaiting response... 200 OK\n",
            "Length: 13773305 (13M) [application/octet-stream]\n",
            "Saving to: ‘ngrok-stable-linux-amd64.zip’\n",
            "\n",
            "ngrok-stable-linux- 100%[===================>]  13.13M  17.4MB/s    in 0.8s    \n",
            "\n",
            "2019-12-31 03:23:58 (17.4 MB/s) - ‘ngrok-stable-linux-amd64.zip’ saved [13773305/13773305]\n",
            "\n",
            "Archive:  ngrok-stable-linux-amd64.zip\n",
            "  inflating: ngrok                   \n"
          ],
          "name": "stdout"
        }
      ]
    },
    {
      "cell_type": "code",
      "metadata": {
        "id": "Tzq3tG2KEvKg",
        "colab_type": "code",
        "colab": {}
      },
      "source": [
        "from  datetime import datetime\n",
        "timestemp = datetime.now()\n",
        "\n",
        "LOG_DIR = './log/' + str(timestemp) # 텐서보드 로그 경로가 './log'인 경우\n",
        "get_ipython().system_raw(\n",
        "    'tensorboard --logdir {} --host 0.0.0.0 --port 6006 &' # 포트 번호는 6006\n",
        "    .format('./log')\n",
        ")\n"
      ],
      "execution_count": 0,
      "outputs": []
    },
    {
      "cell_type": "code",
      "metadata": {
        "id": "EZa398kmEvds",
        "colab_type": "code",
        "colab": {}
      },
      "source": [
        "get_ipython().system_raw('./ngrok http 6006 &')"
      ],
      "execution_count": 0,
      "outputs": []
    },
    {
      "cell_type": "code",
      "metadata": {
        "id": "XO8uqGWtEvoN",
        "colab_type": "code",
        "outputId": "c6cfee18-08ca-41f1-e06d-32d7421ba9b9",
        "colab": {
          "base_uri": "https://localhost:8080/",
          "height": 35
        }
      },
      "source": [
        "! curl -s http://localhost:4040/api/tunnels | python3 -c \\\n",
        "    \"import sys, json; print(json.load(sys.stdin)['tunnels'][0]['public_url'])\""
      ],
      "execution_count": 0,
      "outputs": [
        {
          "output_type": "stream",
          "text": [
            "http://1b3102c6.ngrok.io\n"
          ],
          "name": "stdout"
        }
      ]
    },
    {
      "cell_type": "code",
      "metadata": {
        "id": "zN6SPGFEUFNR",
        "colab_type": "code",
        "outputId": "3073df7f-8907-43e0-aa49-cdcde3661408",
        "colab": {
          "base_uri": "https://localhost:8080/",
          "height": 35
        }
      },
      "source": [
        "LOG_DIR"
      ],
      "execution_count": 0,
      "outputs": [
        {
          "output_type": "execute_result",
          "data": {
            "text/plain": [
              "'./log/2019-12-31 06:23:03.483279'"
            ]
          },
          "metadata": {
            "tags": []
          },
          "execution_count": 15
        }
      ]
    },
    {
      "cell_type": "code",
      "metadata": {
        "id": "EMJNfxwTE8U3",
        "colab_type": "code",
        "colab": {}
      },
      "source": [
        "tb_callback = TensorBoard(log_dir='./log',\n",
        "                          histogram_freq=1,\n",
        "                          write_graph=True,\n",
        "                          write_grads=True,\n",
        "                          batch_size=1,\n",
        "                          write_images=True)"
      ],
      "execution_count": 0,
      "outputs": []
    },
    {
      "cell_type": "markdown",
      "metadata": {
        "id": "1OAdnwKz63_9",
        "colab_type": "text"
      },
      "source": [
        "## 보스턴 집값 데이터 받아오기"
      ]
    },
    {
      "cell_type": "code",
      "metadata": {
        "id": "CSIdhsYK0t8h",
        "colab_type": "code",
        "colab": {}
      },
      "source": [
        "from keras.datasets import boston_housing\n",
        "(train_data,train_targets),(test_data,test_targets)=boston_housing.load_data()"
      ],
      "execution_count": 0,
      "outputs": []
    },
    {
      "cell_type": "code",
      "metadata": {
        "id": "82ju653-1Fu4",
        "colab_type": "code",
        "outputId": "3222d7ad-c7bb-496e-9039-e513abbc6194",
        "colab": {
          "base_uri": "https://localhost:8080/",
          "height": 35
        }
      },
      "source": [
        "train_data.shape"
      ],
      "execution_count": 0,
      "outputs": [
        {
          "output_type": "execute_result",
          "data": {
            "text/plain": [
              "(404, 13)"
            ]
          },
          "metadata": {
            "tags": []
          },
          "execution_count": 18
        }
      ]
    },
    {
      "cell_type": "code",
      "metadata": {
        "id": "XrM5Iygh1I3b",
        "colab_type": "code",
        "outputId": "aa54ef43-76d9-4f7d-c093-96a8c2bc8e64",
        "colab": {
          "base_uri": "https://localhost:8080/",
          "height": 35
        }
      },
      "source": [
        "test_data.shape"
      ],
      "execution_count": 0,
      "outputs": [
        {
          "output_type": "execute_result",
          "data": {
            "text/plain": [
              "(102, 13)"
            ]
          },
          "metadata": {
            "tags": []
          },
          "execution_count": 19
        }
      ]
    },
    {
      "cell_type": "code",
      "metadata": {
        "id": "SqLN0qkm1L3-",
        "colab_type": "code",
        "outputId": "54b66265-6d68-4d24-897c-5f583746e5cd",
        "colab": {
          "base_uri": "https://localhost:8080/",
          "height": 35
        }
      },
      "source": [
        "train_targets[:10]"
      ],
      "execution_count": 0,
      "outputs": [
        {
          "output_type": "execute_result",
          "data": {
            "text/plain": [
              "array([15.2, 42.3, 50. , 21.1, 17.7, 18.5, 11.3, 15.6, 15.6, 14.4])"
            ]
          },
          "metadata": {
            "tags": []
          },
          "execution_count": 20
        }
      ]
    },
    {
      "cell_type": "code",
      "metadata": {
        "id": "to_i3hm91Qsb",
        "colab_type": "code",
        "colab": {}
      },
      "source": [
        "# Standardization\n",
        "mean = train_data.mean(axis=0)\n",
        "train_data -= mean\n",
        "std = train_data.std(axis=0)\n",
        "train_data /= std\n",
        "\n",
        "test_data -= mean\n",
        "test_data /= std"
      ],
      "execution_count": 0,
      "outputs": []
    },
    {
      "cell_type": "code",
      "metadata": {
        "id": "n3WuoZHXxIHe",
        "colab_type": "code",
        "colab": {}
      },
      "source": [
        "import numpy as np\n",
        "from sklearn.model_selection import train_test_split"
      ],
      "execution_count": 0,
      "outputs": []
    },
    {
      "cell_type": "code",
      "metadata": {
        "id": "7tbshUyI-Aaq",
        "colab_type": "code",
        "colab": {}
      },
      "source": [
        "x_train,x_valid,y_train,y_valid=train_test_split(train_data,train_targets)"
      ],
      "execution_count": 0,
      "outputs": []
    },
    {
      "cell_type": "markdown",
      "metadata": {
        "id": "h698kxOS9Qo3",
        "colab_type": "text"
      },
      "source": [
        "##모델 만들기 , 학습"
      ]
    },
    {
      "cell_type": "code",
      "metadata": {
        "id": "VHR6JiHelq2Z",
        "colab_type": "code",
        "outputId": "1493fe4f-fda5-452f-e72a-9f26d62979c5",
        "colab": {
          "base_uri": "https://localhost:8080/",
          "height": 90
        }
      },
      "source": [
        "#wide and deep network 함수형 모델\n",
        "from tensorflow.keras import Input\n",
        "from tensorflow.keras import layers\n",
        "from tensorflow.keras import Model\n",
        "\n",
        "\n",
        "input_tensor = Input(shape=(13,))\n",
        "x = layers.Dense(13, activation='relu')(input_tensor)\n",
        "x = layers.Dense(26, activation='relu')(x)\n",
        "x  = layers.Dense(13, activation='relu')(x)\n",
        "concat = layers.concatenate( [ x, input_tensor ] )\n",
        "output_tensor = layers.Dense(1)(concat)\n",
        "model= Model(input_tensor, output_tensor)\n",
        "model.compile(loss='mae', optimizer='rmsprop', metrics=['mae'])\n"
      ],
      "execution_count": 0,
      "outputs": [
        {
          "output_type": "stream",
          "text": [
            "WARNING:tensorflow:From /usr/local/lib/python3.6/dist-packages/tensorflow_core/python/ops/resource_variable_ops.py:1630: calling BaseResourceVariable.__init__ (from tensorflow.python.ops.resource_variable_ops) with constraint is deprecated and will be removed in a future version.\n",
            "Instructions for updating:\n",
            "If using Keras pass *_constraint arguments to layers.\n"
          ],
          "name": "stdout"
        }
      ]
    },
    {
      "cell_type": "code",
      "metadata": {
        "id": "mnS4_41KnoL4",
        "colab_type": "code",
        "outputId": "628b0de6-214d-48fc-9d0a-455478e60a55",
        "colab": {
          "base_uri": "https://localhost:8080/",
          "height": 390
        }
      },
      "source": [
        "model.summary()"
      ],
      "execution_count": 0,
      "outputs": [
        {
          "output_type": "stream",
          "text": [
            "Model: \"model\"\n",
            "__________________________________________________________________________________________________\n",
            "Layer (type)                    Output Shape         Param #     Connected to                     \n",
            "==================================================================================================\n",
            "input_1 (InputLayer)            [(None, 13)]         0                                            \n",
            "__________________________________________________________________________________________________\n",
            "dense (Dense)                   (None, 13)           182         input_1[0][0]                    \n",
            "__________________________________________________________________________________________________\n",
            "dense_1 (Dense)                 (None, 26)           364         dense[0][0]                      \n",
            "__________________________________________________________________________________________________\n",
            "dense_2 (Dense)                 (None, 13)           351         dense_1[0][0]                    \n",
            "__________________________________________________________________________________________________\n",
            "concatenate (Concatenate)       (None, 26)           0           dense_2[0][0]                    \n",
            "                                                                 input_1[0][0]                    \n",
            "__________________________________________________________________________________________________\n",
            "dense_3 (Dense)                 (None, 1)            27          concatenate[0][0]                \n",
            "==================================================================================================\n",
            "Total params: 924\n",
            "Trainable params: 924\n",
            "Non-trainable params: 0\n",
            "__________________________________________________________________________________________________\n"
          ],
          "name": "stdout"
        }
      ]
    },
    {
      "cell_type": "code",
      "metadata": {
        "id": "hqlm-Smi_puZ",
        "colab_type": "code",
        "outputId": "f22e94fc-6b6e-4534-a3fc-06a8f5405fc7",
        "colab": {
          "base_uri": "https://localhost:8080/",
          "height": 746
        }
      },
      "source": [
        "history=model.fit(x_train,y_train,epochs=20,validation_data=(x_valid,y_valid),batch_size=1,\n",
        "                  callbacks=[tb_callback])\n"
      ],
      "execution_count": 0,
      "outputs": [
        {
          "output_type": "stream",
          "text": [
            "Train on 303 samples, validate on 101 samples\n",
            "Epoch 1/20\n",
            "303/303 [==============================] - 1s 3ms/sample - loss: 18.8849 - mean_absolute_error: 18.8849 - val_loss: 11.7991 - val_mean_absolute_error: 11.7991\n",
            "Epoch 2/20\n",
            "303/303 [==============================] - 1s 2ms/sample - loss: 6.8480 - mean_absolute_error: 6.8480 - val_loss: 4.7601 - val_mean_absolute_error: 4.7601\n",
            "Epoch 3/20\n",
            "303/303 [==============================] - 1s 2ms/sample - loss: 4.5795 - mean_absolute_error: 4.5795 - val_loss: 3.6579 - val_mean_absolute_error: 3.6579\n",
            "Epoch 4/20\n",
            "303/303 [==============================] - 1s 2ms/sample - loss: 3.8731 - mean_absolute_error: 3.8731 - val_loss: 3.2238 - val_mean_absolute_error: 3.2238\n",
            "Epoch 5/20\n",
            "303/303 [==============================] - 1s 2ms/sample - loss: 3.5502 - mean_absolute_error: 3.5502 - val_loss: 2.9367 - val_mean_absolute_error: 2.9367\n",
            "Epoch 6/20\n",
            "303/303 [==============================] - 1s 2ms/sample - loss: 3.2726 - mean_absolute_error: 3.2726 - val_loss: 2.8172 - val_mean_absolute_error: 2.8172\n",
            "Epoch 7/20\n",
            "303/303 [==============================] - 1s 2ms/sample - loss: 3.0516 - mean_absolute_error: 3.0516 - val_loss: 2.6128 - val_mean_absolute_error: 2.6128\n",
            "Epoch 8/20\n",
            "303/303 [==============================] - 1s 3ms/sample - loss: 2.8951 - mean_absolute_error: 2.8951 - val_loss: 2.6512 - val_mean_absolute_error: 2.6512\n",
            "Epoch 9/20\n",
            "303/303 [==============================] - 1s 2ms/sample - loss: 2.8167 - mean_absolute_error: 2.8167 - val_loss: 2.5042 - val_mean_absolute_error: 2.5042\n",
            "Epoch 10/20\n",
            "303/303 [==============================] - 1s 3ms/sample - loss: 2.7003 - mean_absolute_error: 2.7003 - val_loss: 2.5594 - val_mean_absolute_error: 2.5594\n",
            "Epoch 11/20\n",
            "303/303 [==============================] - 1s 3ms/sample - loss: 2.6840 - mean_absolute_error: 2.6840 - val_loss: 2.3324 - val_mean_absolute_error: 2.3324\n",
            "Epoch 12/20\n",
            "303/303 [==============================] - 1s 3ms/sample - loss: 2.5527 - mean_absolute_error: 2.5527 - val_loss: 2.2689 - val_mean_absolute_error: 2.2689\n",
            "Epoch 13/20\n",
            "303/303 [==============================] - 1s 3ms/sample - loss: 2.5039 - mean_absolute_error: 2.5039 - val_loss: 2.2548 - val_mean_absolute_error: 2.2548\n",
            "Epoch 14/20\n",
            "303/303 [==============================] - 1s 3ms/sample - loss: 2.4847 - mean_absolute_error: 2.4847 - val_loss: 2.2995 - val_mean_absolute_error: 2.2995\n",
            "Epoch 15/20\n",
            "303/303 [==============================] - 1s 3ms/sample - loss: 2.4530 - mean_absolute_error: 2.4530 - val_loss: 2.2629 - val_mean_absolute_error: 2.2629\n",
            "Epoch 16/20\n",
            "303/303 [==============================] - 1s 3ms/sample - loss: 2.4618 - mean_absolute_error: 2.4618 - val_loss: 2.2353 - val_mean_absolute_error: 2.2353\n",
            "Epoch 17/20\n",
            "303/303 [==============================] - 1s 3ms/sample - loss: 2.4210 - mean_absolute_error: 2.4210 - val_loss: 2.3317 - val_mean_absolute_error: 2.3317\n",
            "Epoch 18/20\n",
            "303/303 [==============================] - 1s 3ms/sample - loss: 2.3714 - mean_absolute_error: 2.3714 - val_loss: 2.2771 - val_mean_absolute_error: 2.2771\n",
            "Epoch 19/20\n",
            "303/303 [==============================] - 1s 3ms/sample - loss: 2.3927 - mean_absolute_error: 2.3927 - val_loss: 2.2144 - val_mean_absolute_error: 2.2144\n",
            "Epoch 20/20\n",
            "303/303 [==============================] - 1s 3ms/sample - loss: 2.3820 - mean_absolute_error: 2.3820 - val_loss: 2.1928 - val_mean_absolute_error: 2.1928\n"
          ],
          "name": "stdout"
        }
      ]
    },
    {
      "cell_type": "code",
      "metadata": {
        "id": "Oa4LjXwdHfWW",
        "colab_type": "code",
        "outputId": "06c36e88-63f1-4036-e912-53ca258a7cb8",
        "colab": {
          "base_uri": "https://localhost:8080/",
          "height": 35
        }
      },
      "source": [
        "\n",
        "mae_test=model.evaluate(test_data,test_targets)"
      ],
      "execution_count": 0,
      "outputs": [
        {
          "output_type": "stream",
          "text": [
            "102/102 [==============================] - 0s 620us/sample - loss: 2.7713 - mean_absolute_error: 2.7713\n"
          ],
          "name": "stdout"
        }
      ]
    },
    {
      "cell_type": "code",
      "metadata": {
        "id": "wqZP8dknARqB",
        "colab_type": "code",
        "outputId": "3498e8e7-f4d3-45ae-96b7-a0d5d5b04df5",
        "colab": {
          "base_uri": "https://localhost:8080/",
          "height": 35
        }
      },
      "source": [
        "mae_test=model.evaluate(test_data,test_targets)\n",
        "x_new = test_data[:3]\n",
        "y_pred=model.predict(x_new)"
      ],
      "execution_count": 0,
      "outputs": [
        {
          "output_type": "stream",
          "text": [
            "102/102 [==============================] - 0s 95us/sample - loss: 2.7713 - mean_absolute_error: 2.7713\n"
          ],
          "name": "stdout"
        }
      ]
    },
    {
      "cell_type": "markdown",
      "metadata": {
        "id": "J3L3Igh_9Z-q",
        "colab_type": "text"
      },
      "source": [
        "## RandomizedSearchCV"
      ]
    },
    {
      "cell_type": "code",
      "metadata": {
        "id": "8EX8liIjT3Wu",
        "colab_type": "code",
        "colab": {}
      },
      "source": [
        "from scipy.stats import reciprocal\n",
        "from sklearn.model_selection import RandomizedSearchCV"
      ],
      "execution_count": 0,
      "outputs": []
    },
    {
      "cell_type": "code",
      "metadata": {
        "id": "thsuPToJAIv7",
        "colab_type": "code",
        "colab": {}
      },
      "source": [
        "def create_model():\n",
        "  return model"
      ],
      "execution_count": 0,
      "outputs": []
    },
    {
      "cell_type": "code",
      "metadata": {
        "id": "8ZU16P0a6ntQ",
        "colab_type": "code",
        "colab": {}
      },
      "source": [
        "keras_reg = keras.wrappers.scikit_learn.KerasRegressor(create_model)"
      ],
      "execution_count": 0,
      "outputs": []
    },
    {
      "cell_type": "code",
      "metadata": {
        "id": "XgLuB6Wc6t5l",
        "colab_type": "code",
        "outputId": "73dd7b1d-81d4-4e8b-aabe-6b78c639084f",
        "colab": {
          "base_uri": "https://localhost:8080/",
          "height": 1000
        }
      },
      "source": [
        "keras_reg.fit(x_train,y_train,epochs=100,validation_data=(x_valid,y_valid),\n",
        "              callbacks=[tb_callback]\n",
        "             \n",
        "             )"
      ],
      "execution_count": 0,
      "outputs": [
        {
          "output_type": "stream",
          "text": [
            "Train on 303 samples, validate on 101 samples\n",
            "Epoch 1/100\n",
            "303/303 [==============================] - 0s 974us/sample - loss: 2.2073 - mean_absolute_error: 2.2073 - val_loss: 2.1520 - val_mean_absolute_error: 2.1520\n",
            "Epoch 2/100\n",
            "303/303 [==============================] - 0s 148us/sample - loss: 2.1711 - mean_absolute_error: 2.1711 - val_loss: 2.1243 - val_mean_absolute_error: 2.1243\n",
            "Epoch 3/100\n",
            "303/303 [==============================] - 0s 148us/sample - loss: 2.1769 - mean_absolute_error: 2.1769 - val_loss: 2.1254 - val_mean_absolute_error: 2.1254\n",
            "Epoch 4/100\n",
            "303/303 [==============================] - 0s 132us/sample - loss: 2.1531 - mean_absolute_error: 2.1531 - val_loss: 2.1064 - val_mean_absolute_error: 2.1064\n",
            "Epoch 5/100\n",
            "303/303 [==============================] - 0s 115us/sample - loss: 2.1683 - mean_absolute_error: 2.1683 - val_loss: 2.1234 - val_mean_absolute_error: 2.1234\n",
            "Epoch 6/100\n",
            "303/303 [==============================] - 0s 115us/sample - loss: 2.1716 - mean_absolute_error: 2.1716 - val_loss: 2.1341 - val_mean_absolute_error: 2.1341\n",
            "Epoch 7/100\n",
            "303/303 [==============================] - 0s 106us/sample - loss: 2.1626 - mean_absolute_error: 2.1626 - val_loss: 2.1485 - val_mean_absolute_error: 2.1485\n",
            "Epoch 8/100\n",
            "303/303 [==============================] - 0s 116us/sample - loss: 2.1637 - mean_absolute_error: 2.1637 - val_loss: 2.0844 - val_mean_absolute_error: 2.0844\n",
            "Epoch 9/100\n",
            "303/303 [==============================] - 0s 105us/sample - loss: 2.1569 - mean_absolute_error: 2.1569 - val_loss: 2.1042 - val_mean_absolute_error: 2.1042\n",
            "Epoch 10/100\n",
            "303/303 [==============================] - 0s 101us/sample - loss: 2.1373 - mean_absolute_error: 2.1373 - val_loss: 2.1449 - val_mean_absolute_error: 2.1449\n",
            "Epoch 11/100\n",
            "303/303 [==============================] - 0s 101us/sample - loss: 2.1470 - mean_absolute_error: 2.1470 - val_loss: 2.0747 - val_mean_absolute_error: 2.0747\n",
            "Epoch 12/100\n",
            "303/303 [==============================] - 0s 116us/sample - loss: 2.1268 - mean_absolute_error: 2.1268 - val_loss: 2.1442 - val_mean_absolute_error: 2.1442\n",
            "Epoch 13/100\n",
            "303/303 [==============================] - 0s 141us/sample - loss: 2.1406 - mean_absolute_error: 2.1406 - val_loss: 2.0827 - val_mean_absolute_error: 2.0827\n",
            "Epoch 14/100\n",
            "303/303 [==============================] - 0s 107us/sample - loss: 2.1288 - mean_absolute_error: 2.1288 - val_loss: 2.0944 - val_mean_absolute_error: 2.0944\n",
            "Epoch 15/100\n",
            "303/303 [==============================] - 0s 107us/sample - loss: 2.1160 - mean_absolute_error: 2.1160 - val_loss: 2.0708 - val_mean_absolute_error: 2.0708\n",
            "Epoch 16/100\n",
            "303/303 [==============================] - 0s 106us/sample - loss: 2.1151 - mean_absolute_error: 2.1151 - val_loss: 2.0747 - val_mean_absolute_error: 2.0747\n",
            "Epoch 17/100\n",
            "303/303 [==============================] - 0s 105us/sample - loss: 2.1227 - mean_absolute_error: 2.1227 - val_loss: 2.0731 - val_mean_absolute_error: 2.0731\n",
            "Epoch 18/100\n",
            "303/303 [==============================] - 0s 103us/sample - loss: 2.1017 - mean_absolute_error: 2.1017 - val_loss: 2.0626 - val_mean_absolute_error: 2.0626\n",
            "Epoch 19/100\n",
            "303/303 [==============================] - 0s 110us/sample - loss: 2.0994 - mean_absolute_error: 2.0994 - val_loss: 2.0382 - val_mean_absolute_error: 2.0382\n",
            "Epoch 20/100\n",
            "303/303 [==============================] - 0s 135us/sample - loss: 2.0957 - mean_absolute_error: 2.0957 - val_loss: 2.0540 - val_mean_absolute_error: 2.0540\n",
            "Epoch 21/100\n",
            "303/303 [==============================] - 0s 139us/sample - loss: 2.0844 - mean_absolute_error: 2.0844 - val_loss: 2.0564 - val_mean_absolute_error: 2.0564\n",
            "Epoch 22/100\n",
            "303/303 [==============================] - 0s 120us/sample - loss: 2.0946 - mean_absolute_error: 2.0946 - val_loss: 2.0236 - val_mean_absolute_error: 2.0236\n",
            "Epoch 23/100\n",
            "303/303 [==============================] - 0s 127us/sample - loss: 2.0636 - mean_absolute_error: 2.0636 - val_loss: 2.1285 - val_mean_absolute_error: 2.1285\n",
            "Epoch 24/100\n",
            "303/303 [==============================] - 0s 108us/sample - loss: 2.0921 - mean_absolute_error: 2.0921 - val_loss: 2.0342 - val_mean_absolute_error: 2.0342\n",
            "Epoch 25/100\n",
            "303/303 [==============================] - 0s 108us/sample - loss: 2.0760 - mean_absolute_error: 2.0760 - val_loss: 2.0353 - val_mean_absolute_error: 2.0353\n",
            "Epoch 26/100\n",
            "303/303 [==============================] - 0s 101us/sample - loss: 2.0650 - mean_absolute_error: 2.0650 - val_loss: 2.0392 - val_mean_absolute_error: 2.0392\n",
            "Epoch 27/100\n",
            "303/303 [==============================] - 0s 99us/sample - loss: 2.0495 - mean_absolute_error: 2.0495 - val_loss: 2.1154 - val_mean_absolute_error: 2.1154\n",
            "Epoch 28/100\n",
            "303/303 [==============================] - 0s 99us/sample - loss: 2.0654 - mean_absolute_error: 2.0654 - val_loss: 2.0695 - val_mean_absolute_error: 2.0695\n",
            "Epoch 29/100\n",
            "303/303 [==============================] - 0s 103us/sample - loss: 2.0722 - mean_absolute_error: 2.0722 - val_loss: 2.0175 - val_mean_absolute_error: 2.0175\n",
            "Epoch 30/100\n",
            "303/303 [==============================] - 0s 118us/sample - loss: 2.0536 - mean_absolute_error: 2.0536 - val_loss: 2.0206 - val_mean_absolute_error: 2.0206\n",
            "Epoch 31/100\n",
            "303/303 [==============================] - 0s 135us/sample - loss: 2.0483 - mean_absolute_error: 2.0483 - val_loss: 2.0060 - val_mean_absolute_error: 2.0060\n",
            "Epoch 32/100\n",
            "303/303 [==============================] - 0s 131us/sample - loss: 2.0550 - mean_absolute_error: 2.0550 - val_loss: 2.0243 - val_mean_absolute_error: 2.0243\n",
            "Epoch 33/100\n",
            "303/303 [==============================] - 0s 111us/sample - loss: 2.0678 - mean_absolute_error: 2.0678 - val_loss: 2.0007 - val_mean_absolute_error: 2.0007\n",
            "Epoch 34/100\n",
            "303/303 [==============================] - 0s 106us/sample - loss: 2.0385 - mean_absolute_error: 2.0385 - val_loss: 2.0061 - val_mean_absolute_error: 2.0061\n",
            "Epoch 35/100\n",
            "303/303 [==============================] - 0s 105us/sample - loss: 2.0175 - mean_absolute_error: 2.0175 - val_loss: 2.0756 - val_mean_absolute_error: 2.0756\n",
            "Epoch 36/100\n",
            "303/303 [==============================] - 0s 112us/sample - loss: 2.0307 - mean_absolute_error: 2.0307 - val_loss: 2.0176 - val_mean_absolute_error: 2.0176\n",
            "Epoch 37/100\n",
            "303/303 [==============================] - 0s 155us/sample - loss: 2.0462 - mean_absolute_error: 2.0462 - val_loss: 2.0053 - val_mean_absolute_error: 2.0053\n",
            "Epoch 38/100\n",
            "303/303 [==============================] - 0s 124us/sample - loss: 2.0368 - mean_absolute_error: 2.0368 - val_loss: 2.0170 - val_mean_absolute_error: 2.0170\n",
            "Epoch 39/100\n",
            "303/303 [==============================] - 0s 153us/sample - loss: 2.0263 - mean_absolute_error: 2.0263 - val_loss: 1.9936 - val_mean_absolute_error: 1.9936\n",
            "Epoch 40/100\n",
            "303/303 [==============================] - 0s 116us/sample - loss: 2.0321 - mean_absolute_error: 2.0321 - val_loss: 1.9974 - val_mean_absolute_error: 1.9974\n",
            "Epoch 41/100\n",
            "303/303 [==============================] - 0s 103us/sample - loss: 2.0353 - mean_absolute_error: 2.0353 - val_loss: 2.0260 - val_mean_absolute_error: 2.0260\n",
            "Epoch 42/100\n",
            "303/303 [==============================] - 0s 108us/sample - loss: 2.0068 - mean_absolute_error: 2.0068 - val_loss: 2.0127 - val_mean_absolute_error: 2.0127\n",
            "Epoch 43/100\n",
            "303/303 [==============================] - 0s 138us/sample - loss: 1.9956 - mean_absolute_error: 1.9956 - val_loss: 2.0074 - val_mean_absolute_error: 2.0074\n",
            "Epoch 44/100\n",
            "303/303 [==============================] - 0s 141us/sample - loss: 1.9971 - mean_absolute_error: 1.9971 - val_loss: 2.0722 - val_mean_absolute_error: 2.0722\n",
            "Epoch 45/100\n",
            "303/303 [==============================] - 0s 113us/sample - loss: 2.0108 - mean_absolute_error: 2.0108 - val_loss: 1.9976 - val_mean_absolute_error: 1.9976\n",
            "Epoch 46/100\n",
            "303/303 [==============================] - 0s 103us/sample - loss: 2.0008 - mean_absolute_error: 2.0008 - val_loss: 2.0154 - val_mean_absolute_error: 2.0154\n",
            "Epoch 47/100\n",
            "303/303 [==============================] - 0s 115us/sample - loss: 2.0086 - mean_absolute_error: 2.0086 - val_loss: 2.0110 - val_mean_absolute_error: 2.0110\n",
            "Epoch 48/100\n",
            "303/303 [==============================] - 0s 126us/sample - loss: 1.9886 - mean_absolute_error: 1.9886 - val_loss: 2.0086 - val_mean_absolute_error: 2.0086\n",
            "Epoch 49/100\n",
            "303/303 [==============================] - 0s 114us/sample - loss: 1.9998 - mean_absolute_error: 1.9998 - val_loss: 1.9988 - val_mean_absolute_error: 1.9988\n",
            "Epoch 50/100\n",
            "303/303 [==============================] - 0s 113us/sample - loss: 1.9764 - mean_absolute_error: 1.9764 - val_loss: 1.9761 - val_mean_absolute_error: 1.9761\n",
            "Epoch 51/100\n",
            "303/303 [==============================] - 0s 132us/sample - loss: 1.9781 - mean_absolute_error: 1.9781 - val_loss: 1.9970 - val_mean_absolute_error: 1.9970\n",
            "Epoch 52/100\n",
            "303/303 [==============================] - 0s 136us/sample - loss: 1.9923 - mean_absolute_error: 1.9923 - val_loss: 1.9956 - val_mean_absolute_error: 1.9956\n",
            "Epoch 53/100\n",
            "303/303 [==============================] - 0s 129us/sample - loss: 1.9846 - mean_absolute_error: 1.9846 - val_loss: 2.0091 - val_mean_absolute_error: 2.0091\n",
            "Epoch 54/100\n",
            "303/303 [==============================] - 0s 143us/sample - loss: 1.9782 - mean_absolute_error: 1.9782 - val_loss: 2.0111 - val_mean_absolute_error: 2.0111\n",
            "Epoch 55/100\n",
            "303/303 [==============================] - 0s 124us/sample - loss: 1.9809 - mean_absolute_error: 1.9809 - val_loss: 2.0048 - val_mean_absolute_error: 2.0048\n",
            "Epoch 56/100\n",
            "303/303 [==============================] - 0s 114us/sample - loss: 2.0035 - mean_absolute_error: 2.0035 - val_loss: 2.0225 - val_mean_absolute_error: 2.0225\n",
            "Epoch 57/100\n",
            "303/303 [==============================] - 0s 101us/sample - loss: 1.9581 - mean_absolute_error: 1.9581 - val_loss: 1.9997 - val_mean_absolute_error: 1.9997\n",
            "Epoch 58/100\n",
            "303/303 [==============================] - 0s 101us/sample - loss: 1.9839 - mean_absolute_error: 1.9839 - val_loss: 2.0112 - val_mean_absolute_error: 2.0112\n",
            "Epoch 59/100\n",
            "303/303 [==============================] - 0s 121us/sample - loss: 1.9787 - mean_absolute_error: 1.9787 - val_loss: 2.0332 - val_mean_absolute_error: 2.0332\n",
            "Epoch 60/100\n",
            "303/303 [==============================] - 0s 143us/sample - loss: 1.9656 - mean_absolute_error: 1.9656 - val_loss: 2.0320 - val_mean_absolute_error: 2.0320\n",
            "Epoch 61/100\n",
            "303/303 [==============================] - 0s 139us/sample - loss: 1.9702 - mean_absolute_error: 1.9702 - val_loss: 2.0156 - val_mean_absolute_error: 2.0156\n",
            "Epoch 62/100\n",
            "303/303 [==============================] - 0s 133us/sample - loss: 1.9713 - mean_absolute_error: 1.9713 - val_loss: 2.0398 - val_mean_absolute_error: 2.0398\n",
            "Epoch 63/100\n",
            "303/303 [==============================] - 0s 145us/sample - loss: 1.9558 - mean_absolute_error: 1.9558 - val_loss: 2.0410 - val_mean_absolute_error: 2.0410\n",
            "Epoch 64/100\n",
            "303/303 [==============================] - 0s 133us/sample - loss: 1.9687 - mean_absolute_error: 1.9687 - val_loss: 1.9961 - val_mean_absolute_error: 1.9961\n",
            "Epoch 65/100\n",
            "303/303 [==============================] - 0s 127us/sample - loss: 1.9559 - mean_absolute_error: 1.9559 - val_loss: 2.0403 - val_mean_absolute_error: 2.0403\n",
            "Epoch 66/100\n",
            "303/303 [==============================] - 0s 129us/sample - loss: 1.9414 - mean_absolute_error: 1.9414 - val_loss: 2.0395 - val_mean_absolute_error: 2.0395\n",
            "Epoch 67/100\n",
            "303/303 [==============================] - 0s 130us/sample - loss: 1.9483 - mean_absolute_error: 1.9483 - val_loss: 1.9947 - val_mean_absolute_error: 1.9947\n",
            "Epoch 68/100\n",
            "303/303 [==============================] - 0s 129us/sample - loss: 1.9539 - mean_absolute_error: 1.9539 - val_loss: 2.0185 - val_mean_absolute_error: 2.0185\n",
            "Epoch 69/100\n",
            "303/303 [==============================] - 0s 127us/sample - loss: 1.9607 - mean_absolute_error: 1.9607 - val_loss: 2.0054 - val_mean_absolute_error: 2.0054\n",
            "Epoch 70/100\n",
            "303/303 [==============================] - 0s 128us/sample - loss: 1.9206 - mean_absolute_error: 1.9206 - val_loss: 2.0209 - val_mean_absolute_error: 2.0209\n",
            "Epoch 71/100\n",
            "303/303 [==============================] - 0s 131us/sample - loss: 1.9459 - mean_absolute_error: 1.9459 - val_loss: 2.0506 - val_mean_absolute_error: 2.0506\n",
            "Epoch 72/100\n",
            "303/303 [==============================] - 0s 121us/sample - loss: 1.9505 - mean_absolute_error: 1.9505 - val_loss: 2.0030 - val_mean_absolute_error: 2.0030\n",
            "Epoch 73/100\n",
            "303/303 [==============================] - 0s 145us/sample - loss: 1.9216 - mean_absolute_error: 1.9216 - val_loss: 2.0047 - val_mean_absolute_error: 2.0047\n",
            "Epoch 74/100\n",
            "303/303 [==============================] - 0s 134us/sample - loss: 1.9182 - mean_absolute_error: 1.9182 - val_loss: 2.0456 - val_mean_absolute_error: 2.0456\n",
            "Epoch 75/100\n",
            "303/303 [==============================] - 0s 140us/sample - loss: 1.9380 - mean_absolute_error: 1.9380 - val_loss: 2.0084 - val_mean_absolute_error: 2.0084\n",
            "Epoch 76/100\n",
            "303/303 [==============================] - 0s 127us/sample - loss: 1.9352 - mean_absolute_error: 1.9352 - val_loss: 2.0236 - val_mean_absolute_error: 2.0236\n",
            "Epoch 77/100\n",
            "303/303 [==============================] - 0s 132us/sample - loss: 1.9081 - mean_absolute_error: 1.9081 - val_loss: 1.9977 - val_mean_absolute_error: 1.9977\n",
            "Epoch 78/100\n",
            "303/303 [==============================] - 0s 115us/sample - loss: 1.9008 - mean_absolute_error: 1.9008 - val_loss: 2.0057 - val_mean_absolute_error: 2.0057\n",
            "Epoch 79/100\n",
            "303/303 [==============================] - 0s 112us/sample - loss: 1.9196 - mean_absolute_error: 1.9196 - val_loss: 1.9938 - val_mean_absolute_error: 1.9938\n",
            "Epoch 80/100\n",
            "303/303 [==============================] - 0s 139us/sample - loss: 1.9111 - mean_absolute_error: 1.9111 - val_loss: 1.9975 - val_mean_absolute_error: 1.9975\n",
            "Epoch 81/100\n",
            "303/303 [==============================] - 0s 128us/sample - loss: 1.9121 - mean_absolute_error: 1.9121 - val_loss: 2.0302 - val_mean_absolute_error: 2.0302\n",
            "Epoch 82/100\n",
            "303/303 [==============================] - 0s 115us/sample - loss: 1.9067 - mean_absolute_error: 1.9067 - val_loss: 2.0272 - val_mean_absolute_error: 2.0272\n",
            "Epoch 83/100\n",
            "303/303 [==============================] - 0s 110us/sample - loss: 1.8947 - mean_absolute_error: 1.8947 - val_loss: 1.9996 - val_mean_absolute_error: 1.9996\n",
            "Epoch 84/100\n",
            "303/303 [==============================] - 0s 112us/sample - loss: 1.9093 - mean_absolute_error: 1.9093 - val_loss: 1.9979 - val_mean_absolute_error: 1.9979\n",
            "Epoch 85/100\n",
            "303/303 [==============================] - 0s 134us/sample - loss: 1.9059 - mean_absolute_error: 1.9059 - val_loss: 2.0088 - val_mean_absolute_error: 2.0088\n",
            "Epoch 86/100\n",
            "303/303 [==============================] - 0s 129us/sample - loss: 1.8851 - mean_absolute_error: 1.8851 - val_loss: 2.0498 - val_mean_absolute_error: 2.0498\n",
            "Epoch 87/100\n",
            "303/303 [==============================] - 0s 161us/sample - loss: 1.8967 - mean_absolute_error: 1.8967 - val_loss: 2.0054 - val_mean_absolute_error: 2.0054\n",
            "Epoch 88/100\n",
            "303/303 [==============================] - 0s 157us/sample - loss: 1.9078 - mean_absolute_error: 1.9078 - val_loss: 1.9947 - val_mean_absolute_error: 1.9947\n",
            "Epoch 89/100\n",
            "303/303 [==============================] - 0s 156us/sample - loss: 1.8837 - mean_absolute_error: 1.8837 - val_loss: 2.0282 - val_mean_absolute_error: 2.0282\n",
            "Epoch 90/100\n",
            "303/303 [==============================] - 0s 111us/sample - loss: 1.9056 - mean_absolute_error: 1.9056 - val_loss: 2.0125 - val_mean_absolute_error: 2.0125\n",
            "Epoch 91/100\n",
            "303/303 [==============================] - 0s 110us/sample - loss: 1.8689 - mean_absolute_error: 1.8689 - val_loss: 2.0188 - val_mean_absolute_error: 2.0188\n",
            "Epoch 92/100\n",
            "303/303 [==============================] - 0s 130us/sample - loss: 1.8901 - mean_absolute_error: 1.8901 - val_loss: 2.0344 - val_mean_absolute_error: 2.0344\n",
            "Epoch 93/100\n",
            "303/303 [==============================] - 0s 109us/sample - loss: 1.8705 - mean_absolute_error: 1.8705 - val_loss: 2.0478 - val_mean_absolute_error: 2.0478\n",
            "Epoch 94/100\n",
            "303/303 [==============================] - 0s 128us/sample - loss: 1.8727 - mean_absolute_error: 1.8727 - val_loss: 1.9862 - val_mean_absolute_error: 1.9862\n",
            "Epoch 95/100\n",
            "303/303 [==============================] - 0s 131us/sample - loss: 1.8870 - mean_absolute_error: 1.8870 - val_loss: 1.9954 - val_mean_absolute_error: 1.9954\n",
            "Epoch 96/100\n",
            "303/303 [==============================] - 0s 131us/sample - loss: 1.8675 - mean_absolute_error: 1.8675 - val_loss: 1.9980 - val_mean_absolute_error: 1.9980\n",
            "Epoch 97/100\n",
            "303/303 [==============================] - 0s 129us/sample - loss: 1.8635 - mean_absolute_error: 1.8635 - val_loss: 2.0333 - val_mean_absolute_error: 2.0333\n",
            "Epoch 98/100\n",
            "303/303 [==============================] - 0s 133us/sample - loss: 1.8692 - mean_absolute_error: 1.8692 - val_loss: 2.0011 - val_mean_absolute_error: 2.0011\n",
            "Epoch 99/100\n",
            "303/303 [==============================] - 0s 131us/sample - loss: 1.8541 - mean_absolute_error: 1.8541 - val_loss: 2.0363 - val_mean_absolute_error: 2.0363\n",
            "Epoch 100/100\n",
            "303/303 [==============================] - 0s 149us/sample - loss: 1.8796 - mean_absolute_error: 1.8796 - val_loss: 2.0099 - val_mean_absolute_error: 2.0099\n"
          ],
          "name": "stdout"
        },
        {
          "output_type": "execute_result",
          "data": {
            "text/plain": [
              "<tensorflow.python.keras.callbacks.History at 0x7f5fa2f7a630>"
            ]
          },
          "metadata": {
            "tags": []
          },
          "execution_count": 33
        }
      ]
    },
    {
      "cell_type": "code",
      "metadata": {
        "id": "lLKbI401llJs",
        "colab_type": "code",
        "colab": {}
      },
      "source": [
        "param_grid  = dict(epochs=[100], batch_size=[8])\n"
      ],
      "execution_count": 0,
      "outputs": []
    },
    {
      "cell_type": "code",
      "metadata": {
        "id": "B32vA-JoD7dE",
        "colab_type": "code",
        "colab": {}
      },
      "source": [
        "cv = RandomizedSearchCV(keras_reg, param_grid,n_iter=10,cv=3)"
      ],
      "execution_count": 0,
      "outputs": []
    },
    {
      "cell_type": "code",
      "metadata": {
        "id": "RaT-O3QBjF7u",
        "colab_type": "code",
        "colab": {}
      },
      "source": [
        "keras_reg = keras.wrappers.scikit_learn.KerasRegressor(create_model)"
      ],
      "execution_count": 0,
      "outputs": []
    },
    {
      "cell_type": "code",
      "metadata": {
        "id": "93o3tNf525sJ",
        "colab_type": "code",
        "colab": {}
      },
      "source": [
        "cv=RandomizedSearchCV(estimator = keras_reg, param_distributions=param_grid, cv = 2 )"
      ],
      "execution_count": 0,
      "outputs": []
    },
    {
      "cell_type": "code",
      "metadata": {
        "id": "vSnjmqvM3CRq",
        "colab_type": "code",
        "outputId": "2f8e598f-1524-4bda-aeff-750a763e245c",
        "colab": {
          "base_uri": "https://localhost:8080/",
          "height": 1000
        }
      },
      "source": [
        "#cv.fit(x_train,y_train)\n",
        "             \n",
        "cv.fit(x_train,y_train,epochs=100,validation_data=(x_valid,y_valid),callbacks=[tb_callback]\n",
        "             )"
      ],
      "execution_count": 0,
      "outputs": [
        {
          "output_type": "stream",
          "text": [
            "Train on 151 samples, validate on 101 samples\n"
          ],
          "name": "stdout"
        },
        {
          "output_type": "stream",
          "text": [
            "/usr/local/lib/python3.6/dist-packages/sklearn/model_selection/_search.py:266: UserWarning: The total space of parameters 1 is smaller than n_iter=10. Running 1 iterations. For exhaustive searches, use GridSearchCV.\n",
            "  % (grid_size, self.n_iter, grid_size), UserWarning)\n"
          ],
          "name": "stderr"
        },
        {
          "output_type": "stream",
          "text": [
            "Epoch 1/100\n",
            "151/151 [==============================] - 0s 2ms/sample - loss: 1.5971 - mean_absolute_error: 1.5971 - val_loss: 1.9836 - val_mean_absolute_error: 1.9836\n",
            "Epoch 2/100\n",
            "151/151 [==============================] - 0s 584us/sample - loss: 1.5467 - mean_absolute_error: 1.5467 - val_loss: 1.9978 - val_mean_absolute_error: 1.9978\n",
            "Epoch 3/100\n",
            "151/151 [==============================] - 0s 574us/sample - loss: 1.5800 - mean_absolute_error: 1.5800 - val_loss: 1.9590 - val_mean_absolute_error: 1.9590\n",
            "Epoch 4/100\n",
            "151/151 [==============================] - 0s 546us/sample - loss: 1.5109 - mean_absolute_error: 1.5109 - val_loss: 2.0095 - val_mean_absolute_error: 2.0095\n",
            "Epoch 5/100\n",
            "151/151 [==============================] - 0s 534us/sample - loss: 1.5824 - mean_absolute_error: 1.5824 - val_loss: 1.9297 - val_mean_absolute_error: 1.9297\n",
            "Epoch 6/100\n",
            "151/151 [==============================] - 0s 603us/sample - loss: 1.5357 - mean_absolute_error: 1.5357 - val_loss: 1.9313 - val_mean_absolute_error: 1.9313\n",
            "Epoch 7/100\n",
            "151/151 [==============================] - 0s 580us/sample - loss: 1.5239 - mean_absolute_error: 1.5239 - val_loss: 1.9349 - val_mean_absolute_error: 1.9349\n",
            "Epoch 8/100\n",
            "151/151 [==============================] - 0s 600us/sample - loss: 1.4992 - mean_absolute_error: 1.4992 - val_loss: 1.9569 - val_mean_absolute_error: 1.9569\n",
            "Epoch 9/100\n",
            "151/151 [==============================] - 0s 612us/sample - loss: 1.5042 - mean_absolute_error: 1.5042 - val_loss: 1.9146 - val_mean_absolute_error: 1.9146\n",
            "Epoch 10/100\n",
            "151/151 [==============================] - 0s 589us/sample - loss: 1.5102 - mean_absolute_error: 1.5102 - val_loss: 1.9180 - val_mean_absolute_error: 1.9180\n",
            "Epoch 11/100\n",
            "151/151 [==============================] - 0s 616us/sample - loss: 1.5155 - mean_absolute_error: 1.5155 - val_loss: 1.9091 - val_mean_absolute_error: 1.9091\n",
            "Epoch 12/100\n",
            "151/151 [==============================] - 0s 510us/sample - loss: 1.5122 - mean_absolute_error: 1.5122 - val_loss: 1.9500 - val_mean_absolute_error: 1.9500\n",
            "Epoch 13/100\n",
            "151/151 [==============================] - 0s 601us/sample - loss: 1.5015 - mean_absolute_error: 1.5015 - val_loss: 1.9634 - val_mean_absolute_error: 1.9634\n",
            "Epoch 14/100\n",
            "151/151 [==============================] - 0s 478us/sample - loss: 1.5012 - mean_absolute_error: 1.5012 - val_loss: 1.9044 - val_mean_absolute_error: 1.9044\n",
            "Epoch 15/100\n",
            "151/151 [==============================] - 0s 544us/sample - loss: 1.4443 - mean_absolute_error: 1.4443 - val_loss: 1.9048 - val_mean_absolute_error: 1.9048\n",
            "Epoch 16/100\n",
            "151/151 [==============================] - 0s 540us/sample - loss: 1.4583 - mean_absolute_error: 1.4583 - val_loss: 1.9046 - val_mean_absolute_error: 1.9046\n",
            "Epoch 17/100\n",
            "151/151 [==============================] - 0s 552us/sample - loss: 1.4702 - mean_absolute_error: 1.4702 - val_loss: 1.9250 - val_mean_absolute_error: 1.9250\n",
            "Epoch 18/100\n",
            "151/151 [==============================] - 0s 558us/sample - loss: 1.4372 - mean_absolute_error: 1.4372 - val_loss: 1.9130 - val_mean_absolute_error: 1.9130\n",
            "Epoch 19/100\n",
            "151/151 [==============================] - 0s 606us/sample - loss: 1.4531 - mean_absolute_error: 1.4531 - val_loss: 1.9030 - val_mean_absolute_error: 1.9030\n",
            "Epoch 20/100\n",
            "151/151 [==============================] - 0s 536us/sample - loss: 1.4607 - mean_absolute_error: 1.4607 - val_loss: 1.9185 - val_mean_absolute_error: 1.9185\n",
            "Epoch 21/100\n",
            "151/151 [==============================] - 0s 525us/sample - loss: 1.4754 - mean_absolute_error: 1.4754 - val_loss: 1.9247 - val_mean_absolute_error: 1.9247\n",
            "Epoch 22/100\n",
            "151/151 [==============================] - 0s 549us/sample - loss: 1.4346 - mean_absolute_error: 1.4346 - val_loss: 1.9590 - val_mean_absolute_error: 1.9590\n",
            "Epoch 23/100\n",
            "151/151 [==============================] - 0s 528us/sample - loss: 1.4451 - mean_absolute_error: 1.4451 - val_loss: 1.9199 - val_mean_absolute_error: 1.9199\n",
            "Epoch 24/100\n",
            "151/151 [==============================] - 0s 436us/sample - loss: 1.4456 - mean_absolute_error: 1.4456 - val_loss: 1.9109 - val_mean_absolute_error: 1.9109\n",
            "Epoch 25/100\n",
            "151/151 [==============================] - 0s 426us/sample - loss: 1.4220 - mean_absolute_error: 1.4220 - val_loss: 1.9521 - val_mean_absolute_error: 1.9521\n",
            "Epoch 26/100\n",
            "151/151 [==============================] - 0s 500us/sample - loss: 1.4228 - mean_absolute_error: 1.4228 - val_loss: 1.9202 - val_mean_absolute_error: 1.9202\n",
            "Epoch 27/100\n",
            "151/151 [==============================] - 0s 542us/sample - loss: 1.4056 - mean_absolute_error: 1.4056 - val_loss: 1.9472 - val_mean_absolute_error: 1.9472\n",
            "Epoch 28/100\n",
            "151/151 [==============================] - 0s 545us/sample - loss: 1.4168 - mean_absolute_error: 1.4168 - val_loss: 1.9518 - val_mean_absolute_error: 1.9518\n",
            "Epoch 29/100\n",
            "151/151 [==============================] - 0s 462us/sample - loss: 1.4118 - mean_absolute_error: 1.4118 - val_loss: 1.9527 - val_mean_absolute_error: 1.9527\n",
            "Epoch 30/100\n",
            "151/151 [==============================] - 0s 455us/sample - loss: 1.4003 - mean_absolute_error: 1.4003 - val_loss: 1.9867 - val_mean_absolute_error: 1.9867\n",
            "Epoch 31/100\n",
            "151/151 [==============================] - 0s 575us/sample - loss: 1.4242 - mean_absolute_error: 1.4242 - val_loss: 1.9418 - val_mean_absolute_error: 1.9418\n",
            "Epoch 32/100\n",
            "151/151 [==============================] - 0s 536us/sample - loss: 1.3978 - mean_absolute_error: 1.3978 - val_loss: 1.9612 - val_mean_absolute_error: 1.9612\n",
            "Epoch 33/100\n",
            "151/151 [==============================] - 0s 531us/sample - loss: 1.3886 - mean_absolute_error: 1.3886 - val_loss: 1.9366 - val_mean_absolute_error: 1.9366\n",
            "Epoch 34/100\n",
            "151/151 [==============================] - 0s 519us/sample - loss: 1.4001 - mean_absolute_error: 1.4001 - val_loss: 1.9549 - val_mean_absolute_error: 1.9549\n",
            "Epoch 35/100\n",
            "151/151 [==============================] - 0s 457us/sample - loss: 1.4033 - mean_absolute_error: 1.4033 - val_loss: 1.9455 - val_mean_absolute_error: 1.9455\n",
            "Epoch 36/100\n",
            "151/151 [==============================] - 0s 533us/sample - loss: 1.3713 - mean_absolute_error: 1.3713 - val_loss: 1.9137 - val_mean_absolute_error: 1.9137\n",
            "Epoch 37/100\n",
            "151/151 [==============================] - 0s 535us/sample - loss: 1.3646 - mean_absolute_error: 1.3646 - val_loss: 1.9546 - val_mean_absolute_error: 1.9546\n",
            "Epoch 38/100\n",
            "151/151 [==============================] - 0s 526us/sample - loss: 1.3711 - mean_absolute_error: 1.3711 - val_loss: 1.9753 - val_mean_absolute_error: 1.9753\n",
            "Epoch 39/100\n",
            "151/151 [==============================] - 0s 705us/sample - loss: 1.3618 - mean_absolute_error: 1.3618 - val_loss: 1.9500 - val_mean_absolute_error: 1.9500\n",
            "Epoch 40/100\n",
            "151/151 [==============================] - 0s 537us/sample - loss: 1.3477 - mean_absolute_error: 1.3477 - val_loss: 1.9365 - val_mean_absolute_error: 1.9365\n",
            "Epoch 41/100\n",
            "151/151 [==============================] - 0s 473us/sample - loss: 1.3883 - mean_absolute_error: 1.3883 - val_loss: 1.9280 - val_mean_absolute_error: 1.9280\n",
            "Epoch 42/100\n",
            "151/151 [==============================] - 0s 442us/sample - loss: 1.3663 - mean_absolute_error: 1.3663 - val_loss: 1.9503 - val_mean_absolute_error: 1.9503\n",
            "Epoch 43/100\n",
            "151/151 [==============================] - 0s 484us/sample - loss: 1.3822 - mean_absolute_error: 1.3822 - val_loss: 1.9400 - val_mean_absolute_error: 1.9400\n",
            "Epoch 44/100\n",
            "151/151 [==============================] - 0s 463us/sample - loss: 1.3495 - mean_absolute_error: 1.3495 - val_loss: 1.9296 - val_mean_absolute_error: 1.9296\n",
            "Epoch 45/100\n",
            "151/151 [==============================] - 0s 454us/sample - loss: 1.3305 - mean_absolute_error: 1.3305 - val_loss: 1.9207 - val_mean_absolute_error: 1.9207\n",
            "Epoch 46/100\n",
            "151/151 [==============================] - 0s 512us/sample - loss: 1.3453 - mean_absolute_error: 1.3453 - val_loss: 1.9258 - val_mean_absolute_error: 1.9258\n",
            "Epoch 47/100\n",
            "151/151 [==============================] - 0s 461us/sample - loss: 1.3489 - mean_absolute_error: 1.3489 - val_loss: 1.9260 - val_mean_absolute_error: 1.9260\n",
            "Epoch 48/100\n",
            "151/151 [==============================] - 0s 441us/sample - loss: 1.3390 - mean_absolute_error: 1.3390 - val_loss: 1.9386 - val_mean_absolute_error: 1.9386\n",
            "Epoch 49/100\n",
            "151/151 [==============================] - 0s 458us/sample - loss: 1.3282 - mean_absolute_error: 1.3282 - val_loss: 1.9557 - val_mean_absolute_error: 1.9557\n",
            "Epoch 50/100\n",
            "151/151 [==============================] - 0s 1ms/sample - loss: 1.3601 - mean_absolute_error: 1.3601 - val_loss: 2.0386 - val_mean_absolute_error: 2.0386\n",
            "Epoch 51/100\n",
            "151/151 [==============================] - 0s 444us/sample - loss: 1.3312 - mean_absolute_error: 1.3312 - val_loss: 1.9952 - val_mean_absolute_error: 1.9952\n",
            "Epoch 52/100\n",
            "151/151 [==============================] - 0s 530us/sample - loss: 1.3338 - mean_absolute_error: 1.3338 - val_loss: 1.9868 - val_mean_absolute_error: 1.9868\n",
            "Epoch 53/100\n",
            "151/151 [==============================] - 0s 612us/sample - loss: 1.3103 - mean_absolute_error: 1.3103 - val_loss: 1.9508 - val_mean_absolute_error: 1.9508\n",
            "Epoch 54/100\n",
            "151/151 [==============================] - 0s 531us/sample - loss: 1.3055 - mean_absolute_error: 1.3055 - val_loss: 1.9694 - val_mean_absolute_error: 1.9694\n",
            "Epoch 55/100\n",
            "151/151 [==============================] - 0s 448us/sample - loss: 1.3485 - mean_absolute_error: 1.3485 - val_loss: 1.9600 - val_mean_absolute_error: 1.9600\n",
            "Epoch 56/100\n",
            "151/151 [==============================] - 0s 510us/sample - loss: 1.3190 - mean_absolute_error: 1.3190 - val_loss: 1.9702 - val_mean_absolute_error: 1.9702\n",
            "Epoch 57/100\n",
            "151/151 [==============================] - 0s 486us/sample - loss: 1.3169 - mean_absolute_error: 1.3169 - val_loss: 1.9740 - val_mean_absolute_error: 1.9740\n",
            "Epoch 58/100\n",
            "151/151 [==============================] - 0s 509us/sample - loss: 1.2850 - mean_absolute_error: 1.2850 - val_loss: 2.0131 - val_mean_absolute_error: 2.0131\n",
            "Epoch 59/100\n",
            "151/151 [==============================] - 0s 450us/sample - loss: 1.3177 - mean_absolute_error: 1.3177 - val_loss: 1.9527 - val_mean_absolute_error: 1.9527\n",
            "Epoch 60/100\n",
            "151/151 [==============================] - 0s 456us/sample - loss: 1.2961 - mean_absolute_error: 1.2961 - val_loss: 2.0125 - val_mean_absolute_error: 2.0125\n",
            "Epoch 61/100\n",
            "151/151 [==============================] - 0s 442us/sample - loss: 1.2927 - mean_absolute_error: 1.2927 - val_loss: 1.9906 - val_mean_absolute_error: 1.9906\n",
            "Epoch 62/100\n",
            "151/151 [==============================] - 0s 532us/sample - loss: 1.3117 - mean_absolute_error: 1.3117 - val_loss: 1.9827 - val_mean_absolute_error: 1.9827\n",
            "Epoch 63/100\n",
            "151/151 [==============================] - 0s 506us/sample - loss: 1.2905 - mean_absolute_error: 1.2905 - val_loss: 1.9702 - val_mean_absolute_error: 1.9702\n",
            "Epoch 64/100\n",
            "151/151 [==============================] - 0s 458us/sample - loss: 1.2848 - mean_absolute_error: 1.2848 - val_loss: 2.0074 - val_mean_absolute_error: 2.0074\n",
            "Epoch 65/100\n",
            "151/151 [==============================] - 0s 524us/sample - loss: 1.2887 - mean_absolute_error: 1.2887 - val_loss: 1.9790 - val_mean_absolute_error: 1.9790\n",
            "Epoch 66/100\n",
            "151/151 [==============================] - 0s 590us/sample - loss: 1.3047 - mean_absolute_error: 1.3047 - val_loss: 1.9853 - val_mean_absolute_error: 1.9853\n",
            "Epoch 67/100\n",
            "151/151 [==============================] - 0s 536us/sample - loss: 1.2763 - mean_absolute_error: 1.2763 - val_loss: 1.9468 - val_mean_absolute_error: 1.9468\n",
            "Epoch 68/100\n",
            "151/151 [==============================] - 0s 545us/sample - loss: 1.3007 - mean_absolute_error: 1.3007 - val_loss: 1.9567 - val_mean_absolute_error: 1.9567\n",
            "Epoch 69/100\n",
            "151/151 [==============================] - 0s 532us/sample - loss: 1.2658 - mean_absolute_error: 1.2658 - val_loss: 1.9639 - val_mean_absolute_error: 1.9639\n",
            "Epoch 70/100\n",
            "151/151 [==============================] - 0s 546us/sample - loss: 1.2661 - mean_absolute_error: 1.2661 - val_loss: 1.9804 - val_mean_absolute_error: 1.9804\n",
            "Epoch 71/100\n",
            "151/151 [==============================] - 0s 554us/sample - loss: 1.2909 - mean_absolute_error: 1.2909 - val_loss: 1.9852 - val_mean_absolute_error: 1.9852\n",
            "Epoch 72/100\n",
            "151/151 [==============================] - 0s 549us/sample - loss: 1.2761 - mean_absolute_error: 1.2761 - val_loss: 1.9804 - val_mean_absolute_error: 1.9804\n",
            "Epoch 73/100\n",
            "151/151 [==============================] - 0s 532us/sample - loss: 1.2754 - mean_absolute_error: 1.2754 - val_loss: 1.9911 - val_mean_absolute_error: 1.9911\n",
            "Epoch 74/100\n",
            "151/151 [==============================] - 0s 527us/sample - loss: 1.2982 - mean_absolute_error: 1.2982 - val_loss: 1.9680 - val_mean_absolute_error: 1.9680\n",
            "Epoch 75/100\n",
            "151/151 [==============================] - 0s 539us/sample - loss: 1.2427 - mean_absolute_error: 1.2427 - val_loss: 1.9771 - val_mean_absolute_error: 1.9771\n",
            "Epoch 76/100\n",
            "151/151 [==============================] - 0s 529us/sample - loss: 1.2685 - mean_absolute_error: 1.2685 - val_loss: 1.9852 - val_mean_absolute_error: 1.9852\n",
            "Epoch 77/100\n",
            "151/151 [==============================] - 0s 579us/sample - loss: 1.2544 - mean_absolute_error: 1.2544 - val_loss: 1.9787 - val_mean_absolute_error: 1.9787\n",
            "Epoch 78/100\n",
            "151/151 [==============================] - 0s 553us/sample - loss: 1.2435 - mean_absolute_error: 1.2435 - val_loss: 2.0017 - val_mean_absolute_error: 2.0017\n",
            "Epoch 79/100\n",
            "151/151 [==============================] - 0s 491us/sample - loss: 1.2569 - mean_absolute_error: 1.2569 - val_loss: 1.9570 - val_mean_absolute_error: 1.9570\n",
            "Epoch 80/100\n",
            "151/151 [==============================] - 0s 428us/sample - loss: 1.2507 - mean_absolute_error: 1.2507 - val_loss: 1.9749 - val_mean_absolute_error: 1.9749\n",
            "Epoch 81/100\n",
            "151/151 [==============================] - 0s 472us/sample - loss: 1.2632 - mean_absolute_error: 1.2632 - val_loss: 1.9697 - val_mean_absolute_error: 1.9697\n",
            "Epoch 82/100\n",
            "151/151 [==============================] - 0s 610us/sample - loss: 1.2597 - mean_absolute_error: 1.2597 - val_loss: 1.9788 - val_mean_absolute_error: 1.9788\n",
            "Epoch 83/100\n",
            "151/151 [==============================] - 0s 580us/sample - loss: 1.2797 - mean_absolute_error: 1.2797 - val_loss: 1.9915 - val_mean_absolute_error: 1.9915\n",
            "Epoch 84/100\n",
            "151/151 [==============================] - 0s 557us/sample - loss: 1.2502 - mean_absolute_error: 1.2502 - val_loss: 1.9677 - val_mean_absolute_error: 1.9677\n",
            "Epoch 85/100\n",
            "151/151 [==============================] - 0s 568us/sample - loss: 1.2396 - mean_absolute_error: 1.2396 - val_loss: 1.9908 - val_mean_absolute_error: 1.9908\n",
            "Epoch 86/100\n",
            "151/151 [==============================] - 0s 546us/sample - loss: 1.2194 - mean_absolute_error: 1.2194 - val_loss: 1.9933 - val_mean_absolute_error: 1.9933\n",
            "Epoch 87/100\n",
            "151/151 [==============================] - 0s 593us/sample - loss: 1.2765 - mean_absolute_error: 1.2765 - val_loss: 1.9869 - val_mean_absolute_error: 1.9869\n",
            "Epoch 88/100\n",
            "151/151 [==============================] - 0s 560us/sample - loss: 1.2252 - mean_absolute_error: 1.2252 - val_loss: 1.9878 - val_mean_absolute_error: 1.9878\n",
            "Epoch 89/100\n",
            "151/151 [==============================] - 0s 547us/sample - loss: 1.2118 - mean_absolute_error: 1.2118 - val_loss: 1.9880 - val_mean_absolute_error: 1.9880\n",
            "Epoch 90/100\n",
            "151/151 [==============================] - 0s 548us/sample - loss: 1.2231 - mean_absolute_error: 1.2231 - val_loss: 1.9871 - val_mean_absolute_error: 1.9871\n",
            "Epoch 91/100\n",
            "151/151 [==============================] - 0s 540us/sample - loss: 1.2543 - mean_absolute_error: 1.2543 - val_loss: 1.9869 - val_mean_absolute_error: 1.9869\n",
            "Epoch 92/100\n",
            "151/151 [==============================] - 0s 556us/sample - loss: 1.2069 - mean_absolute_error: 1.2069 - val_loss: 1.9868 - val_mean_absolute_error: 1.9868\n",
            "Epoch 93/100\n",
            "151/151 [==============================] - 0s 543us/sample - loss: 1.2377 - mean_absolute_error: 1.2377 - val_loss: 1.9851 - val_mean_absolute_error: 1.9851\n",
            "Epoch 94/100\n",
            "151/151 [==============================] - 0s 544us/sample - loss: 1.2102 - mean_absolute_error: 1.2102 - val_loss: 1.9759 - val_mean_absolute_error: 1.9759\n",
            "Epoch 95/100\n",
            "151/151 [==============================] - 0s 476us/sample - loss: 1.2072 - mean_absolute_error: 1.2072 - val_loss: 2.0546 - val_mean_absolute_error: 2.0546\n",
            "Epoch 96/100\n",
            "151/151 [==============================] - 0s 448us/sample - loss: 1.2191 - mean_absolute_error: 1.2191 - val_loss: 1.9984 - val_mean_absolute_error: 1.9984\n",
            "Epoch 97/100\n",
            "151/151 [==============================] - 0s 456us/sample - loss: 1.2217 - mean_absolute_error: 1.2217 - val_loss: 1.9859 - val_mean_absolute_error: 1.9859\n",
            "Epoch 98/100\n",
            "151/151 [==============================] - 0s 508us/sample - loss: 1.2384 - mean_absolute_error: 1.2384 - val_loss: 1.9905 - val_mean_absolute_error: 1.9905\n",
            "Epoch 99/100\n",
            "151/151 [==============================] - 0s 551us/sample - loss: 1.1979 - mean_absolute_error: 1.1979 - val_loss: 2.0271 - val_mean_absolute_error: 2.0271\n",
            "Epoch 100/100\n",
            "151/151 [==============================] - 0s 489us/sample - loss: 1.1925 - mean_absolute_error: 1.1925 - val_loss: 1.9933 - val_mean_absolute_error: 1.9933\n",
            "152/152 [==============================] - 0s 474us/sample - loss: 2.5492 - mean_absolute_error: 2.5492\n",
            "Train on 152 samples, validate on 101 samples\n",
            "Epoch 1/100\n",
            "152/152 [==============================] - 0s 2ms/sample - loss: 2.5822 - mean_absolute_error: 2.5822 - val_loss: 2.0148 - val_mean_absolute_error: 2.0148\n",
            "Epoch 2/100\n",
            "152/152 [==============================] - 0s 452us/sample - loss: 2.4622 - mean_absolute_error: 2.4622 - val_loss: 2.0170 - val_mean_absolute_error: 2.0170\n",
            "Epoch 3/100\n",
            "152/152 [==============================] - 0s 564us/sample - loss: 2.4297 - mean_absolute_error: 2.4297 - val_loss: 2.0270 - val_mean_absolute_error: 2.0270\n",
            "Epoch 4/100\n",
            "152/152 [==============================] - 0s 535us/sample - loss: 2.3159 - mean_absolute_error: 2.3159 - val_loss: 2.1245 - val_mean_absolute_error: 2.1245\n",
            "Epoch 5/100\n",
            "152/152 [==============================] - 0s 482us/sample - loss: 2.2814 - mean_absolute_error: 2.2814 - val_loss: 2.0998 - val_mean_absolute_error: 2.0998\n",
            "Epoch 6/100\n",
            "152/152 [==============================] - 0s 567us/sample - loss: 2.2939 - mean_absolute_error: 2.2939 - val_loss: 2.0404 - val_mean_absolute_error: 2.0404\n",
            "Epoch 7/100\n",
            "152/152 [==============================] - 0s 618us/sample - loss: 2.2490 - mean_absolute_error: 2.2490 - val_loss: 2.1309 - val_mean_absolute_error: 2.1309\n",
            "Epoch 8/100\n",
            "152/152 [==============================] - 0s 474us/sample - loss: 2.2010 - mean_absolute_error: 2.2010 - val_loss: 2.0861 - val_mean_absolute_error: 2.0861\n",
            "Epoch 9/100\n",
            "152/152 [==============================] - 0s 631us/sample - loss: 2.1943 - mean_absolute_error: 2.1943 - val_loss: 2.1167 - val_mean_absolute_error: 2.1167\n",
            "Epoch 10/100\n",
            "152/152 [==============================] - 0s 542us/sample - loss: 2.1429 - mean_absolute_error: 2.1429 - val_loss: 2.1712 - val_mean_absolute_error: 2.1712\n",
            "Epoch 11/100\n",
            "152/152 [==============================] - 0s 476us/sample - loss: 2.1201 - mean_absolute_error: 2.1201 - val_loss: 2.0705 - val_mean_absolute_error: 2.0705\n",
            "Epoch 12/100\n",
            "152/152 [==============================] - 0s 445us/sample - loss: 2.0865 - mean_absolute_error: 2.0865 - val_loss: 2.1453 - val_mean_absolute_error: 2.1453\n",
            "Epoch 13/100\n",
            "152/152 [==============================] - 0s 470us/sample - loss: 2.1274 - mean_absolute_error: 2.1274 - val_loss: 2.0946 - val_mean_absolute_error: 2.0946\n",
            "Epoch 14/100\n",
            "152/152 [==============================] - 0s 496us/sample - loss: 2.0500 - mean_absolute_error: 2.0500 - val_loss: 2.1501 - val_mean_absolute_error: 2.1501\n",
            "Epoch 15/100\n",
            "152/152 [==============================] - 0s 463us/sample - loss: 2.0761 - mean_absolute_error: 2.0761 - val_loss: 2.1299 - val_mean_absolute_error: 2.1299\n",
            "Epoch 16/100\n",
            "152/152 [==============================] - 0s 471us/sample - loss: 2.0387 - mean_absolute_error: 2.0387 - val_loss: 2.1362 - val_mean_absolute_error: 2.1362\n",
            "Epoch 17/100\n",
            "152/152 [==============================] - 0s 450us/sample - loss: 2.0071 - mean_absolute_error: 2.0071 - val_loss: 2.1437 - val_mean_absolute_error: 2.1437\n",
            "Epoch 18/100\n",
            "152/152 [==============================] - 0s 448us/sample - loss: 2.0046 - mean_absolute_error: 2.0046 - val_loss: 2.1787 - val_mean_absolute_error: 2.1787\n",
            "Epoch 19/100\n",
            "152/152 [==============================] - 0s 435us/sample - loss: 1.9998 - mean_absolute_error: 1.9998 - val_loss: 2.1576 - val_mean_absolute_error: 2.1576\n",
            "Epoch 20/100\n",
            "152/152 [==============================] - 0s 477us/sample - loss: 1.9485 - mean_absolute_error: 1.9485 - val_loss: 2.1817 - val_mean_absolute_error: 2.1817\n",
            "Epoch 21/100\n",
            "152/152 [==============================] - 0s 506us/sample - loss: 1.9300 - mean_absolute_error: 1.9300 - val_loss: 2.1842 - val_mean_absolute_error: 2.1842\n",
            "Epoch 22/100\n",
            "152/152 [==============================] - 0s 451us/sample - loss: 1.9501 - mean_absolute_error: 1.9501 - val_loss: 2.3200 - val_mean_absolute_error: 2.3200\n",
            "Epoch 23/100\n",
            "152/152 [==============================] - 0s 561us/sample - loss: 1.9172 - mean_absolute_error: 1.9172 - val_loss: 2.2880 - val_mean_absolute_error: 2.2880\n",
            "Epoch 24/100\n",
            "152/152 [==============================] - 0s 584us/sample - loss: 1.9178 - mean_absolute_error: 1.9178 - val_loss: 2.2781 - val_mean_absolute_error: 2.2781\n",
            "Epoch 25/100\n",
            "152/152 [==============================] - 0s 610us/sample - loss: 1.8839 - mean_absolute_error: 1.8839 - val_loss: 2.2297 - val_mean_absolute_error: 2.2297\n",
            "Epoch 26/100\n",
            "152/152 [==============================] - 0s 560us/sample - loss: 1.8843 - mean_absolute_error: 1.8843 - val_loss: 2.2688 - val_mean_absolute_error: 2.2688\n",
            "Epoch 27/100\n",
            "152/152 [==============================] - 0s 531us/sample - loss: 1.8709 - mean_absolute_error: 1.8709 - val_loss: 2.2857 - val_mean_absolute_error: 2.2857\n",
            "Epoch 28/100\n",
            "152/152 [==============================] - 0s 516us/sample - loss: 1.8379 - mean_absolute_error: 1.8379 - val_loss: 2.2750 - val_mean_absolute_error: 2.2750\n",
            "Epoch 29/100\n",
            "152/152 [==============================] - 0s 567us/sample - loss: 1.8285 - mean_absolute_error: 1.8285 - val_loss: 2.2382 - val_mean_absolute_error: 2.2382\n",
            "Epoch 30/100\n",
            "152/152 [==============================] - 0s 480us/sample - loss: 1.8078 - mean_absolute_error: 1.8078 - val_loss: 2.2965 - val_mean_absolute_error: 2.2965\n",
            "Epoch 31/100\n",
            "152/152 [==============================] - 0s 542us/sample - loss: 1.7869 - mean_absolute_error: 1.7869 - val_loss: 2.2128 - val_mean_absolute_error: 2.2128\n",
            "Epoch 32/100\n",
            "152/152 [==============================] - 0s 568us/sample - loss: 1.7841 - mean_absolute_error: 1.7841 - val_loss: 2.4181 - val_mean_absolute_error: 2.4181\n",
            "Epoch 33/100\n",
            "152/152 [==============================] - 0s 556us/sample - loss: 1.7955 - mean_absolute_error: 1.7955 - val_loss: 2.2462 - val_mean_absolute_error: 2.2462\n",
            "Epoch 34/100\n",
            "152/152 [==============================] - 0s 586us/sample - loss: 1.7822 - mean_absolute_error: 1.7822 - val_loss: 2.2906 - val_mean_absolute_error: 2.2906\n",
            "Epoch 35/100\n",
            "152/152 [==============================] - 0s 573us/sample - loss: 1.7767 - mean_absolute_error: 1.7767 - val_loss: 2.2880 - val_mean_absolute_error: 2.2880\n",
            "Epoch 36/100\n",
            "152/152 [==============================] - 0s 602us/sample - loss: 1.7569 - mean_absolute_error: 1.7569 - val_loss: 2.2643 - val_mean_absolute_error: 2.2643\n",
            "Epoch 37/100\n",
            "152/152 [==============================] - 0s 586us/sample - loss: 1.7704 - mean_absolute_error: 1.7704 - val_loss: 2.2597 - val_mean_absolute_error: 2.2597\n",
            "Epoch 38/100\n",
            "152/152 [==============================] - 0s 562us/sample - loss: 1.7499 - mean_absolute_error: 1.7499 - val_loss: 2.3447 - val_mean_absolute_error: 2.3447\n",
            "Epoch 39/100\n",
            "152/152 [==============================] - 0s 574us/sample - loss: 1.7719 - mean_absolute_error: 1.7719 - val_loss: 2.2527 - val_mean_absolute_error: 2.2527\n",
            "Epoch 40/100\n",
            "152/152 [==============================] - 0s 476us/sample - loss: 1.7643 - mean_absolute_error: 1.7643 - val_loss: 2.2379 - val_mean_absolute_error: 2.2379\n",
            "Epoch 41/100\n",
            "152/152 [==============================] - 0s 553us/sample - loss: 1.7199 - mean_absolute_error: 1.7199 - val_loss: 2.2880 - val_mean_absolute_error: 2.2880\n",
            "Epoch 42/100\n",
            "152/152 [==============================] - 0s 542us/sample - loss: 1.6990 - mean_absolute_error: 1.6990 - val_loss: 2.3976 - val_mean_absolute_error: 2.3976\n",
            "Epoch 43/100\n",
            "152/152 [==============================] - 0s 542us/sample - loss: 1.7284 - mean_absolute_error: 1.7284 - val_loss: 2.2683 - val_mean_absolute_error: 2.2683\n",
            "Epoch 44/100\n",
            "152/152 [==============================] - 0s 554us/sample - loss: 1.6991 - mean_absolute_error: 1.6991 - val_loss: 2.2101 - val_mean_absolute_error: 2.2101\n",
            "Epoch 45/100\n",
            "152/152 [==============================] - 0s 531us/sample - loss: 1.7083 - mean_absolute_error: 1.7083 - val_loss: 2.2974 - val_mean_absolute_error: 2.2974\n",
            "Epoch 46/100\n",
            "152/152 [==============================] - 0s 521us/sample - loss: 1.6742 - mean_absolute_error: 1.6742 - val_loss: 2.3975 - val_mean_absolute_error: 2.3975\n",
            "Epoch 47/100\n",
            "152/152 [==============================] - 0s 585us/sample - loss: 1.7017 - mean_absolute_error: 1.7017 - val_loss: 2.3561 - val_mean_absolute_error: 2.3561\n",
            "Epoch 48/100\n",
            "152/152 [==============================] - 0s 565us/sample - loss: 1.6940 - mean_absolute_error: 1.6940 - val_loss: 2.2703 - val_mean_absolute_error: 2.2703\n",
            "Epoch 49/100\n",
            "152/152 [==============================] - 0s 574us/sample - loss: 1.6590 - mean_absolute_error: 1.6590 - val_loss: 2.2376 - val_mean_absolute_error: 2.2376\n",
            "Epoch 50/100\n",
            "152/152 [==============================] - 0s 599us/sample - loss: 1.6601 - mean_absolute_error: 1.6601 - val_loss: 2.2584 - val_mean_absolute_error: 2.2584\n",
            "Epoch 51/100\n",
            "152/152 [==============================] - 0s 564us/sample - loss: 1.6615 - mean_absolute_error: 1.6615 - val_loss: 2.3302 - val_mean_absolute_error: 2.3302\n",
            "Epoch 52/100\n",
            "152/152 [==============================] - 0s 606us/sample - loss: 1.6248 - mean_absolute_error: 1.6248 - val_loss: 2.3048 - val_mean_absolute_error: 2.3048\n",
            "Epoch 53/100\n",
            "152/152 [==============================] - 0s 546us/sample - loss: 1.6470 - mean_absolute_error: 1.6470 - val_loss: 2.3071 - val_mean_absolute_error: 2.3071\n",
            "Epoch 54/100\n",
            "152/152 [==============================] - 0s 532us/sample - loss: 1.6206 - mean_absolute_error: 1.6206 - val_loss: 2.2656 - val_mean_absolute_error: 2.2656\n",
            "Epoch 55/100\n",
            "152/152 [==============================] - 0s 522us/sample - loss: 1.6518 - mean_absolute_error: 1.6518 - val_loss: 2.3956 - val_mean_absolute_error: 2.3956\n",
            "Epoch 56/100\n",
            "152/152 [==============================] - 0s 527us/sample - loss: 1.6288 - mean_absolute_error: 1.6288 - val_loss: 2.3249 - val_mean_absolute_error: 2.3249\n",
            "Epoch 57/100\n",
            "152/152 [==============================] - 0s 451us/sample - loss: 1.6588 - mean_absolute_error: 1.6588 - val_loss: 2.3369 - val_mean_absolute_error: 2.3369\n",
            "Epoch 58/100\n",
            "152/152 [==============================] - 0s 559us/sample - loss: 1.6246 - mean_absolute_error: 1.6246 - val_loss: 2.3770 - val_mean_absolute_error: 2.3770\n",
            "Epoch 59/100\n",
            "152/152 [==============================] - 0s 579us/sample - loss: 1.5991 - mean_absolute_error: 1.5991 - val_loss: 2.3002 - val_mean_absolute_error: 2.3002\n",
            "Epoch 60/100\n",
            "152/152 [==============================] - 0s 577us/sample - loss: 1.6110 - mean_absolute_error: 1.6110 - val_loss: 2.3491 - val_mean_absolute_error: 2.3491\n",
            "Epoch 61/100\n",
            "152/152 [==============================] - 0s 551us/sample - loss: 1.6075 - mean_absolute_error: 1.6075 - val_loss: 2.3086 - val_mean_absolute_error: 2.3086\n",
            "Epoch 62/100\n",
            "152/152 [==============================] - 0s 525us/sample - loss: 1.5969 - mean_absolute_error: 1.5969 - val_loss: 2.3991 - val_mean_absolute_error: 2.3991\n",
            "Epoch 63/100\n",
            "152/152 [==============================] - 0s 505us/sample - loss: 1.6304 - mean_absolute_error: 1.6304 - val_loss: 2.3404 - val_mean_absolute_error: 2.3404\n",
            "Epoch 64/100\n",
            "152/152 [==============================] - 0s 447us/sample - loss: 1.5863 - mean_absolute_error: 1.5863 - val_loss: 2.3897 - val_mean_absolute_error: 2.3897\n",
            "Epoch 65/100\n",
            "152/152 [==============================] - 0s 438us/sample - loss: 1.5531 - mean_absolute_error: 1.5531 - val_loss: 2.3274 - val_mean_absolute_error: 2.3274\n",
            "Epoch 66/100\n",
            "152/152 [==============================] - 0s 448us/sample - loss: 1.5671 - mean_absolute_error: 1.5671 - val_loss: 2.4243 - val_mean_absolute_error: 2.4243\n",
            "Epoch 67/100\n",
            "152/152 [==============================] - 0s 447us/sample - loss: 1.5758 - mean_absolute_error: 1.5758 - val_loss: 2.4646 - val_mean_absolute_error: 2.4646\n",
            "Epoch 68/100\n",
            "152/152 [==============================] - 0s 510us/sample - loss: 1.5802 - mean_absolute_error: 1.5802 - val_loss: 2.3232 - val_mean_absolute_error: 2.3232\n",
            "Epoch 69/100\n",
            "152/152 [==============================] - 0s 497us/sample - loss: 1.5763 - mean_absolute_error: 1.5763 - val_loss: 2.2893 - val_mean_absolute_error: 2.2893\n",
            "Epoch 70/100\n",
            "152/152 [==============================] - 0s 481us/sample - loss: 1.5129 - mean_absolute_error: 1.5129 - val_loss: 2.2839 - val_mean_absolute_error: 2.2839\n",
            "Epoch 71/100\n",
            "152/152 [==============================] - 0s 460us/sample - loss: 1.5366 - mean_absolute_error: 1.5366 - val_loss: 2.4049 - val_mean_absolute_error: 2.4049\n",
            "Epoch 72/100\n",
            "152/152 [==============================] - 0s 456us/sample - loss: 1.5476 - mean_absolute_error: 1.5476 - val_loss: 2.4959 - val_mean_absolute_error: 2.4959\n",
            "Epoch 73/100\n",
            "152/152 [==============================] - 0s 511us/sample - loss: 1.5357 - mean_absolute_error: 1.5357 - val_loss: 2.3426 - val_mean_absolute_error: 2.3426\n",
            "Epoch 74/100\n",
            "152/152 [==============================] - 0s 483us/sample - loss: 1.5312 - mean_absolute_error: 1.5312 - val_loss: 2.3773 - val_mean_absolute_error: 2.3773\n",
            "Epoch 75/100\n",
            "152/152 [==============================] - 0s 445us/sample - loss: 1.5314 - mean_absolute_error: 1.5314 - val_loss: 2.3608 - val_mean_absolute_error: 2.3608\n",
            "Epoch 76/100\n",
            "152/152 [==============================] - 0s 460us/sample - loss: 1.5253 - mean_absolute_error: 1.5253 - val_loss: 2.3256 - val_mean_absolute_error: 2.3256\n",
            "Epoch 77/100\n",
            "152/152 [==============================] - 0s 482us/sample - loss: 1.5030 - mean_absolute_error: 1.5030 - val_loss: 2.2953 - val_mean_absolute_error: 2.2953\n",
            "Epoch 78/100\n",
            "152/152 [==============================] - 0s 459us/sample - loss: 1.5316 - mean_absolute_error: 1.5316 - val_loss: 2.3348 - val_mean_absolute_error: 2.3348\n",
            "Epoch 79/100\n",
            "152/152 [==============================] - 0s 509us/sample - loss: 1.5408 - mean_absolute_error: 1.5408 - val_loss: 2.3363 - val_mean_absolute_error: 2.3363\n",
            "Epoch 80/100\n",
            "152/152 [==============================] - 0s 536us/sample - loss: 1.4827 - mean_absolute_error: 1.4827 - val_loss: 2.3768 - val_mean_absolute_error: 2.3768\n",
            "Epoch 81/100\n",
            "152/152 [==============================] - 0s 480us/sample - loss: 1.4913 - mean_absolute_error: 1.4913 - val_loss: 2.3666 - val_mean_absolute_error: 2.3666\n",
            "Epoch 82/100\n",
            "152/152 [==============================] - 0s 525us/sample - loss: 1.5315 - mean_absolute_error: 1.5315 - val_loss: 2.4144 - val_mean_absolute_error: 2.4144\n",
            "Epoch 83/100\n",
            "152/152 [==============================] - 0s 536us/sample - loss: 1.4772 - mean_absolute_error: 1.4772 - val_loss: 2.4900 - val_mean_absolute_error: 2.4900\n",
            "Epoch 84/100\n",
            "152/152 [==============================] - 0s 468us/sample - loss: 1.4752 - mean_absolute_error: 1.4752 - val_loss: 2.4421 - val_mean_absolute_error: 2.4421\n",
            "Epoch 85/100\n",
            "152/152 [==============================] - 0s 542us/sample - loss: 1.5219 - mean_absolute_error: 1.5219 - val_loss: 2.4139 - val_mean_absolute_error: 2.4139\n",
            "Epoch 86/100\n",
            "152/152 [==============================] - 0s 595us/sample - loss: 1.4913 - mean_absolute_error: 1.4913 - val_loss: 2.4096 - val_mean_absolute_error: 2.4096\n",
            "Epoch 87/100\n",
            "152/152 [==============================] - 0s 554us/sample - loss: 1.4810 - mean_absolute_error: 1.4810 - val_loss: 2.4186 - val_mean_absolute_error: 2.4186\n",
            "Epoch 88/100\n",
            "152/152 [==============================] - 0s 514us/sample - loss: 1.4897 - mean_absolute_error: 1.4897 - val_loss: 2.4303 - val_mean_absolute_error: 2.4303\n",
            "Epoch 89/100\n",
            "152/152 [==============================] - 0s 481us/sample - loss: 1.4774 - mean_absolute_error: 1.4774 - val_loss: 2.3528 - val_mean_absolute_error: 2.3528\n",
            "Epoch 90/100\n",
            "152/152 [==============================] - 0s 440us/sample - loss: 1.4813 - mean_absolute_error: 1.4813 - val_loss: 2.4201 - val_mean_absolute_error: 2.4201\n",
            "Epoch 91/100\n",
            "152/152 [==============================] - 0s 490us/sample - loss: 1.4993 - mean_absolute_error: 1.4993 - val_loss: 2.4217 - val_mean_absolute_error: 2.4217\n",
            "Epoch 92/100\n",
            "152/152 [==============================] - 0s 447us/sample - loss: 1.4268 - mean_absolute_error: 1.4268 - val_loss: 2.4736 - val_mean_absolute_error: 2.4736\n",
            "Epoch 93/100\n",
            "152/152 [==============================] - 0s 446us/sample - loss: 1.4837 - mean_absolute_error: 1.4837 - val_loss: 2.4129 - val_mean_absolute_error: 2.4129\n",
            "Epoch 94/100\n",
            "152/152 [==============================] - 0s 581us/sample - loss: 1.4489 - mean_absolute_error: 1.4489 - val_loss: 2.4440 - val_mean_absolute_error: 2.4440\n",
            "Epoch 95/100\n",
            "152/152 [==============================] - 0s 539us/sample - loss: 1.4784 - mean_absolute_error: 1.4784 - val_loss: 2.3663 - val_mean_absolute_error: 2.3663\n",
            "Epoch 96/100\n",
            "152/152 [==============================] - 0s 512us/sample - loss: 1.4724 - mean_absolute_error: 1.4724 - val_loss: 2.3656 - val_mean_absolute_error: 2.3656\n",
            "Epoch 97/100\n",
            "152/152 [==============================] - 0s 533us/sample - loss: 1.4703 - mean_absolute_error: 1.4703 - val_loss: 2.3912 - val_mean_absolute_error: 2.3912\n",
            "Epoch 98/100\n",
            "152/152 [==============================] - 0s 531us/sample - loss: 1.4535 - mean_absolute_error: 1.4535 - val_loss: 2.3466 - val_mean_absolute_error: 2.3466\n",
            "Epoch 99/100\n",
            "152/152 [==============================] - 0s 576us/sample - loss: 1.4609 - mean_absolute_error: 1.4609 - val_loss: 2.4054 - val_mean_absolute_error: 2.4054\n",
            "Epoch 100/100\n",
            "152/152 [==============================] - 0s 562us/sample - loss: 1.4550 - mean_absolute_error: 1.4550 - val_loss: 2.3617 - val_mean_absolute_error: 2.3617\n",
            "151/151 [==============================] - 0s 489us/sample - loss: 2.0028 - mean_absolute_error: 2.0028\n",
            "Train on 303 samples, validate on 101 samples\n"
          ],
          "name": "stdout"
        },
        {
          "output_type": "stream",
          "text": [
            "/usr/local/lib/python3.6/dist-packages/sklearn/model_selection/_search.py:814: DeprecationWarning: The default of the `iid` parameter will change from True to False in version 0.22 and will be removed in 0.24. This will change numeric results when test-set sizes are unequal.\n",
            "  DeprecationWarning)\n"
          ],
          "name": "stderr"
        },
        {
          "output_type": "stream",
          "text": [
            "Epoch 1/100\n",
            "303/303 [==============================] - 0s 1ms/sample - loss: 1.7451 - mean_absolute_error: 1.7451 - val_loss: 2.2482 - val_mean_absolute_error: 2.2482\n",
            "Epoch 2/100\n",
            "303/303 [==============================] - 0s 378us/sample - loss: 1.7087 - mean_absolute_error: 1.7087 - val_loss: 2.3525 - val_mean_absolute_error: 2.3525\n",
            "Epoch 3/100\n",
            "303/303 [==============================] - 0s 338us/sample - loss: 1.6960 - mean_absolute_error: 1.6960 - val_loss: 2.2882 - val_mean_absolute_error: 2.2882\n",
            "Epoch 4/100\n",
            "303/303 [==============================] - 0s 365us/sample - loss: 1.6807 - mean_absolute_error: 1.6807 - val_loss: 2.3192 - val_mean_absolute_error: 2.3192\n",
            "Epoch 5/100\n",
            "303/303 [==============================] - 0s 442us/sample - loss: 1.6658 - mean_absolute_error: 1.6658 - val_loss: 2.3173 - val_mean_absolute_error: 2.3173\n",
            "Epoch 6/100\n",
            "303/303 [==============================] - 0s 414us/sample - loss: 1.6475 - mean_absolute_error: 1.6475 - val_loss: 2.2700 - val_mean_absolute_error: 2.2700\n",
            "Epoch 7/100\n",
            "303/303 [==============================] - 0s 398us/sample - loss: 1.6540 - mean_absolute_error: 1.6540 - val_loss: 2.4384 - val_mean_absolute_error: 2.4384\n",
            "Epoch 8/100\n",
            "303/303 [==============================] - 0s 415us/sample - loss: 1.6553 - mean_absolute_error: 1.6553 - val_loss: 2.3480 - val_mean_absolute_error: 2.3480\n",
            "Epoch 9/100\n",
            "303/303 [==============================] - 0s 398us/sample - loss: 1.6234 - mean_absolute_error: 1.6234 - val_loss: 2.2534 - val_mean_absolute_error: 2.2534\n",
            "Epoch 10/100\n",
            "303/303 [==============================] - 0s 389us/sample - loss: 1.6588 - mean_absolute_error: 1.6588 - val_loss: 2.3656 - val_mean_absolute_error: 2.3656\n",
            "Epoch 11/100\n",
            "303/303 [==============================] - 0s 434us/sample - loss: 1.6180 - mean_absolute_error: 1.6180 - val_loss: 2.1582 - val_mean_absolute_error: 2.1582\n",
            "Epoch 12/100\n",
            "303/303 [==============================] - 0s 386us/sample - loss: 1.6402 - mean_absolute_error: 1.6402 - val_loss: 2.2419 - val_mean_absolute_error: 2.2419\n",
            "Epoch 13/100\n",
            "303/303 [==============================] - 0s 370us/sample - loss: 1.6010 - mean_absolute_error: 1.6010 - val_loss: 2.2797 - val_mean_absolute_error: 2.2797\n",
            "Epoch 14/100\n",
            "303/303 [==============================] - 0s 467us/sample - loss: 1.6053 - mean_absolute_error: 1.6053 - val_loss: 2.3641 - val_mean_absolute_error: 2.3641\n",
            "Epoch 15/100\n",
            "303/303 [==============================] - 0s 380us/sample - loss: 1.6309 - mean_absolute_error: 1.6309 - val_loss: 2.2954 - val_mean_absolute_error: 2.2954\n",
            "Epoch 16/100\n",
            "303/303 [==============================] - 0s 386us/sample - loss: 1.6139 - mean_absolute_error: 1.6139 - val_loss: 2.2399 - val_mean_absolute_error: 2.2399\n",
            "Epoch 17/100\n",
            "303/303 [==============================] - 0s 382us/sample - loss: 1.5810 - mean_absolute_error: 1.5810 - val_loss: 2.1460 - val_mean_absolute_error: 2.1460\n",
            "Epoch 18/100\n",
            "303/303 [==============================] - 0s 379us/sample - loss: 1.6147 - mean_absolute_error: 1.6147 - val_loss: 2.2896 - val_mean_absolute_error: 2.2896\n",
            "Epoch 19/100\n",
            "303/303 [==============================] - 0s 328us/sample - loss: 1.6043 - mean_absolute_error: 1.6043 - val_loss: 2.2090 - val_mean_absolute_error: 2.2090\n",
            "Epoch 20/100\n",
            "303/303 [==============================] - 0s 378us/sample - loss: 1.5671 - mean_absolute_error: 1.5671 - val_loss: 2.2184 - val_mean_absolute_error: 2.2184\n",
            "Epoch 21/100\n",
            "303/303 [==============================] - 0s 373us/sample - loss: 1.5988 - mean_absolute_error: 1.5988 - val_loss: 2.3150 - val_mean_absolute_error: 2.3150\n",
            "Epoch 22/100\n",
            "303/303 [==============================] - 0s 381us/sample - loss: 1.5679 - mean_absolute_error: 1.5679 - val_loss: 2.2872 - val_mean_absolute_error: 2.2872\n",
            "Epoch 23/100\n",
            "303/303 [==============================] - 0s 417us/sample - loss: 1.5710 - mean_absolute_error: 1.5710 - val_loss: 2.2507 - val_mean_absolute_error: 2.2507\n",
            "Epoch 24/100\n",
            "303/303 [==============================] - 0s 381us/sample - loss: 1.5334 - mean_absolute_error: 1.5334 - val_loss: 2.1990 - val_mean_absolute_error: 2.1990\n",
            "Epoch 25/100\n",
            "303/303 [==============================] - 0s 396us/sample - loss: 1.5920 - mean_absolute_error: 1.5920 - val_loss: 2.1682 - val_mean_absolute_error: 2.1682\n",
            "Epoch 26/100\n",
            "303/303 [==============================] - 0s 384us/sample - loss: 1.5726 - mean_absolute_error: 1.5726 - val_loss: 2.2230 - val_mean_absolute_error: 2.2230\n",
            "Epoch 27/100\n",
            "303/303 [==============================] - 0s 342us/sample - loss: 1.5583 - mean_absolute_error: 1.5583 - val_loss: 2.2112 - val_mean_absolute_error: 2.2112\n",
            "Epoch 28/100\n",
            "303/303 [==============================] - 0s 329us/sample - loss: 1.5519 - mean_absolute_error: 1.5519 - val_loss: 2.3321 - val_mean_absolute_error: 2.3321\n",
            "Epoch 29/100\n",
            "303/303 [==============================] - 0s 416us/sample - loss: 1.5551 - mean_absolute_error: 1.5551 - val_loss: 2.2473 - val_mean_absolute_error: 2.2473\n",
            "Epoch 30/100\n",
            "303/303 [==============================] - 0s 352us/sample - loss: 1.5435 - mean_absolute_error: 1.5435 - val_loss: 2.1257 - val_mean_absolute_error: 2.1257\n",
            "Epoch 31/100\n",
            "303/303 [==============================] - 0s 333us/sample - loss: 1.5277 - mean_absolute_error: 1.5277 - val_loss: 2.2629 - val_mean_absolute_error: 2.2629\n",
            "Epoch 32/100\n",
            "303/303 [==============================] - 0s 337us/sample - loss: 1.5402 - mean_absolute_error: 1.5402 - val_loss: 2.3277 - val_mean_absolute_error: 2.3277\n",
            "Epoch 33/100\n",
            "303/303 [==============================] - 0s 340us/sample - loss: 1.5270 - mean_absolute_error: 1.5270 - val_loss: 2.1618 - val_mean_absolute_error: 2.1618\n",
            "Epoch 34/100\n",
            "303/303 [==============================] - 0s 332us/sample - loss: 1.5326 - mean_absolute_error: 1.5326 - val_loss: 2.2423 - val_mean_absolute_error: 2.2423\n",
            "Epoch 35/100\n",
            "303/303 [==============================] - 0s 350us/sample - loss: 1.5264 - mean_absolute_error: 1.5264 - val_loss: 2.2159 - val_mean_absolute_error: 2.2159\n",
            "Epoch 36/100\n",
            "303/303 [==============================] - 0s 328us/sample - loss: 1.5130 - mean_absolute_error: 1.5130 - val_loss: 2.2705 - val_mean_absolute_error: 2.2705\n",
            "Epoch 37/100\n",
            "303/303 [==============================] - 0s 323us/sample - loss: 1.5222 - mean_absolute_error: 1.5222 - val_loss: 2.2740 - val_mean_absolute_error: 2.2740\n",
            "Epoch 38/100\n",
            "303/303 [==============================] - 0s 343us/sample - loss: 1.5314 - mean_absolute_error: 1.5314 - val_loss: 2.2336 - val_mean_absolute_error: 2.2336\n",
            "Epoch 39/100\n",
            "303/303 [==============================] - 0s 341us/sample - loss: 1.5102 - mean_absolute_error: 1.5102 - val_loss: 2.2854 - val_mean_absolute_error: 2.2854\n",
            "Epoch 40/100\n",
            "303/303 [==============================] - 0s 370us/sample - loss: 1.5070 - mean_absolute_error: 1.5070 - val_loss: 2.2222 - val_mean_absolute_error: 2.2222\n",
            "Epoch 41/100\n",
            "303/303 [==============================] - 0s 395us/sample - loss: 1.5368 - mean_absolute_error: 1.5368 - val_loss: 2.2541 - val_mean_absolute_error: 2.2541\n",
            "Epoch 42/100\n",
            "303/303 [==============================] - 0s 366us/sample - loss: 1.4937 - mean_absolute_error: 1.4937 - val_loss: 2.2003 - val_mean_absolute_error: 2.2003\n",
            "Epoch 43/100\n",
            "303/303 [==============================] - 0s 372us/sample - loss: 1.4822 - mean_absolute_error: 1.4822 - val_loss: 2.2045 - val_mean_absolute_error: 2.2045\n",
            "Epoch 44/100\n",
            "303/303 [==============================] - 0s 358us/sample - loss: 1.4989 - mean_absolute_error: 1.4989 - val_loss: 2.1945 - val_mean_absolute_error: 2.1945\n",
            "Epoch 45/100\n",
            "303/303 [==============================] - 0s 404us/sample - loss: 1.4838 - mean_absolute_error: 1.4838 - val_loss: 2.1515 - val_mean_absolute_error: 2.1515\n",
            "Epoch 46/100\n",
            "303/303 [==============================] - 0s 403us/sample - loss: 1.4947 - mean_absolute_error: 1.4947 - val_loss: 2.1734 - val_mean_absolute_error: 2.1734\n",
            "Epoch 47/100\n",
            "303/303 [==============================] - 0s 459us/sample - loss: 1.4758 - mean_absolute_error: 1.4758 - val_loss: 2.2425 - val_mean_absolute_error: 2.2425\n",
            "Epoch 48/100\n",
            "303/303 [==============================] - 0s 482us/sample - loss: 1.4905 - mean_absolute_error: 1.4905 - val_loss: 2.1962 - val_mean_absolute_error: 2.1962\n",
            "Epoch 49/100\n",
            "303/303 [==============================] - 0s 359us/sample - loss: 1.4840 - mean_absolute_error: 1.4840 - val_loss: 2.3522 - val_mean_absolute_error: 2.3522\n",
            "Epoch 50/100\n",
            "303/303 [==============================] - 0s 359us/sample - loss: 1.5014 - mean_absolute_error: 1.5014 - val_loss: 2.2586 - val_mean_absolute_error: 2.2586\n",
            "Epoch 51/100\n",
            "303/303 [==============================] - 0s 324us/sample - loss: 1.4791 - mean_absolute_error: 1.4791 - val_loss: 2.2530 - val_mean_absolute_error: 2.2530\n",
            "Epoch 52/100\n",
            "303/303 [==============================] - 0s 348us/sample - loss: 1.4827 - mean_absolute_error: 1.4827 - val_loss: 2.1553 - val_mean_absolute_error: 2.1553\n",
            "Epoch 53/100\n",
            "303/303 [==============================] - 0s 331us/sample - loss: 1.4785 - mean_absolute_error: 1.4785 - val_loss: 2.1759 - val_mean_absolute_error: 2.1759\n",
            "Epoch 54/100\n",
            "303/303 [==============================] - 0s 381us/sample - loss: 1.4728 - mean_absolute_error: 1.4728 - val_loss: 2.1841 - val_mean_absolute_error: 2.1841\n",
            "Epoch 55/100\n",
            "303/303 [==============================] - 0s 427us/sample - loss: 1.4504 - mean_absolute_error: 1.4504 - val_loss: 2.1834 - val_mean_absolute_error: 2.1834\n",
            "Epoch 56/100\n",
            "303/303 [==============================] - 0s 451us/sample - loss: 1.4543 - mean_absolute_error: 1.4543 - val_loss: 2.2530 - val_mean_absolute_error: 2.2530\n",
            "Epoch 57/100\n",
            "303/303 [==============================] - 0s 444us/sample - loss: 1.4617 - mean_absolute_error: 1.4617 - val_loss: 2.2651 - val_mean_absolute_error: 2.2651\n",
            "Epoch 58/100\n",
            "303/303 [==============================] - 0s 437us/sample - loss: 1.4495 - mean_absolute_error: 1.4495 - val_loss: 2.1496 - val_mean_absolute_error: 2.1496\n",
            "Epoch 59/100\n",
            "303/303 [==============================] - 0s 409us/sample - loss: 1.4198 - mean_absolute_error: 1.4198 - val_loss: 2.1786 - val_mean_absolute_error: 2.1786\n",
            "Epoch 60/100\n",
            "303/303 [==============================] - 0s 391us/sample - loss: 1.4601 - mean_absolute_error: 1.4601 - val_loss: 2.2164 - val_mean_absolute_error: 2.2164\n",
            "Epoch 61/100\n",
            "303/303 [==============================] - 0s 426us/sample - loss: 1.4307 - mean_absolute_error: 1.4307 - val_loss: 2.1209 - val_mean_absolute_error: 2.1209\n",
            "Epoch 62/100\n",
            "303/303 [==============================] - 0s 425us/sample - loss: 1.4589 - mean_absolute_error: 1.4589 - val_loss: 2.1579 - val_mean_absolute_error: 2.1579\n",
            "Epoch 63/100\n",
            "303/303 [==============================] - 0s 409us/sample - loss: 1.4356 - mean_absolute_error: 1.4356 - val_loss: 2.2662 - val_mean_absolute_error: 2.2662\n",
            "Epoch 64/100\n",
            "303/303 [==============================] - 0s 362us/sample - loss: 1.4299 - mean_absolute_error: 1.4299 - val_loss: 2.2101 - val_mean_absolute_error: 2.2101\n",
            "Epoch 65/100\n",
            "303/303 [==============================] - 0s 416us/sample - loss: 1.4410 - mean_absolute_error: 1.4410 - val_loss: 2.1122 - val_mean_absolute_error: 2.1122\n",
            "Epoch 66/100\n",
            "303/303 [==============================] - 0s 410us/sample - loss: 1.4361 - mean_absolute_error: 1.4361 - val_loss: 2.1184 - val_mean_absolute_error: 2.1184\n",
            "Epoch 67/100\n",
            "303/303 [==============================] - 0s 386us/sample - loss: 1.4176 - mean_absolute_error: 1.4176 - val_loss: 2.1875 - val_mean_absolute_error: 2.1875\n",
            "Epoch 68/100\n",
            "303/303 [==============================] - 0s 433us/sample - loss: 1.4269 - mean_absolute_error: 1.4269 - val_loss: 2.0704 - val_mean_absolute_error: 2.0704\n",
            "Epoch 69/100\n",
            "303/303 [==============================] - 0s 381us/sample - loss: 1.4504 - mean_absolute_error: 1.4504 - val_loss: 2.1509 - val_mean_absolute_error: 2.1509\n",
            "Epoch 70/100\n",
            "303/303 [==============================] - 0s 376us/sample - loss: 1.4052 - mean_absolute_error: 1.4052 - val_loss: 2.1456 - val_mean_absolute_error: 2.1456\n",
            "Epoch 71/100\n",
            "303/303 [==============================] - 0s 389us/sample - loss: 1.4061 - mean_absolute_error: 1.4061 - val_loss: 2.0991 - val_mean_absolute_error: 2.0991\n",
            "Epoch 72/100\n",
            "303/303 [==============================] - 0s 404us/sample - loss: 1.4157 - mean_absolute_error: 1.4157 - val_loss: 2.2458 - val_mean_absolute_error: 2.2458\n",
            "Epoch 73/100\n",
            "303/303 [==============================] - 0s 375us/sample - loss: 1.4088 - mean_absolute_error: 1.4088 - val_loss: 2.1030 - val_mean_absolute_error: 2.1030\n",
            "Epoch 74/100\n",
            "303/303 [==============================] - 0s 388us/sample - loss: 1.4099 - mean_absolute_error: 1.4099 - val_loss: 2.1257 - val_mean_absolute_error: 2.1257\n",
            "Epoch 75/100\n",
            "303/303 [==============================] - 0s 367us/sample - loss: 1.4159 - mean_absolute_error: 1.4159 - val_loss: 2.1105 - val_mean_absolute_error: 2.1105\n",
            "Epoch 76/100\n",
            "303/303 [==============================] - 0s 364us/sample - loss: 1.4232 - mean_absolute_error: 1.4232 - val_loss: 2.1539 - val_mean_absolute_error: 2.1539\n",
            "Epoch 77/100\n",
            "303/303 [==============================] - 0s 325us/sample - loss: 1.4082 - mean_absolute_error: 1.4082 - val_loss: 2.0762 - val_mean_absolute_error: 2.0762\n",
            "Epoch 78/100\n",
            "303/303 [==============================] - 0s 436us/sample - loss: 1.4030 - mean_absolute_error: 1.4030 - val_loss: 2.1598 - val_mean_absolute_error: 2.1598\n",
            "Epoch 79/100\n",
            "303/303 [==============================] - 0s 330us/sample - loss: 1.3977 - mean_absolute_error: 1.3977 - val_loss: 2.1898 - val_mean_absolute_error: 2.1898\n",
            "Epoch 80/100\n",
            "303/303 [==============================] - 0s 325us/sample - loss: 1.3945 - mean_absolute_error: 1.3945 - val_loss: 2.0951 - val_mean_absolute_error: 2.0951\n",
            "Epoch 81/100\n",
            "303/303 [==============================] - 0s 405us/sample - loss: 1.3860 - mean_absolute_error: 1.3860 - val_loss: 2.1499 - val_mean_absolute_error: 2.1499\n",
            "Epoch 82/100\n",
            "303/303 [==============================] - 0s 395us/sample - loss: 1.3866 - mean_absolute_error: 1.3866 - val_loss: 2.0428 - val_mean_absolute_error: 2.0428\n",
            "Epoch 83/100\n",
            "303/303 [==============================] - 0s 361us/sample - loss: 1.3922 - mean_absolute_error: 1.3922 - val_loss: 2.0912 - val_mean_absolute_error: 2.0912\n",
            "Epoch 84/100\n",
            "303/303 [==============================] - 0s 345us/sample - loss: 1.4001 - mean_absolute_error: 1.4001 - val_loss: 2.0695 - val_mean_absolute_error: 2.0695\n",
            "Epoch 85/100\n",
            "303/303 [==============================] - 0s 380us/sample - loss: 1.3838 - mean_absolute_error: 1.3838 - val_loss: 2.2422 - val_mean_absolute_error: 2.2422\n",
            "Epoch 86/100\n",
            "303/303 [==============================] - 0s 327us/sample - loss: 1.3963 - mean_absolute_error: 1.3963 - val_loss: 2.0712 - val_mean_absolute_error: 2.0712\n",
            "Epoch 87/100\n",
            "303/303 [==============================] - 0s 331us/sample - loss: 1.3691 - mean_absolute_error: 1.3691 - val_loss: 2.0719 - val_mean_absolute_error: 2.0719\n",
            "Epoch 88/100\n",
            "303/303 [==============================] - 0s 389us/sample - loss: 1.4058 - mean_absolute_error: 1.4058 - val_loss: 2.1202 - val_mean_absolute_error: 2.1202\n",
            "Epoch 89/100\n",
            "303/303 [==============================] - 0s 385us/sample - loss: 1.3860 - mean_absolute_error: 1.3860 - val_loss: 2.2381 - val_mean_absolute_error: 2.2381\n",
            "Epoch 90/100\n",
            "303/303 [==============================] - 0s 429us/sample - loss: 1.3920 - mean_absolute_error: 1.3920 - val_loss: 2.1064 - val_mean_absolute_error: 2.1064\n",
            "Epoch 91/100\n",
            "303/303 [==============================] - 0s 422us/sample - loss: 1.3813 - mean_absolute_error: 1.3813 - val_loss: 2.1241 - val_mean_absolute_error: 2.1241\n",
            "Epoch 92/100\n",
            "303/303 [==============================] - 0s 392us/sample - loss: 1.3719 - mean_absolute_error: 1.3719 - val_loss: 2.1660 - val_mean_absolute_error: 2.1660\n",
            "Epoch 93/100\n",
            "303/303 [==============================] - 0s 371us/sample - loss: 1.3816 - mean_absolute_error: 1.3816 - val_loss: 2.1874 - val_mean_absolute_error: 2.1874\n",
            "Epoch 94/100\n",
            "303/303 [==============================] - 0s 319us/sample - loss: 1.3511 - mean_absolute_error: 1.3511 - val_loss: 2.0954 - val_mean_absolute_error: 2.0954\n",
            "Epoch 95/100\n",
            "303/303 [==============================] - 0s 341us/sample - loss: 1.3804 - mean_absolute_error: 1.3804 - val_loss: 2.0917 - val_mean_absolute_error: 2.0917\n",
            "Epoch 96/100\n",
            "303/303 [==============================] - 0s 401us/sample - loss: 1.3409 - mean_absolute_error: 1.3409 - val_loss: 2.1864 - val_mean_absolute_error: 2.1864\n",
            "Epoch 97/100\n",
            "303/303 [==============================] - 0s 395us/sample - loss: 1.3711 - mean_absolute_error: 1.3711 - val_loss: 2.0555 - val_mean_absolute_error: 2.0555\n",
            "Epoch 98/100\n",
            "303/303 [==============================] - 0s 382us/sample - loss: 1.3778 - mean_absolute_error: 1.3778 - val_loss: 2.1541 - val_mean_absolute_error: 2.1541\n",
            "Epoch 99/100\n",
            "303/303 [==============================] - 0s 396us/sample - loss: 1.3914 - mean_absolute_error: 1.3914 - val_loss: 2.1124 - val_mean_absolute_error: 2.1124\n",
            "Epoch 100/100\n",
            "303/303 [==============================] - 0s 390us/sample - loss: 1.3553 - mean_absolute_error: 1.3553 - val_loss: 2.0754 - val_mean_absolute_error: 2.0754\n"
          ],
          "name": "stdout"
        },
        {
          "output_type": "execute_result",
          "data": {
            "text/plain": [
              "RandomizedSearchCV(cv=2, error_score='raise-deprecating',\n",
              "                   estimator=<tensorflow.python.keras.wrappers.scikit_learn.KerasRegressor object at 0x7f5f9d541cc0>,\n",
              "                   iid='warn', n_iter=10, n_jobs=None,\n",
              "                   param_distributions={'batch_size': [8], 'epochs': [100]},\n",
              "                   pre_dispatch='2*n_jobs', random_state=None, refit=True,\n",
              "                   return_train_score=False, scoring=None, verbose=0)"
            ]
          },
          "metadata": {
            "tags": []
          },
          "execution_count": 39
        }
      ]
    },
    {
      "cell_type": "code",
      "metadata": {
        "id": "dSlUd0ZbmCgz",
        "colab_type": "code",
        "outputId": "755d8f10-90d1-46d2-8e46-79f00dc6510e",
        "colab": {
          "base_uri": "https://localhost:8080/",
          "height": 35
        }
      },
      "source": [
        "cv.best_params_"
      ],
      "execution_count": 0,
      "outputs": [
        {
          "output_type": "execute_result",
          "data": {
            "text/plain": [
              "{'batch_size': 8, 'epochs': 100}"
            ]
          },
          "metadata": {
            "tags": []
          },
          "execution_count": 40
        }
      ]
    },
    {
      "cell_type": "code",
      "metadata": {
        "id": "PuQpQtIrmHHo",
        "colab_type": "code",
        "outputId": "3ecab163-1149-46a4-a80f-b9d71512f6a3",
        "colab": {
          "base_uri": "https://localhost:8080/",
          "height": 35
        }
      },
      "source": [
        "\n",
        "\n",
        "cv.best_score_"
      ],
      "execution_count": 0,
      "outputs": [
        {
          "output_type": "execute_result",
          "data": {
            "text/plain": [
              "-2.276891835058483"
            ]
          },
          "metadata": {
            "tags": []
          },
          "execution_count": 41
        }
      ]
    },
    {
      "cell_type": "code",
      "metadata": {
        "id": "Rldz2a9w3LVp",
        "colab_type": "code",
        "colab": {}
      },
      "source": [
        "\n"
      ],
      "execution_count": 0,
      "outputs": []
    }
  ]
}