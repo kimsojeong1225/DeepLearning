{
  "nbformat": 4,
  "nbformat_minor": 0,
  "metadata": {
    "colab": {
      "name": "facenet.ipynb",
      "provenance": [],
      "mount_file_id": "1vtb_jRpH0jOmKSEIvfHPUuyZnKY4VRPr",
      "authorship_tag": "ABX9TyNTBu53Fnmux3W3qSuXxsj5",
      "include_colab_link": true
    },
    "kernelspec": {
      "name": "python3",
      "display_name": "Python 3"
    },
    "accelerator": "GPU"
  },
  "cells": [
    {
      "cell_type": "markdown",
      "metadata": {
        "id": "view-in-github",
        "colab_type": "text"
      },
      "source": [
        "<a href=\"https://colab.research.google.com/github/kimsojeong1225/DeepLearning/blob/master/facenet.ipynb\" target=\"_parent\"><img src=\"https://colab.research.google.com/assets/colab-badge.svg\" alt=\"Open In Colab\"/></a>"
      ]
    },
    {
      "cell_type": "code",
      "metadata": {
        "id": "tiSJE1Ol7Yq6",
        "colab_type": "code",
        "outputId": "2629e793-8d69-44dc-b64b-632544062d04",
        "colab": {
          "base_uri": "https://localhost:8080/",
          "height": 36
        }
      },
      "source": [
        "cd drive/My Drive"
      ],
      "execution_count": 0,
      "outputs": [
        {
          "output_type": "stream",
          "text": [
            "/content/drive/My Drive\n"
          ],
          "name": "stdout"
        }
      ]
    },
    {
      "cell_type": "code",
      "metadata": {
        "id": "dH-2j3wdDKxJ",
        "colab_type": "code",
        "outputId": "af5bc906-d358-43ea-88e2-cd85b64a246a",
        "colab": {
          "base_uri": "https://localhost:8080/",
          "height": 335
        }
      },
      "source": [
        "!nvidia-smi"
      ],
      "execution_count": 0,
      "outputs": [
        {
          "output_type": "stream",
          "text": [
            "Sat Feb 15 08:52:24 2020       \n",
            "+-----------------------------------------------------------------------------+\n",
            "| NVIDIA-SMI 440.48.02    Driver Version: 418.67       CUDA Version: 10.1     |\n",
            "|-------------------------------+----------------------+----------------------+\n",
            "| GPU  Name        Persistence-M| Bus-Id        Disp.A | Volatile Uncorr. ECC |\n",
            "| Fan  Temp  Perf  Pwr:Usage/Cap|         Memory-Usage | GPU-Util  Compute M. |\n",
            "|===============================+======================+======================|\n",
            "|   0  Tesla T4            Off  | 00000000:00:04.0 Off |                    0 |\n",
            "| N/A   64C    P8    11W /  70W |      0MiB / 15079MiB |      0%      Default |\n",
            "+-------------------------------+----------------------+----------------------+\n",
            "                                                                               \n",
            "+-----------------------------------------------------------------------------+\n",
            "| Processes:                                                       GPU Memory |\n",
            "|  GPU       PID   Type   Process name                             Usage      |\n",
            "|=============================================================================|\n",
            "|  No running processes found                                                 |\n",
            "+-----------------------------------------------------------------------------+\n"
          ],
          "name": "stdout"
        }
      ]
    },
    {
      "cell_type": "code",
      "metadata": {
        "id": "1EJkVNom3mkV",
        "colab_type": "code",
        "outputId": "e0a9213b-68cf-4460-a8ee-86fe235a2f30",
        "colab": {
          "base_uri": "https://localhost:8080/",
          "height": 65
        }
      },
      "source": [
        "import tensorflow\n",
        "import tensorflow.keras as Keras\n",
        "import numpy\n",
        "from numpy import asarray\n",
        "from tensorflow.keras import models, layers\n",
        "from tensorflow.keras import Input\n",
        "from tensorflow.keras.models import Model, load_model\n",
        "from tensorflow.keras.preprocessing.image import ImageDataGenerator\n",
        "from tensorflow.keras import optimizers, initializers, regularizers, metrics\n",
        "from tensorflow.python.keras.preprocessing import image\n",
        "from PIL import Image\n",
        "import cv2\n",
        "from tensorflow.keras.callbacks import ModelCheckpoint, EarlyStopping\n",
        "from tensorflow.keras.layers import BatchNormalization, Conv2D, Activation, Dense, GlobalAveragePooling2D, MaxPooling2D, ZeroPadding2D, Add"
      ],
      "execution_count": 0,
      "outputs": [
        {
          "output_type": "display_data",
          "data": {
            "text/html": [
              "<p style=\"color: red;\">\n",
              "The default version of TensorFlow in Colab will soon switch to TensorFlow 2.x.<br>\n",
              "We recommend you <a href=\"https://www.tensorflow.org/guide/migrate\" target=\"_blank\">upgrade</a> now \n",
              "or ensure your notebook will continue to use TensorFlow 1.x via the <code>%tensorflow_version 1.x</code> magic:\n",
              "<a href=\"https://colab.research.google.com/notebooks/tensorflow_version.ipynb\" target=\"_blank\">more info</a>.</p>\n"
            ],
            "text/plain": [
              "<IPython.core.display.HTML object>"
            ]
          },
          "metadata": {
            "tags": []
          }
        }
      ]
    },
    {
      "cell_type": "code",
      "metadata": {
        "id": "CGPngkVZsHU0",
        "colab_type": "code",
        "outputId": "64b31a37-3b19-4215-a8c4-778baf43fc86",
        "colab": {
          "base_uri": "https://localhost:8080/",
          "height": 149
        }
      },
      "source": [
        "from tensorflow.keras.models import load_model\n",
        "# load the model\n",
        "model = load_model('facenet_keras.h5')\n",
        "# summarize input and output shape\n",
        "print(model.inputs)\n",
        "print(model.outputs)"
      ],
      "execution_count": 0,
      "outputs": [
        {
          "output_type": "stream",
          "text": [
            "WARNING:tensorflow:From /usr/local/lib/python3.6/dist-packages/tensorflow_core/python/ops/resource_variable_ops.py:1630: calling BaseResourceVariable.__init__ (from tensorflow.python.ops.resource_variable_ops) with constraint is deprecated and will be removed in a future version.\n",
            "Instructions for updating:\n",
            "If using Keras pass *_constraint arguments to layers.\n",
            "WARNING:tensorflow:No training configuration found in save file: the model was *not* compiled. Compile it manually.\n",
            "[<tf.Tensor 'input_1:0' shape=(?, 160, 160, 3) dtype=float32>]\n",
            "[<tf.Tensor 'Bottleneck_BatchNorm/batchnorm/add_1:0' shape=(?, 128) dtype=float32>]\n"
          ],
          "name": "stdout"
        }
      ]
    },
    {
      "cell_type": "code",
      "metadata": {
        "id": "CUY2LDc38df0",
        "colab_type": "code",
        "outputId": "2bedf003-ec70-4f53-9df4-2e732bbd941c",
        "colab": {
          "base_uri": "https://localhost:8080/",
          "height": 279
        }
      },
      "source": [
        "pip install mtcnn"
      ],
      "execution_count": 0,
      "outputs": [
        {
          "output_type": "stream",
          "text": [
            "Collecting mtcnn\n",
            "\u001b[?25l  Downloading https://files.pythonhosted.org/packages/67/43/abee91792797c609c1bf30f1112117f7a87a713ebaa6ec5201d5555a73ef/mtcnn-0.1.0-py3-none-any.whl (2.3MB)\n",
            "\r\u001b[K     |▏                               | 10kB 33.6MB/s eta 0:00:01\r\u001b[K     |▎                               | 20kB 5.8MB/s eta 0:00:01\r\u001b[K     |▍                               | 30kB 8.3MB/s eta 0:00:01\r\u001b[K     |▋                               | 40kB 5.4MB/s eta 0:00:01\r\u001b[K     |▊                               | 51kB 6.6MB/s eta 0:00:01\r\u001b[K     |▉                               | 61kB 7.8MB/s eta 0:00:01\r\u001b[K     |█                               | 71kB 9.0MB/s eta 0:00:01\r\u001b[K     |█▏                              | 81kB 10.1MB/s eta 0:00:01\r\u001b[K     |█▎                              | 92kB 11.2MB/s eta 0:00:01\r\u001b[K     |█▌                              | 102kB 8.7MB/s eta 0:00:01\r\u001b[K     |█▋                              | 112kB 8.7MB/s eta 0:00:01\r\u001b[K     |█▊                              | 122kB 8.7MB/s eta 0:00:01\r\u001b[K     |█▉                              | 133kB 8.7MB/s eta 0:00:01\r\u001b[K     |██                              | 143kB 8.7MB/s eta 0:00:01\r\u001b[K     |██▏                             | 153kB 8.7MB/s eta 0:00:01\r\u001b[K     |██▎                             | 163kB 8.7MB/s eta 0:00:01\r\u001b[K     |██▌                             | 174kB 8.7MB/s eta 0:00:01\r\u001b[K     |██▋                             | 184kB 8.7MB/s eta 0:00:01\r\u001b[K     |██▊                             | 194kB 8.7MB/s eta 0:00:01\r\u001b[K     |███                             | 204kB 8.7MB/s eta 0:00:01\r\u001b[K     |███                             | 215kB 8.7MB/s eta 0:00:01\r\u001b[K     |███▏                            | 225kB 8.7MB/s eta 0:00:01\r\u001b[K     |███▍                            | 235kB 8.7MB/s eta 0:00:01\r\u001b[K     |███▌                            | 245kB 8.7MB/s eta 0:00:01\r\u001b[K     |███▋                            | 256kB 8.7MB/s eta 0:00:01\r\u001b[K     |███▊                            | 266kB 8.7MB/s eta 0:00:01\r\u001b[K     |████                            | 276kB 8.7MB/s eta 0:00:01\r\u001b[K     |████                            | 286kB 8.7MB/s eta 0:00:01\r\u001b[K     |████▏                           | 296kB 8.7MB/s eta 0:00:01\r\u001b[K     |████▍                           | 307kB 8.7MB/s eta 0:00:01\r\u001b[K     |████▌                           | 317kB 8.7MB/s eta 0:00:01\r\u001b[K     |████▋                           | 327kB 8.7MB/s eta 0:00:01\r\u001b[K     |████▉                           | 337kB 8.7MB/s eta 0:00:01\r\u001b[K     |█████                           | 348kB 8.7MB/s eta 0:00:01\r\u001b[K     |█████                           | 358kB 8.7MB/s eta 0:00:01\r\u001b[K     |█████▏                          | 368kB 8.7MB/s eta 0:00:01\r\u001b[K     |█████▍                          | 378kB 8.7MB/s eta 0:00:01\r\u001b[K     |█████▌                          | 389kB 8.7MB/s eta 0:00:01\r\u001b[K     |█████▋                          | 399kB 8.7MB/s eta 0:00:01\r\u001b[K     |█████▉                          | 409kB 8.7MB/s eta 0:00:01\r\u001b[K     |██████                          | 419kB 8.7MB/s eta 0:00:01\r\u001b[K     |██████                          | 430kB 8.7MB/s eta 0:00:01\r\u001b[K     |██████▎                         | 440kB 8.7MB/s eta 0:00:01\r\u001b[K     |██████▍                         | 450kB 8.7MB/s eta 0:00:01\r\u001b[K     |██████▌                         | 460kB 8.7MB/s eta 0:00:01\r\u001b[K     |██████▊                         | 471kB 8.7MB/s eta 0:00:01\r\u001b[K     |██████▉                         | 481kB 8.7MB/s eta 0:00:01\r\u001b[K     |███████                         | 491kB 8.7MB/s eta 0:00:01\r\u001b[K     |███████                         | 501kB 8.7MB/s eta 0:00:01\r\u001b[K     |███████▎                        | 512kB 8.7MB/s eta 0:00:01\r\u001b[K     |███████▍                        | 522kB 8.7MB/s eta 0:00:01\r\u001b[K     |███████▌                        | 532kB 8.7MB/s eta 0:00:01\r\u001b[K     |███████▊                        | 542kB 8.7MB/s eta 0:00:01\r\u001b[K     |███████▉                        | 552kB 8.7MB/s eta 0:00:01\r\u001b[K     |████████                        | 563kB 8.7MB/s eta 0:00:01\r\u001b[K     |████████▏                       | 573kB 8.7MB/s eta 0:00:01\r\u001b[K     |████████▎                       | 583kB 8.7MB/s eta 0:00:01\r\u001b[K     |████████▍                       | 593kB 8.7MB/s eta 0:00:01\r\u001b[K     |████████▌                       | 604kB 8.7MB/s eta 0:00:01\r\u001b[K     |████████▊                       | 614kB 8.7MB/s eta 0:00:01\r\u001b[K     |████████▉                       | 624kB 8.7MB/s eta 0:00:01\r\u001b[K     |█████████                       | 634kB 8.7MB/s eta 0:00:01\r\u001b[K     |█████████▏                      | 645kB 8.7MB/s eta 0:00:01\r\u001b[K     |█████████▎                      | 655kB 8.7MB/s eta 0:00:01\r\u001b[K     |█████████▍                      | 665kB 8.7MB/s eta 0:00:01\r\u001b[K     |█████████▋                      | 675kB 8.7MB/s eta 0:00:01\r\u001b[K     |█████████▊                      | 686kB 8.7MB/s eta 0:00:01\r\u001b[K     |█████████▉                      | 696kB 8.7MB/s eta 0:00:01\r\u001b[K     |██████████                      | 706kB 8.7MB/s eta 0:00:01\r\u001b[K     |██████████▏                     | 716kB 8.7MB/s eta 0:00:01\r\u001b[K     |██████████▎                     | 727kB 8.7MB/s eta 0:00:01\r\u001b[K     |██████████▍                     | 737kB 8.7MB/s eta 0:00:01\r\u001b[K     |██████████▋                     | 747kB 8.7MB/s eta 0:00:01\r\u001b[K     |██████████▊                     | 757kB 8.7MB/s eta 0:00:01\r\u001b[K     |██████████▉                     | 768kB 8.7MB/s eta 0:00:01\r\u001b[K     |███████████                     | 778kB 8.7MB/s eta 0:00:01\r\u001b[K     |███████████▏                    | 788kB 8.7MB/s eta 0:00:01\r\u001b[K     |███████████▎                    | 798kB 8.7MB/s eta 0:00:01\r\u001b[K     |███████████▌                    | 808kB 8.7MB/s eta 0:00:01\r\u001b[K     |███████████▋                    | 819kB 8.7MB/s eta 0:00:01\r\u001b[K     |███████████▊                    | 829kB 8.7MB/s eta 0:00:01\r\u001b[K     |███████████▉                    | 839kB 8.7MB/s eta 0:00:01\r\u001b[K     |████████████                    | 849kB 8.7MB/s eta 0:00:01\r\u001b[K     |████████████▏                   | 860kB 8.7MB/s eta 0:00:01\r\u001b[K     |████████████▎                   | 870kB 8.7MB/s eta 0:00:01\r\u001b[K     |████████████▌                   | 880kB 8.7MB/s eta 0:00:01\r\u001b[K     |████████████▋                   | 890kB 8.7MB/s eta 0:00:01\r\u001b[K     |████████████▊                   | 901kB 8.7MB/s eta 0:00:01\r\u001b[K     |█████████████                   | 911kB 8.7MB/s eta 0:00:01\r\u001b[K     |█████████████                   | 921kB 8.7MB/s eta 0:00:01\r\u001b[K     |█████████████▏                  | 931kB 8.7MB/s eta 0:00:01\r\u001b[K     |█████████████▍                  | 942kB 8.7MB/s eta 0:00:01\r\u001b[K     |█████████████▌                  | 952kB 8.7MB/s eta 0:00:01\r\u001b[K     |█████████████▋                  | 962kB 8.7MB/s eta 0:00:01\r\u001b[K     |█████████████▊                  | 972kB 8.7MB/s eta 0:00:01\r\u001b[K     |██████████████                  | 983kB 8.7MB/s eta 0:00:01\r\u001b[K     |██████████████                  | 993kB 8.7MB/s eta 0:00:01\r\u001b[K     |██████████████▏                 | 1.0MB 8.7MB/s eta 0:00:01\r\u001b[K     |██████████████▍                 | 1.0MB 8.7MB/s eta 0:00:01\r\u001b[K     |██████████████▌                 | 1.0MB 8.7MB/s eta 0:00:01\r\u001b[K     |██████████████▋                 | 1.0MB 8.7MB/s eta 0:00:01\r\u001b[K     |██████████████▉                 | 1.0MB 8.7MB/s eta 0:00:01\r\u001b[K     |███████████████                 | 1.1MB 8.7MB/s eta 0:00:01\r\u001b[K     |███████████████                 | 1.1MB 8.7MB/s eta 0:00:01\r\u001b[K     |███████████████▏                | 1.1MB 8.7MB/s eta 0:00:01\r\u001b[K     |███████████████▍                | 1.1MB 8.7MB/s eta 0:00:01\r\u001b[K     |███████████████▌                | 1.1MB 8.7MB/s eta 0:00:01\r\u001b[K     |███████████████▋                | 1.1MB 8.7MB/s eta 0:00:01\r\u001b[K     |███████████████▉                | 1.1MB 8.7MB/s eta 0:00:01\r\u001b[K     |████████████████                | 1.1MB 8.7MB/s eta 0:00:01\r\u001b[K     |████████████████                | 1.1MB 8.7MB/s eta 0:00:01\r\u001b[K     |████████████████▎               | 1.1MB 8.7MB/s eta 0:00:01\r\u001b[K     |████████████████▍               | 1.2MB 8.7MB/s eta 0:00:01\r\u001b[K     |████████████████▌               | 1.2MB 8.7MB/s eta 0:00:01\r\u001b[K     |████████████████▊               | 1.2MB 8.7MB/s eta 0:00:01\r\u001b[K     |████████████████▉               | 1.2MB 8.7MB/s eta 0:00:01\r\u001b[K     |█████████████████               | 1.2MB 8.7MB/s eta 0:00:01\r\u001b[K     |█████████████████               | 1.2MB 8.7MB/s eta 0:00:01\r\u001b[K     |█████████████████▎              | 1.2MB 8.7MB/s eta 0:00:01\r\u001b[K     |█████████████████▍              | 1.2MB 8.7MB/s eta 0:00:01\r\u001b[K     |█████████████████▌              | 1.2MB 8.7MB/s eta 0:00:01\r\u001b[K     |█████████████████▊              | 1.2MB 8.7MB/s eta 0:00:01\r\u001b[K     |█████████████████▉              | 1.3MB 8.7MB/s eta 0:00:01\r\u001b[K     |██████████████████              | 1.3MB 8.7MB/s eta 0:00:01\r\u001b[K     |██████████████████▏             | 1.3MB 8.7MB/s eta 0:00:01\r\u001b[K     |██████████████████▎             | 1.3MB 8.7MB/s eta 0:00:01\r\u001b[K     |██████████████████▍             | 1.3MB 8.7MB/s eta 0:00:01\r\u001b[K     |██████████████████▋             | 1.3MB 8.7MB/s eta 0:00:01\r\u001b[K     |██████████████████▊             | 1.3MB 8.7MB/s eta 0:00:01\r\u001b[K     |██████████████████▉             | 1.3MB 8.7MB/s eta 0:00:01\r\u001b[K     |███████████████████             | 1.3MB 8.7MB/s eta 0:00:01\r\u001b[K     |███████████████████▏            | 1.4MB 8.7MB/s eta 0:00:01\r\u001b[K     |███████████████████▎            | 1.4MB 8.7MB/s eta 0:00:01\r\u001b[K     |███████████████████▍            | 1.4MB 8.7MB/s eta 0:00:01\r\u001b[K     |███████████████████▋            | 1.4MB 8.7MB/s eta 0:00:01\r\u001b[K     |███████████████████▊            | 1.4MB 8.7MB/s eta 0:00:01\r\u001b[K     |███████████████████▉            | 1.4MB 8.7MB/s eta 0:00:01\r\u001b[K     |████████████████████            | 1.4MB 8.7MB/s eta 0:00:01\r\u001b[K     |████████████████████▏           | 1.4MB 8.7MB/s eta 0:00:01\r\u001b[K     |████████████████████▎           | 1.4MB 8.7MB/s eta 0:00:01\r\u001b[K     |████████████████████▍           | 1.4MB 8.7MB/s eta 0:00:01\r\u001b[K     |████████████████████▋           | 1.5MB 8.7MB/s eta 0:00:01\r\u001b[K     |████████████████████▊           | 1.5MB 8.7MB/s eta 0:00:01\r\u001b[K     |████████████████████▉           | 1.5MB 8.7MB/s eta 0:00:01\r\u001b[K     |█████████████████████           | 1.5MB 8.7MB/s eta 0:00:01\r\u001b[K     |█████████████████████▏          | 1.5MB 8.7MB/s eta 0:00:01\r\u001b[K     |█████████████████████▎          | 1.5MB 8.7MB/s eta 0:00:01\r\u001b[K     |█████████████████████▌          | 1.5MB 8.7MB/s eta 0:00:01\r\u001b[K     |█████████████████████▋          | 1.5MB 8.7MB/s eta 0:00:01\r\u001b[K     |█████████████████████▊          | 1.5MB 8.7MB/s eta 0:00:01\r\u001b[K     |██████████████████████          | 1.5MB 8.7MB/s eta 0:00:01\r\u001b[K     |██████████████████████          | 1.6MB 8.7MB/s eta 0:00:01\r\u001b[K     |██████████████████████▏         | 1.6MB 8.7MB/s eta 0:00:01\r\u001b[K     |██████████████████████▎         | 1.6MB 8.7MB/s eta 0:00:01\r\u001b[K     |██████████████████████▌         | 1.6MB 8.7MB/s eta 0:00:01\r\u001b[K     |██████████████████████▋         | 1.6MB 8.7MB/s eta 0:00:01\r\u001b[K     |██████████████████████▊         | 1.6MB 8.7MB/s eta 0:00:01\r\u001b[K     |███████████████████████         | 1.6MB 8.7MB/s eta 0:00:01\r\u001b[K     |███████████████████████         | 1.6MB 8.7MB/s eta 0:00:01\r\u001b[K     |███████████████████████▏        | 1.6MB 8.7MB/s eta 0:00:01\r\u001b[K     |███████████████████████▍        | 1.6MB 8.7MB/s eta 0:00:01\r\u001b[K     |███████████████████████▌        | 1.7MB 8.7MB/s eta 0:00:01\r\u001b[K     |███████████████████████▋        | 1.7MB 8.7MB/s eta 0:00:01\r\u001b[K     |███████████████████████▊        | 1.7MB 8.7MB/s eta 0:00:01\r\u001b[K     |████████████████████████        | 1.7MB 8.7MB/s eta 0:00:01\r\u001b[K     |████████████████████████        | 1.7MB 8.7MB/s eta 0:00:01\r\u001b[K     |████████████████████████▏       | 1.7MB 8.7MB/s eta 0:00:01\r\u001b[K     |████████████████████████▍       | 1.7MB 8.7MB/s eta 0:00:01\r\u001b[K     |████████████████████████▌       | 1.7MB 8.7MB/s eta 0:00:01\r\u001b[K     |████████████████████████▋       | 1.7MB 8.7MB/s eta 0:00:01\r\u001b[K     |████████████████████████▉       | 1.8MB 8.7MB/s eta 0:00:01\r\u001b[K     |█████████████████████████       | 1.8MB 8.7MB/s eta 0:00:01\r\u001b[K     |█████████████████████████       | 1.8MB 8.7MB/s eta 0:00:01\r\u001b[K     |█████████████████████████▎      | 1.8MB 8.7MB/s eta 0:00:01\r\u001b[K     |█████████████████████████▍      | 1.8MB 8.7MB/s eta 0:00:01\r\u001b[K     |█████████████████████████▌      | 1.8MB 8.7MB/s eta 0:00:01\r\u001b[K     |█████████████████████████▋      | 1.8MB 8.7MB/s eta 0:00:01\r\u001b[K     |█████████████████████████▉      | 1.8MB 8.7MB/s eta 0:00:01\r\u001b[K     |██████████████████████████      | 1.8MB 8.7MB/s eta 0:00:01\r\u001b[K     |██████████████████████████      | 1.8MB 8.7MB/s eta 0:00:01\r\u001b[K     |██████████████████████████▎     | 1.9MB 8.7MB/s eta 0:00:01\r\u001b[K     |██████████████████████████▍     | 1.9MB 8.7MB/s eta 0:00:01\r\u001b[K     |██████████████████████████▌     | 1.9MB 8.7MB/s eta 0:00:01\r\u001b[K     |██████████████████████████▊     | 1.9MB 8.7MB/s eta 0:00:01\r\u001b[K     |██████████████████████████▉     | 1.9MB 8.7MB/s eta 0:00:01\r\u001b[K     |███████████████████████████     | 1.9MB 8.7MB/s eta 0:00:01\r\u001b[K     |███████████████████████████     | 1.9MB 8.7MB/s eta 0:00:01\r\u001b[K     |███████████████████████████▎    | 1.9MB 8.7MB/s eta 0:00:01\r\u001b[K     |███████████████████████████▍    | 1.9MB 8.7MB/s eta 0:00:01\r\u001b[K     |███████████████████████████▌    | 1.9MB 8.7MB/s eta 0:00:01\r\u001b[K     |███████████████████████████▊    | 2.0MB 8.7MB/s eta 0:00:01\r\u001b[K     |███████████████████████████▉    | 2.0MB 8.7MB/s eta 0:00:01\r\u001b[K     |████████████████████████████    | 2.0MB 8.7MB/s eta 0:00:01\r\u001b[K     |████████████████████████████▏   | 2.0MB 8.7MB/s eta 0:00:01\r\u001b[K     |████████████████████████████▎   | 2.0MB 8.7MB/s eta 0:00:01\r\u001b[K     |████████████████████████████▍   | 2.0MB 8.7MB/s eta 0:00:01\r\u001b[K     |████████████████████████████▋   | 2.0MB 8.7MB/s eta 0:00:01\r\u001b[K     |████████████████████████████▊   | 2.0MB 8.7MB/s eta 0:00:01\r\u001b[K     |████████████████████████████▉   | 2.0MB 8.7MB/s eta 0:00:01\r\u001b[K     |█████████████████████████████   | 2.0MB 8.7MB/s eta 0:00:01\r\u001b[K     |█████████████████████████████▏  | 2.1MB 8.7MB/s eta 0:00:01\r\u001b[K     |█████████████████████████████▎  | 2.1MB 8.7MB/s eta 0:00:01\r\u001b[K     |█████████████████████████████▍  | 2.1MB 8.7MB/s eta 0:00:01\r\u001b[K     |█████████████████████████████▋  | 2.1MB 8.7MB/s eta 0:00:01\r\u001b[K     |█████████████████████████████▊  | 2.1MB 8.7MB/s eta 0:00:01\r\u001b[K     |█████████████████████████████▉  | 2.1MB 8.7MB/s eta 0:00:01\r\u001b[K     |██████████████████████████████  | 2.1MB 8.7MB/s eta 0:00:01\r\u001b[K     |██████████████████████████████▏ | 2.1MB 8.7MB/s eta 0:00:01\r\u001b[K     |██████████████████████████████▎ | 2.1MB 8.7MB/s eta 0:00:01\r\u001b[K     |██████████████████████████████▍ | 2.2MB 8.7MB/s eta 0:00:01\r\u001b[K     |██████████████████████████████▋ | 2.2MB 8.7MB/s eta 0:00:01\r\u001b[K     |██████████████████████████████▊ | 2.2MB 8.7MB/s eta 0:00:01\r\u001b[K     |██████████████████████████████▉ | 2.2MB 8.7MB/s eta 0:00:01\r\u001b[K     |███████████████████████████████ | 2.2MB 8.7MB/s eta 0:00:01\r\u001b[K     |███████████████████████████████▏| 2.2MB 8.7MB/s eta 0:00:01\r\u001b[K     |███████████████████████████████▎| 2.2MB 8.7MB/s eta 0:00:01\r\u001b[K     |███████████████████████████████▌| 2.2MB 8.7MB/s eta 0:00:01\r\u001b[K     |███████████████████████████████▋| 2.2MB 8.7MB/s eta 0:00:01\r\u001b[K     |███████████████████████████████▊| 2.2MB 8.7MB/s eta 0:00:01\r\u001b[K     |████████████████████████████████| 2.3MB 8.7MB/s eta 0:00:01\r\u001b[K     |████████████████████████████████| 2.3MB 8.7MB/s \n",
            "\u001b[?25hRequirement already satisfied: opencv-python>=4.1.0 in /usr/local/lib/python3.6/dist-packages (from mtcnn) (4.1.2.30)\n",
            "Requirement already satisfied: keras>=2.0.0 in /usr/local/lib/python3.6/dist-packages (from mtcnn) (2.2.5)\n",
            "Requirement already satisfied: numpy>=1.11.3 in /usr/local/lib/python3.6/dist-packages (from opencv-python>=4.1.0->mtcnn) (1.17.5)\n",
            "Requirement already satisfied: keras-preprocessing>=1.1.0 in /usr/local/lib/python3.6/dist-packages (from keras>=2.0.0->mtcnn) (1.1.0)\n",
            "Requirement already satisfied: six>=1.9.0 in /usr/local/lib/python3.6/dist-packages (from keras>=2.0.0->mtcnn) (1.12.0)\n",
            "Requirement already satisfied: h5py in /usr/local/lib/python3.6/dist-packages (from keras>=2.0.0->mtcnn) (2.8.0)\n",
            "Requirement already satisfied: scipy>=0.14 in /usr/local/lib/python3.6/dist-packages (from keras>=2.0.0->mtcnn) (1.4.1)\n",
            "Requirement already satisfied: keras-applications>=1.0.8 in /usr/local/lib/python3.6/dist-packages (from keras>=2.0.0->mtcnn) (1.0.8)\n",
            "Requirement already satisfied: pyyaml in /usr/local/lib/python3.6/dist-packages (from keras>=2.0.0->mtcnn) (3.13)\n",
            "Installing collected packages: mtcnn\n",
            "Successfully installed mtcnn-0.1.0\n"
          ],
          "name": "stdout"
        }
      ]
    },
    {
      "cell_type": "code",
      "metadata": {
        "id": "gnrQAr508qx9",
        "colab_type": "code",
        "outputId": "30817463-694c-4a5e-c840-b380f91f53a4",
        "colab": {
          "base_uri": "https://localhost:8080/",
          "height": 55
        }
      },
      "source": [
        "from mtcnn import MTCNN\n",
        "import mtcnn\n",
        "print(mtcnn.__version__)"
      ],
      "execution_count": 0,
      "outputs": [
        {
          "output_type": "stream",
          "text": [
            "0.1.0\n"
          ],
          "name": "stdout"
        },
        {
          "output_type": "stream",
          "text": [
            "Using TensorFlow backend.\n"
          ],
          "name": "stderr"
        }
      ]
    },
    {
      "cell_type": "code",
      "metadata": {
        "id": "zFi9BwPNEGmW",
        "colab_type": "code",
        "outputId": "6eb4b3dc-cd89-402b-db22-d6417ff3c64f",
        "colab": {
          "base_uri": "https://localhost:8080/",
          "height": 336
        }
      },
      "source": [
        "pip install face_recognition"
      ],
      "execution_count": 0,
      "outputs": [
        {
          "output_type": "stream",
          "text": [
            "Collecting face_recognition\n",
            "  Downloading https://files.pythonhosted.org/packages/3f/ed/ad9a28042f373d4633fc8b49109b623597d6f193d3bbbef7780a5ee8eef2/face_recognition-1.2.3-py2.py3-none-any.whl\n",
            "Collecting face-recognition-models>=0.3.0\n",
            "\u001b[?25l  Downloading https://files.pythonhosted.org/packages/cf/3b/4fd8c534f6c0d1b80ce0973d01331525538045084c73c153ee6df20224cf/face_recognition_models-0.3.0.tar.gz (100.1MB)\n",
            "\u001b[K     |████████████████████████████████| 100.2MB 104kB/s \n",
            "\u001b[?25hRequirement already satisfied: numpy in /usr/local/lib/python3.6/dist-packages (from face_recognition) (1.17.5)\n",
            "Requirement already satisfied: dlib>=19.7 in /usr/local/lib/python3.6/dist-packages (from face_recognition) (19.18.0)\n",
            "Requirement already satisfied: Pillow in /usr/local/lib/python3.6/dist-packages (from face_recognition) (6.2.2)\n",
            "Requirement already satisfied: Click>=6.0 in /usr/local/lib/python3.6/dist-packages (from face_recognition) (7.0)\n",
            "Building wheels for collected packages: face-recognition-models\n",
            "  Building wheel for face-recognition-models (setup.py) ... \u001b[?25l\u001b[?25hdone\n",
            "  Created wheel for face-recognition-models: filename=face_recognition_models-0.3.0-py2.py3-none-any.whl size=100566172 sha256=0672c6fb07fde7f47940e3b2ce8912442174330948c71c3589aad08b8ccc860b\n",
            "  Stored in directory: /root/.cache/pip/wheels/d2/99/18/59c6c8f01e39810415c0e63f5bede7d83dfb0ffc039865465f\n",
            "Successfully built face-recognition-models\n",
            "Installing collected packages: face-recognition-models, face-recognition\n",
            "Successfully installed face-recognition-1.2.3 face-recognition-models-0.3.0\n"
          ],
          "name": "stdout"
        }
      ]
    },
    {
      "cell_type": "code",
      "metadata": {
        "id": "0pD1AYuY8z7a",
        "colab_type": "code",
        "colab": {}
      },
      "source": [
        "filename='캡처.PNG'\n",
        "# load image from file\n",
        "image = Image.open(filename)\n",
        "# convert to RGB, if needed\n",
        "image = image.convert('RGB')\n",
        "# convert to array\n",
        "pixels = asarray(image)"
      ],
      "execution_count": 0,
      "outputs": []
    },
    {
      "cell_type": "code",
      "metadata": {
        "id": "pidR7Jc997s8",
        "colab_type": "code",
        "outputId": "3bce669e-e00a-454c-87b6-056a53559b5c",
        "colab": {
          "base_uri": "https://localhost:8080/",
          "height": 411
        }
      },
      "source": [
        "# create the detector, using default weights\n",
        "detector = MTCNN()\n",
        "# detect faces in the image\n",
        "results = detector.detect_faces(pixels)"
      ],
      "execution_count": 0,
      "outputs": [
        {
          "output_type": "stream",
          "text": [
            "WARNING:tensorflow:From /usr/local/lib/python3.6/dist-packages/keras/backend/tensorflow_backend.py:66: The name tf.get_default_graph is deprecated. Please use tf.compat.v1.get_default_graph instead.\n",
            "\n",
            "WARNING:tensorflow:From /usr/local/lib/python3.6/dist-packages/keras/backend/tensorflow_backend.py:541: The name tf.placeholder is deprecated. Please use tf.compat.v1.placeholder instead.\n",
            "\n",
            "WARNING:tensorflow:From /usr/local/lib/python3.6/dist-packages/keras/backend/tensorflow_backend.py:4432: The name tf.random_uniform is deprecated. Please use tf.random.uniform instead.\n",
            "\n",
            "WARNING:tensorflow:From /usr/local/lib/python3.6/dist-packages/keras/backend/tensorflow_backend.py:4267: The name tf.nn.max_pool is deprecated. Please use tf.nn.max_pool2d instead.\n",
            "\n",
            "WARNING:tensorflow:From /usr/local/lib/python3.6/dist-packages/keras/backend/tensorflow_backend.py:190: The name tf.get_default_session is deprecated. Please use tf.compat.v1.get_default_session instead.\n",
            "\n",
            "WARNING:tensorflow:From /usr/local/lib/python3.6/dist-packages/keras/backend/tensorflow_backend.py:197: The name tf.ConfigProto is deprecated. Please use tf.compat.v1.ConfigProto instead.\n",
            "\n",
            "WARNING:tensorflow:From /usr/local/lib/python3.6/dist-packages/keras/backend/tensorflow_backend.py:203: The name tf.Session is deprecated. Please use tf.compat.v1.Session instead.\n",
            "\n",
            "WARNING:tensorflow:From /usr/local/lib/python3.6/dist-packages/keras/backend/tensorflow_backend.py:207: The name tf.global_variables is deprecated. Please use tf.compat.v1.global_variables instead.\n",
            "\n",
            "WARNING:tensorflow:From /usr/local/lib/python3.6/dist-packages/keras/backend/tensorflow_backend.py:216: The name tf.is_variable_initialized is deprecated. Please use tf.compat.v1.is_variable_initialized instead.\n",
            "\n",
            "WARNING:tensorflow:From /usr/local/lib/python3.6/dist-packages/keras/backend/tensorflow_backend.py:223: The name tf.variables_initializer is deprecated. Please use tf.compat.v1.variables_initializer instead.\n",
            "\n"
          ],
          "name": "stdout"
        }
      ]
    },
    {
      "cell_type": "code",
      "metadata": {
        "id": "bE7EhDipG611",
        "colab_type": "code",
        "outputId": "6f326991-295a-4d8a-d8b6-895948053b83",
        "colab": {
          "base_uri": "https://localhost:8080/",
          "height": 148
        }
      },
      "source": [
        "results"
      ],
      "execution_count": 0,
      "outputs": [
        {
          "output_type": "execute_result",
          "data": {
            "text/plain": [
              "[{'box': [179, 58, 246, 335],\n",
              "  'confidence': 0.9995372295379639,\n",
              "  'keypoints': {'left_eye': (244, 198),\n",
              "   'mouth_left': (280, 326),\n",
              "   'mouth_right': (364, 314),\n",
              "   'nose': (311, 256),\n",
              "   'right_eye': (354, 181)}}]"
            ]
          },
          "metadata": {
            "tags": []
          },
          "execution_count": 10
        }
      ]
    },
    {
      "cell_type": "code",
      "metadata": {
        "id": "dib5cc8pM7gr",
        "colab_type": "code",
        "colab": {}
      },
      "source": [
        "# extract a single face from a given photograph\n",
        "def extract_face(imagename, required_size=(160, 160)):\n",
        "\t# load image from file\n",
        "\timage = Image.open(imagename)\n",
        "\t# convert to RGB, if needed\n",
        "\timage = image.convert('RGB')\n",
        "\t# convert to array\n",
        "\tpixels = asarray(image)\n",
        "\t# create the detector, using default weights\n",
        "\tdetector = MTCNN()\n",
        "\t# detect faces in the image\n",
        "\tresults = detector.detect_faces(pixels)\n",
        "\t# extract the bounding box from the first face\n",
        "\tx1, y1, width, height = results[0]['box']\n",
        "\t# bug fix\n",
        "\tx1, y1 = abs(x1), abs(y1)\n",
        "\tx2, y2 = x1 + width, y1 + height\n",
        "\t# extract the face\n",
        "\tface = pixels[y1:y2, x1:x2]\n",
        "\t# resize pixels to the model size\n",
        "\timage = Image.fromarray(face)\n",
        "\timage = image.resize(required_size)\n",
        "\tface_array = asarray(image)\n",
        "\treturn face_array\n",
        " \n"
      ],
      "execution_count": 0,
      "outputs": []
    },
    {
      "cell_type": "code",
      "metadata": {
        "id": "0bFfN9QDM_Qk",
        "colab_type": "code",
        "colab": {}
      },
      "source": [
        "# load the photo and extract the face\n",
        "pixels = extract_face(filename, required_size=(160, 160))"
      ],
      "execution_count": 0,
      "outputs": []
    },
    {
      "cell_type": "markdown",
      "metadata": {
        "id": "ehJHBfS0PdMc",
        "colab_type": "text"
      },
      "source": [
        "# Detect Faces"
      ]
    },
    {
      "cell_type": "code",
      "metadata": {
        "id": "iXrl9g_zN8hD",
        "colab_type": "code",
        "outputId": "df013dd1-8b09-467c-fb35-ce64a5095039",
        "colab": {
          "base_uri": "https://localhost:8080/",
          "height": 400
        }
      },
      "source": [
        "# demonstrate face detection on 5 Celebrity Faces Dataset\n",
        "from matplotlib import pyplot\n",
        "from mtcnn.mtcnn import MTCNN\n",
        "from os import listdir\n",
        " \n",
        "# extract a single face from a given photograph\n",
        "def extract_face(file, required_size=(160, 160)):\n",
        "\t# load image from file\n",
        "\timage = Image.open(file)\n",
        "\t# convert to RGB, if needed\n",
        "\timage = image.convert('RGB')\n",
        "\t# convert to array\n",
        "\tpixels = asarray(image)\n",
        "\t# create the detector, using default weights\n",
        "\tdetector = MTCNN()\n",
        "\t# detect faces in the image\n",
        "\tresults = detector.detect_faces(pixels)\n",
        "\t# extract the bounding box from the first face\n",
        "\tx1, y1, width, height = results[0]['box']\n",
        "\t# bug fix\n",
        "\tx1, y1 = abs(x1), abs(y1)\n",
        "\tx2, y2 = x1 + width, y1 + height\n",
        "\t# extract the face\n",
        "\tface = pixels[y1:y2, x1:x2]\n",
        "\t# resize pixels to the model size\n",
        "\timage = Image.fromarray(face)\n",
        "\timage = image.resize(required_size)\n",
        "\tface_array = asarray(image)\n",
        "\treturn face_array\n",
        " \n",
        "# specify folder to plot\n",
        "folder = '5-celebrity-faces-dataset/train/ben_afflek/'\n",
        "i = 1\n",
        "# enumerate files\n",
        "for file in listdir(folder):\n",
        "\t# path\n",
        "\tpath = folder + file\n",
        "\t# get face\n",
        "\tface = extract_face(path)\n",
        "\tprint(i, face.shape)\n",
        "\t#plot\n",
        "\tpyplot.subplot(2, 7, i)\n",
        "\tpyplot.axis('off')\n",
        "\tpyplot.imshow(face)\n",
        "\ti += 1\n",
        "pyplot.show()"
      ],
      "execution_count": 0,
      "outputs": [
        {
          "output_type": "error",
          "ename": "ModuleNotFoundError",
          "evalue": "ignored",
          "traceback": [
            "\u001b[0;31m---------------------------------------------------------------------------\u001b[0m",
            "\u001b[0;31mModuleNotFoundError\u001b[0m                       Traceback (most recent call last)",
            "\u001b[0;32m<ipython-input-1-3ea7945d96f8>\u001b[0m in \u001b[0;36m<module>\u001b[0;34m()\u001b[0m\n\u001b[1;32m      1\u001b[0m \u001b[0;32mfrom\u001b[0m \u001b[0mmatplotlib\u001b[0m \u001b[0;32mimport\u001b[0m \u001b[0mpyplot\u001b[0m\u001b[0;34m\u001b[0m\u001b[0;34m\u001b[0m\u001b[0m\n\u001b[0;32m----> 2\u001b[0;31m \u001b[0;32mfrom\u001b[0m \u001b[0mmtcnn\u001b[0m\u001b[0;34m.\u001b[0m\u001b[0mmtcnn\u001b[0m \u001b[0;32mimport\u001b[0m \u001b[0mMTCNN\u001b[0m\u001b[0;34m\u001b[0m\u001b[0;34m\u001b[0m\u001b[0m\n\u001b[0m\u001b[1;32m      3\u001b[0m \u001b[0;32mfrom\u001b[0m \u001b[0mos\u001b[0m \u001b[0;32mimport\u001b[0m \u001b[0mlistdir\u001b[0m\u001b[0;34m\u001b[0m\u001b[0;34m\u001b[0m\u001b[0m\n\u001b[1;32m      4\u001b[0m \u001b[0;34m\u001b[0m\u001b[0m\n\u001b[1;32m      5\u001b[0m \u001b[0;31m# extract a single face from a given photograph\u001b[0m\u001b[0;34m\u001b[0m\u001b[0;34m\u001b[0m\u001b[0;34m\u001b[0m\u001b[0m\n",
            "\u001b[0;31mModuleNotFoundError\u001b[0m: No module named 'mtcnn'",
            "",
            "\u001b[0;31m---------------------------------------------------------------------------\u001b[0;32m\nNOTE: If your import is failing due to a missing package, you can\nmanually install dependencies using either !pip or !apt.\n\nTo view examples of installing some common dependencies, click the\n\"Open Examples\" button below.\n\u001b[0;31m---------------------------------------------------------------------------\u001b[0m\n"
          ]
        }
      ]
    },
    {
      "cell_type": "code",
      "metadata": {
        "id": "PAggtaUJBm6O",
        "colab_type": "code",
        "outputId": "1ca648e3-6ce3-4b90-a22a-721a07ad7acf",
        "colab": {
          "base_uri": "https://localhost:8080/",
          "height": 223
        }
      },
      "source": [
        "# face detection for the 5 Celebrity Faces Dataset\n",
        "from os import listdir\n",
        "from os.path import isdir\n",
        "from PIL import Image\n",
        "from matplotlib import pyplot\n",
        "from numpy import savez_compressed\n",
        "from numpy import asarray\n",
        "from mtcnn.mtcnn import MTCNN\n",
        " \n",
        "# extract a single face from a given photograph\n",
        "def extract_face(filename, required_size=(160, 160)):\n",
        "\t# load image from file\n",
        "\timage = Image.open(filename)\n",
        "\t# convert to RGB, if needed\n",
        "\timage = image.convert('RGB')\n",
        "\t# convert to array\n",
        "\tpixels = asarray(image)\n",
        "\t# create the detector, using default weights\n",
        "\tdetector = MTCNN()\n",
        "\t# detect faces in the image\n",
        "\tresults = detector.detect_faces(pixels)\n",
        "\t# extract the bounding box from the first face\n",
        "\tx1, y1, width, height = results[0]['box']\n",
        "\t# bug fix\n",
        "\tx1, y1 = abs(x1), abs(y1)\n",
        "\tx2, y2 = x1 + width, y1 + height\n",
        "\t# extract the face\n",
        "\tface = pixels[y1:y2, x1:x2]\n",
        "\t# resize pixels to the model size\n",
        "\timage = Image.fromarray(face)\n",
        "\timage = image.resize(required_size)\n",
        "\tface_array = asarray(image)\n",
        "\treturn face_array\n",
        " \n",
        "# load images and extract faces for all images in a directory\n",
        "def load_faces(directory):\n",
        "\tfaces = list()\n",
        "\t# enumerate files\n",
        "\tfor filename in listdir(directory):\n",
        "\t\t# path\n",
        "\t\tpath = directory + filename\n",
        "\t\t# get face\n",
        "\t\tface = extract_face(path)\n",
        "\t\t# store\n",
        "\t\tfaces.append(face)\n",
        "\treturn faces\n",
        " \n",
        "# load a dataset that contains one subdir for each class that in turn contains images\n",
        "def load_dataset(directory):\n",
        "\tX, y = list(), list()\n",
        "\t# enumerate folders, on per class\n",
        "\tfor subdir in listdir(directory):\n",
        "\t\t# path\n",
        "\t\tpath = directory + subdir + '/'\n",
        "\t\t# skip any files that might be in the dir\n",
        "\t\tif not isdir(path):\n",
        "\t\t\tcontinue\n",
        "\t\t# load all faces in the subdirectory\n",
        "\t\tfaces = load_faces(path)\n",
        "\t\t# create labels\n",
        "\t\tlabels = [subdir for _ in range(len(faces))]\n",
        "\t\t# summarize progress\n",
        "\t\tprint('>loaded %d examples for class: %s' % (len(faces), subdir))\n",
        "\t\t# store\n",
        "\t\tX.extend(faces)\n",
        "\t\ty.extend(labels)\n",
        "\treturn asarray(X), asarray(y)\n",
        " \n",
        "# load train dataset\n",
        "trainX, trainy = load_dataset('5-celebrity-faces-dataset/train/')\n",
        "#print(trainX.shape, trainy.shape)\n",
        " load test dataset\n",
        "#testX, testy = load_dataset('5-celebrity-faces-dataset/val/')\n",
        " save arrays to one file in compressed format\n",
        "savez_compressed('5-celebrity-faces-dataset.npz', trainX, trainy, testX, testy)"
      ],
      "execution_count": 0,
      "outputs": [
        {
          "output_type": "stream",
          "text": [
            ">loaded 14 examples for class: ben_afflek\n",
            ">loaded 19 examples for class: madonna\n",
            ">loaded 22 examples for class: mindy_kaling\n",
            ">loaded 17 examples for class: elton_john\n",
            ">loaded 21 examples for class: jerry_seinfeld\n",
            "(93, 160, 160, 3) (93,)\n",
            ">loaded 5 examples for class: ben_afflek\n",
            ">loaded 5 examples for class: elton_john\n",
            ">loaded 5 examples for class: jerry_seinfeld\n",
            ">loaded 5 examples for class: madonna\n",
            ">loaded 5 examples for class: mindy_kaling\n"
          ],
          "name": "stdout"
        }
      ]
    },
    {
      "cell_type": "markdown",
      "metadata": {
        "id": "T743T9pQCRPe",
        "colab_type": "text"
      },
      "source": [
        "# Create Face Embeddings"
      ]
    },
    {
      "cell_type": "code",
      "metadata": {
        "id": "9rb7ifpCCIY1",
        "colab_type": "code",
        "outputId": "5948a346-fba3-4baf-ad76-800729e55b34",
        "colab": {
          "base_uri": "https://localhost:8080/",
          "height": 223
        }
      },
      "source": [
        "# face detection for the 5 Celebrity Faces Dataset\n",
        "from os import listdir\n",
        "from os.path import isdir\n",
        "from PIL import Image\n",
        "from matplotlib import pyplot\n",
        "from numpy import savez_compressed\n",
        "from numpy import asarray\n",
        "from mtcnn.mtcnn import MTCNN\n",
        " \n",
        "# extract a single face from a given photograph\n",
        "def extract_face(filename, required_size=(160, 160)):\n",
        "\t# load image from file\n",
        "\timage = Image.open(filename)\n",
        "\t# convert to RGB, if needed\n",
        "\timage = image.convert('RGB')\n",
        "\t# convert to array\n",
        "\tpixels = asarray(image)\n",
        "\t# create the detector, using default weights\n",
        "\tdetector = MTCNN()\n",
        "\t# detect faces in the image\n",
        "\tresults = detector.detect_faces(pixels)\n",
        "\t# extract the bounding box from the first face\n",
        "\tx1, y1, width, height = results[0]['box']\n",
        "\t# bug fix\n",
        "\tx1, y1 = abs(x1), abs(y1)\n",
        "\tx2, y2 = x1 + width, y1 + height\n",
        "\t# extract the face\n",
        "\tface = pixels[y1:y2, x1:x2]\n",
        "\t# resize pixels to the model size\n",
        "\timage = Image.fromarray(face)\n",
        "\timage = image.resize(required_size)\n",
        "\tface_array = asarray(image)\n",
        "\treturn face_array\n",
        " \n",
        "# load images and extract faces for all images in a directory\n",
        "def load_faces(directory):\n",
        "\tfaces = list()\n",
        "\t# enumerate files\n",
        "\tfor filename in listdir(directory):\n",
        "\t\t# path\n",
        "\t\tpath = directory + filename\n",
        "\t\t# get face\n",
        "\t\tface = extract_face(path)\n",
        "\t\t# store\n",
        "\t\tfaces.append(face)\n",
        "\treturn faces\n",
        " \n",
        "# load a dataset that contains one subdir for each class that in turn contains images\n",
        "def load_dataset(directory):\n",
        "\tX, y = list(), list()\n",
        "\t# enumerate folders, on per class\n",
        "\tfor subdir in listdir(directory):\n",
        "\t\t# path\n",
        "\t\tpath = directory + subdir + '/'\n",
        "\t\t# skip any files that might be in the dir\n",
        "\t\tif not isdir(path):\n",
        "\t\t\tcontinue\n",
        "\t\t# load all faces in the subdirectory\n",
        "\t\tfaces = load_faces(path)\n",
        "\t\t# create labels\n",
        "\t\tlabels = [subdir for _ in range(len(faces))]\n",
        "\t\t# summarize progress\n",
        "\t\tprint('>loaded %d examples for class: %s' % (len(faces), subdir))\n",
        "\t\t# store\n",
        "\t\tX.extend(faces)\n",
        "\t\ty.extend(labels)\n",
        "\treturn asarray(X), asarray(y)\n",
        " \n",
        "# load train dataset\n",
        "trainX, trainy = load_dataset('5-celebrity-faces-dataset/train/')\n",
        "print(trainX.shape, trainy.shape)\n",
        "# load test dataset\n",
        "testX, testy = load_dataset('5-celebrity-faces-dataset/val/')\n",
        "# save arrays to one file in compressed format\n",
        "savez_compressed('5-celebrity-faces-dataset.npz', trainX, trainy, testX, testy)"
      ],
      "execution_count": 0,
      "outputs": [
        {
          "output_type": "stream",
          "text": [
            ">loaded 14 examples for class: ben_afflek\n",
            ">loaded 19 examples for class: madonna\n",
            ">loaded 22 examples for class: mindy_kaling\n",
            ">loaded 17 examples for class: elton_john\n",
            ">loaded 21 examples for class: jerry_seinfeld\n",
            "(93, 160, 160, 3) (93,)\n",
            ">loaded 5 examples for class: ben_afflek\n",
            ">loaded 5 examples for class: elton_john\n",
            ">loaded 5 examples for class: jerry_seinfeld\n",
            ">loaded 5 examples for class: madonna\n",
            ">loaded 5 examples for class: mindy_kaling\n"
          ],
          "name": "stdout"
        }
      ]
    },
    {
      "cell_type": "code",
      "metadata": {
        "id": "fRNrx_W6ftsI",
        "colab_type": "code",
        "outputId": "32f3480c-63f7-4319-9ae5-a1ec29dd2764",
        "colab": {
          "base_uri": "https://localhost:8080/",
          "height": 280
        }
      },
      "source": [
        "# calculate a face embedding for each face in the dataset using facenet\n",
        "from numpy import load\n",
        "from numpy import expand_dims\n",
        "from numpy import asarray\n",
        "from numpy import savez_compressed\n",
        "from keras.models import load_model\n",
        "\n",
        "# get the face embedding for one face\n",
        "def get_embedding(model, face_pixels):\n",
        "\t# scale pixel values\n",
        "\tface_pixels = face_pixels.astype('float32')\n",
        "\t# standardize pixel values across channels (global)\n",
        "\tmean, std = face_pixels.mean(), face_pixels.std()\n",
        "\tface_pixels = (face_pixels - mean) / std\n",
        "\t# transform face into one sample\n",
        "\tsamples = expand_dims(face_pixels, axis=0)\n",
        "\t# make prediction to get embedding\n",
        "\tyhat = model.predict(samples)\n",
        "\treturn yhat[0]\n",
        "\n",
        "# load the face dataset\n",
        "data = load('5-celebrity-faces-dataset.npz')\n",
        "trainX, trainy, testX, testy = data['arr_0'], data['arr_1'], data['arr_2'], data['arr_3']\n",
        "print('Loaded: ', trainX.shape, trainy.shape, testX.shape, testy.shape)\n",
        "# load the facenet model\n",
        "model = load_model('facenet_keras.h5')\n",
        "print('Loaded Model')\n",
        "# convert each face in the train set to an embedding\n",
        "newTrainX = list()\n",
        "for face_pixels in trainX:\n",
        "\tembedding = get_embedding(model, face_pixels)\n",
        "\tnewTrainX.append(embedding)\n",
        "newTrainX = asarray(newTrainX)\n",
        "print(newTrainX.shape)\n",
        "# convert each face in the test set to an embedding\n",
        "newTestX = list()\n",
        "for face_pixels in testX:\n",
        "\tembedding = get_embedding(model, face_pixels)\n",
        "\tnewTestX.append(embedding)\n",
        "newTestX = asarray(newTestX)\n",
        "print(newTestX.shape)\n",
        "# save arrays to one file in compressed format\n",
        "savez_compressed('5-celebrity-faces-embeddings.npz', newTrainX, trainy, newTestX, testy)"
      ],
      "execution_count": 0,
      "outputs": [
        {
          "output_type": "stream",
          "text": [
            "Loaded:  (93, 160, 160, 3) (93,) (25, 160, 160, 3) (25,)\n",
            "WARNING:tensorflow:From /usr/local/lib/python3.6/dist-packages/keras/backend/tensorflow_backend.py:2041: The name tf.nn.fused_batch_norm is deprecated. Please use tf.compat.v1.nn.fused_batch_norm instead.\n",
            "\n",
            "WARNING:tensorflow:From /usr/local/lib/python3.6/dist-packages/keras/backend/tensorflow_backend.py:148: The name tf.placeholder_with_default is deprecated. Please use tf.compat.v1.placeholder_with_default instead.\n",
            "\n",
            "WARNING:tensorflow:From /usr/local/lib/python3.6/dist-packages/keras/backend/tensorflow_backend.py:3733: calling dropout (from tensorflow.python.ops.nn_ops) with keep_prob is deprecated and will be removed in a future version.\n",
            "Instructions for updating:\n",
            "Please use `rate` instead of `keep_prob`. Rate should be set to `rate = 1 - keep_prob`.\n"
          ],
          "name": "stdout"
        },
        {
          "output_type": "stream",
          "text": [
            "/usr/local/lib/python3.6/dist-packages/keras/engine/saving.py:310: UserWarning: No training configuration found in save file: the model was *not* compiled. Compile it manually.\n",
            "  warnings.warn('No training configuration found in save file: '\n"
          ],
          "name": "stderr"
        },
        {
          "output_type": "stream",
          "text": [
            "Loaded Model\n",
            "(93, 128)\n",
            "(25, 128)\n"
          ],
          "name": "stdout"
        }
      ]
    },
    {
      "cell_type": "markdown",
      "metadata": {
        "id": "5nUwtwZcCXsv",
        "colab_type": "text"
      },
      "source": [
        "# Perform Face Classification"
      ]
    },
    {
      "cell_type": "code",
      "metadata": {
        "id": "RfwZL6XOCLaP",
        "colab_type": "code",
        "outputId": "903e9aa7-31ae-423f-cde5-66960d387247",
        "colab": {
          "base_uri": "https://localhost:8080/",
          "height": 55
        }
      },
      "source": [
        "# develop a classifier for the 5 Celebrity Faces Dataset\n",
        "from numpy import load\n",
        "from sklearn.metrics import accuracy_score\n",
        "from sklearn.preprocessing import LabelEncoder\n",
        "from sklearn.preprocessing import Normalizer\n",
        "from sklearn.svm import SVC\n",
        "# load dataset\n",
        "data = load('5-celebrity-faces-embeddings.npz')\n",
        "trainX, trainy, testX, testy = data['arr_0'], data['arr_1'], data['arr_2'], data['arr_3']\n",
        "print('Dataset: train=%d, test=%d' % (trainX.shape[0], testX.shape[0]))\n",
        "# normalize input vectors\n",
        "in_encoder = Normalizer(norm='l2')\n",
        "trainX = in_encoder.transform(trainX)\n",
        "testX = in_encoder.transform(testX)\n",
        "# label encode targets\n",
        "out_encoder = LabelEncoder()\n",
        "out_encoder.fit(trainy)\n",
        "trainy = out_encoder.transform(trainy)\n",
        "testy = out_encoder.transform(testy)\n",
        "# fit model\n",
        "model = SVC(kernel='linear', probability=True)\n",
        "model.fit(trainX, trainy)\n",
        "# predict\n",
        "yhat_train = model.predict(trainX)\n",
        "yhat_test = model.predict(testX)\n",
        "# score\n",
        "score_train = accuracy_score(trainy, yhat_train)\n",
        "score_test = accuracy_score(testy, yhat_test)\n",
        "# summarize\n",
        "print('Accuracy: train=%.3f, test=%.3f' % (score_train*100, score_test*100))"
      ],
      "execution_count": 0,
      "outputs": [
        {
          "output_type": "stream",
          "text": [
            "Dataset: train=93, test=25\n",
            "Accuracy: train=100.000, test=100.000\n"
          ],
          "name": "stdout"
        }
      ]
    },
    {
      "cell_type": "code",
      "metadata": {
        "id": "1qWKTQzfCjP4",
        "colab_type": "code",
        "outputId": "62d11a02-904c-4b46-d3ad-97e462afb8e8",
        "colab": {
          "base_uri": "https://localhost:8080/",
          "height": 319
        }
      },
      "source": [
        "# develop a classifier for the 5 Celebrity Faces Dataset\n",
        "from random import choice\n",
        "from numpy import load\n",
        "from numpy import expand_dims\n",
        "from sklearn.preprocessing import LabelEncoder\n",
        "from sklearn.preprocessing import Normalizer\n",
        "from sklearn.svm import SVC\n",
        "from matplotlib import pyplot\n",
        "# load faces\n",
        "data = load('5-celebrity-faces-dataset.npz')\n",
        "testX_faces = data['arr_2']\n",
        "# load face embeddings\n",
        "data = load('5-celebrity-faces-embeddings.npz')\n",
        "trainX, trainy, testX, testy = data['arr_0'], data['arr_1'], data['arr_2'], data['arr_3']\n",
        "# normalize input vectors\n",
        "in_encoder = Normalizer(norm='l2')\n",
        "trainX = in_encoder.transform(trainX)\n",
        "testX = in_encoder.transform(testX)\n",
        "# label encode targets\n",
        "out_encoder = LabelEncoder()\n",
        "out_encoder.fit(trainy)\n",
        "trainy = out_encoder.transform(trainy)\n",
        "testy = out_encoder.transform(testy)\n",
        "# fit model\n",
        "model = SVC(kernel='linear', probability=True)\n",
        "model.fit(trainX, trainy)\n",
        "# test model on a random example from the test dataset\n",
        "selection = choice([i for i in range(testX.shape[0])])\n",
        "random_face_pixels = testX_faces[selection]\n",
        "random_face_emb = testX[selection]\n",
        "random_face_class = testy[selection]\n",
        "random_face_name = out_encoder.inverse_transform([random_face_class])\n",
        "# prediction for the face\n",
        "samples = expand_dims(random_face_emb, axis=0)\n",
        "yhat_class = model.predict(samples)\n",
        "yhat_prob = model.predict_proba(samples)\n",
        "# get name\n",
        "class_index = yhat_class[0]\n",
        "class_probability = yhat_prob[0,class_index] * 100\n",
        "predict_names = out_encoder.inverse_transform(yhat_class)\n",
        "print('Predicted: %s (%.3f)' % (predict_names[0], class_probability))\n",
        "print('Expected: %s' % random_face_name[0])\n",
        "# plot for fun\n",
        "pyplot.imshow(random_face_pixels)\n",
        "title = '%s (%.3f)' % (predict_names[0], class_probability)\n",
        "pyplot.title(title)\n",
        "pyplot.show()"
      ],
      "execution_count": 0,
      "outputs": [
        {
          "output_type": "stream",
          "text": [
            "Predicted: jerry_seinfeld (89.156)\n",
            "Expected: jerry_seinfeld\n"
          ],
          "name": "stdout"
        },
        {
          "output_type": "display_data",
          "data": {
            "image/png": "[encoded data removed]",
            "text/plain": [
              "<Figure size 432x288 with 1 Axes>"
            ]
          },
          "metadata": {
            "tags": []
          }
        }
      ]
    },
    {
      "cell_type": "code",
      "metadata": {
        "id": "2SNY0aSCDSro",
        "colab_type": "code",
        "colab": {}
      },
      "source": [
        ""
      ],
      "execution_count": 0,
      "outputs": []
    }
  ]
}